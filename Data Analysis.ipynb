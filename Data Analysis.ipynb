{
 "cells": [
  {
   "cell_type": "markdown",
   "metadata": {},
   "source": [
    "# Data Analysis of the Swedish Restaurants that sell pizza"
   ]
  },
  {
   "cell_type": "code",
   "execution_count": 41,
   "metadata": {},
   "outputs": [],
   "source": [
    "import pandas as pd\n",
    "import seaborn as sns\n",
    "import numpy as np\n",
    "import geocoder\n",
    "from dotenv import load_dotenv\n",
    "import os\n",
    "import matplotlib.pyplot as plt"
   ]
  },
  {
   "cell_type": "code",
   "execution_count": 42,
   "metadata": {},
   "outputs": [
    {
     "data": {
      "text/html": [
       "<div>\n",
       "<style scoped>\n",
       "    .dataframe tbody tr th:only-of-type {\n",
       "        vertical-align: middle;\n",
       "    }\n",
       "\n",
       "    .dataframe tbody tr th {\n",
       "        vertical-align: top;\n",
       "    }\n",
       "\n",
       "    .dataframe thead th {\n",
       "        text-align: right;\n",
       "    }\n",
       "</style>\n",
       "<table border=\"1\" class=\"dataframe\">\n",
       "  <thead>\n",
       "    <tr style=\"text-align: right;\">\n",
       "      <th></th>\n",
       "      <th>name</th>\n",
       "      <th>type</th>\n",
       "      <th>city</th>\n",
       "      <th>url</th>\n",
       "      <th>address</th>\n",
       "      <th>email</th>\n",
       "      <th>num_employees</th>\n",
       "      <th>telephone</th>\n",
       "      <th>last_year_revenue</th>\n",
       "      <th>last_year_result_after_financial_assets</th>\n",
       "      <th>cash_flow_word</th>\n",
       "      <th>cash_flow_percent</th>\n",
       "      <th>profit_margin_word</th>\n",
       "      <th>profit_margin_percent</th>\n",
       "      <th>solidity_word</th>\n",
       "      <th>solidity_percent</th>\n",
       "    </tr>\n",
       "  </thead>\n",
       "  <tbody>\n",
       "    <tr>\n",
       "      <th>0</th>\n",
       "      <td>Aneby Grill &amp; Pizzeria</td>\n",
       "      <td>Pizzeria</td>\n",
       "      <td>Aneby</td>\n",
       "      <td>None</td>\n",
       "      <td>Storgatan 51, 57832 Aneby</td>\n",
       "      <td>None</td>\n",
       "      <td>6</td>\n",
       "      <td>0380-418 19</td>\n",
       "      <td>7026</td>\n",
       "      <td>679</td>\n",
       "      <td>Very Good</td>\n",
       "      <td>484.1</td>\n",
       "      <td>Satisfactory</td>\n",
       "      <td>9.7</td>\n",
       "      <td>Very Good</td>\n",
       "      <td>74.2</td>\n",
       "    </tr>\n",
       "    <tr>\n",
       "      <th>1</th>\n",
       "      <td>Restaurang Estelle</td>\n",
       "      <td>Restaurant</td>\n",
       "      <td>Stenstorp</td>\n",
       "      <td>http://www.restaurangestelle.se/</td>\n",
       "      <td>Storgatan 21, 52160 Stenstorp</td>\n",
       "      <td>None</td>\n",
       "      <td>4</td>\n",
       "      <td>0500-45 80 23</td>\n",
       "      <td>4709</td>\n",
       "      <td>96</td>\n",
       "      <td>Not Satisfactory</td>\n",
       "      <td>23.9</td>\n",
       "      <td>Weak</td>\n",
       "      <td>2.4</td>\n",
       "      <td>Good</td>\n",
       "      <td>32.3</td>\n",
       "    </tr>\n",
       "    <tr>\n",
       "      <th>2</th>\n",
       "      <td>Le Ski Lodge</td>\n",
       "      <td>Restaurant</td>\n",
       "      <td>Storlien</td>\n",
       "      <td>http://www.leski.se</td>\n",
       "      <td>Storlien , 83799 Storlien</td>\n",
       "      <td>info@leski.se</td>\n",
       "      <td>0</td>\n",
       "      <td>0647-701 51</td>\n",
       "      <td>231</td>\n",
       "      <td>414</td>\n",
       "      <td>Satisfactory</td>\n",
       "      <td>131.7</td>\n",
       "      <td>Very Good</td>\n",
       "      <td>184.4</td>\n",
       "      <td>Good</td>\n",
       "      <td>31.5</td>\n",
       "    </tr>\n",
       "    <tr>\n",
       "      <th>3</th>\n",
       "      <td>Pizzeria Pinan</td>\n",
       "      <td>Restaurant</td>\n",
       "      <td>Hönö</td>\n",
       "      <td>http://www.pinanpizzeria.se</td>\n",
       "      <td>Göteborgsvägen 3, 47540 Hönö</td>\n",
       "      <td>None</td>\n",
       "      <td>&lt;NA&gt;</td>\n",
       "      <td>031-97 00 27</td>\n",
       "      <td>&lt;NA&gt;</td>\n",
       "      <td>&lt;NA&gt;</td>\n",
       "      <td>None</td>\n",
       "      <td>NaN</td>\n",
       "      <td>None</td>\n",
       "      <td>NaN</td>\n",
       "      <td>None</td>\n",
       "      <td>NaN</td>\n",
       "    </tr>\n",
       "    <tr>\n",
       "      <th>4</th>\n",
       "      <td>Valje Strandkrog Ab</td>\n",
       "      <td>Restaurant</td>\n",
       "      <td>Sölvesborg</td>\n",
       "      <td>None</td>\n",
       "      <td>Sölvesborgsvägen 4, 29477 Sölvesborg</td>\n",
       "      <td>None</td>\n",
       "      <td>5</td>\n",
       "      <td>073-180 27 05</td>\n",
       "      <td>3568</td>\n",
       "      <td>275</td>\n",
       "      <td>Very Good</td>\n",
       "      <td>200.4</td>\n",
       "      <td>Satisfactory</td>\n",
       "      <td>7.7</td>\n",
       "      <td>Very Good</td>\n",
       "      <td>54.7</td>\n",
       "    </tr>\n",
       "  </tbody>\n",
       "</table>\n",
       "</div>"
      ],
      "text/plain": [
       "                     name        type        city  \\\n",
       "0  Aneby Grill & Pizzeria    Pizzeria       Aneby   \n",
       "1      Restaurang Estelle  Restaurant   Stenstorp   \n",
       "2            Le Ski Lodge  Restaurant    Storlien   \n",
       "3          Pizzeria Pinan  Restaurant        Hönö   \n",
       "4     Valje Strandkrog Ab  Restaurant  Sölvesborg   \n",
       "\n",
       "                                url                               address  \\\n",
       "0                              None             Storgatan 51, 57832 Aneby   \n",
       "1  http://www.restaurangestelle.se/         Storgatan 21, 52160 Stenstorp   \n",
       "2               http://www.leski.se             Storlien , 83799 Storlien   \n",
       "3       http://www.pinanpizzeria.se          Göteborgsvägen 3, 47540 Hönö   \n",
       "4                              None  Sölvesborgsvägen 4, 29477 Sölvesborg   \n",
       "\n",
       "           email  num_employees      telephone  last_year_revenue  \\\n",
       "0           None              6    0380-418 19               7026   \n",
       "1           None              4  0500-45 80 23               4709   \n",
       "2  info@leski.se              0    0647-701 51                231   \n",
       "3           None           <NA>   031-97 00 27               <NA>   \n",
       "4           None              5  073-180 27 05               3568   \n",
       "\n",
       "   last_year_result_after_financial_assets    cash_flow_word  \\\n",
       "0                                      679         Very Good   \n",
       "1                                       96  Not Satisfactory   \n",
       "2                                      414      Satisfactory   \n",
       "3                                     <NA>              None   \n",
       "4                                      275         Very Good   \n",
       "\n",
       "   cash_flow_percent profit_margin_word  profit_margin_percent solidity_word  \\\n",
       "0              484.1       Satisfactory                    9.7     Very Good   \n",
       "1               23.9               Weak                    2.4          Good   \n",
       "2              131.7          Very Good                  184.4          Good   \n",
       "3                NaN               None                    NaN          None   \n",
       "4              200.4       Satisfactory                    7.7     Very Good   \n",
       "\n",
       "   solidity_percent  \n",
       "0              74.2  \n",
       "1              32.3  \n",
       "2              31.5  \n",
       "3               NaN  \n",
       "4              54.7  "
      ]
     },
     "execution_count": 42,
     "metadata": {},
     "output_type": "execute_result"
    }
   ],
   "source": [
    "df = pd.read_json('restaurant_data_webscrapping.json',dtype={\"num_employees\": \"Int32\",\n",
    "                                                 'last_year_revenue':\"Int32\",\n",
    "                                                 'last_year_result_after_financial_assets':\"Int32\"})\n",
    "df.head(5)"
   ]
  },
  {
   "cell_type": "markdown",
   "metadata": {},
   "source": [
    "Generate latitude and addresses of restaurants and cities if they do not exist"
   ]
  },
  {
   "cell_type": "code",
   "execution_count": 43,
   "metadata": {},
   "outputs": [],
   "source": [
    "# To use Bing as provider (Requires an API Key)\n",
    "#https://geocoder.readthedocs.io/providers/Bing.html\n",
    "# load_dotenv()\n",
    "# BING_API_KEY = os.getenv('BING_API_KEY')\n",
    "# g = geocoder.bing('Storlien, Sweden', key=BING_API_KEY)\n",
    "# g.json\n",
    "# MAPBOX_API_KEY = os.getenv('MAPBOX_API_KEY')\n",
    "# g = geocoder.mapbox('Storlien, Sweden', key=MAPBOX_API_KEY)\n",
    "# g.json"
   ]
  },
  {
   "cell_type": "code",
   "execution_count": 44,
   "metadata": {},
   "outputs": [],
   "source": [
    "def geocode_address_arcgis(address):\n",
    "    \"\"\"Function that uses geocoder library to get the latitude and longitude of an address\"\"\"\n",
    "    result = geocoder.arcgis(location=address)\n",
    "    if result.ok:\n",
    "        lat, lon = result.latlng\n",
    "        return {\"address_latitude\": lat, \"address_longitude\": lon}\n",
    "    else:\n",
    "        raise Exception(\"I have gotten a bad result :-(\")"
   ]
  },
  {
   "cell_type": "code",
   "execution_count": 45,
   "metadata": {},
   "outputs": [],
   "source": [
    "if 'address_latitude' not in list(df.columns) and 'address_longitude' not in list(df.columns):\n",
    "    try:\n",
    "        df = pd.read_json('restaurant_data_processed.json',  orient='split', dtype={\"num_employees\": \"Int32\",\n",
    "                                                 'last_year_revenue':\"Int32\",\n",
    "                                                 'last_year_result_after_financial_assets':\"Int32\",\n",
    "                                                 'population':\"Int32\"}) \n",
    "    except:\n",
    "        # Create the 'address_latitude' and 'address_longitude' columns with the geocode function and save to json\n",
    "        df[['address_latitude', 'address_longitude']] = df.apply(lambda row: geocode_address_arcgis(row['address']), axis='columns', result_type='expand')\n",
    "        df.to_json('restaurant_data_processed.json', index=False, orient='split')\n",
    "\n",
    "        # Get the list of cities with the country\n",
    "        city_country = df['city'].apply(lambda x: x + ', Sweden')\n",
    "        df_city_country = pd.DataFrame(city_country.unique(), columns=['city_country']) # Get unique cities\n",
    "\n",
    "        # Get the longitude and latitude of each city\n",
    "        df_city_country[['city_latitude', 'city_longitude']] = df_city_country.apply(lambda row: geocode_address_arcgis(row['city_country']), axis='columns', result_type='expand')\n",
    "\n",
    "        df_city_country['city_country'] = df_city_country['city_country'].apply(lambda x: x.replace(', Sweden','')) # Quit the country\n",
    "        df_city_country.columns = ['city','city_latitude','city_longitude'] # Rename the city column\n",
    "\n",
    "        df = df.merge(df_city_country, how='left', on='city') # Merge the result with the original df\n",
    "        df.to_json('restaurant_data_processed.json', index=False, orient='split') # Save this last json\n",
    "\n",
    "        # Get the 2022 population of the cities\n",
    "        url_sweden_population = 'https://www.scb.se/en/finding-statistics/statistics-by-subject-area/population/population-composition/population-statistics/pong/tables-and-graphs/population-statistics---year/population-in-the-country-counties-and-municipalities-on-31-december-2022-and-population-change-in-2022/'\n",
    "        dfs = pd.read_html(url_sweden_population, flavor='lxml')\n",
    "        df_sw_population = dfs[0]\n",
    "        df_sw_population = df_sw_population.iloc[:,1:3].droplevel(0, axis=1).droplevel(0, axis=1) # Select only the city and total population columns, and reduce the multi index columns\n",
    "        df_sw_population.columns = ['city', 'population']\n",
    "        df_sw_population['population'] = df_sw_population.apply(lambda row: row['population'].replace(\"\\xa0\", \"\"), axis='columns')\n",
    "        df_sw_population['population'].astype('Int32')\n",
    "        df = df.merge(df_sw_population, how='left', on='city') # Merge the result with the original df\n",
    "        df.to_json('restaurant_data_processed.json', index=False, orient='split') # Save this last json"
   ]
  },
  {
   "cell_type": "code",
   "execution_count": 46,
   "metadata": {},
   "outputs": [
    {
     "data": {
      "text/html": [
       "<div>\n",
       "<style scoped>\n",
       "    .dataframe tbody tr th:only-of-type {\n",
       "        vertical-align: middle;\n",
       "    }\n",
       "\n",
       "    .dataframe tbody tr th {\n",
       "        vertical-align: top;\n",
       "    }\n",
       "\n",
       "    .dataframe thead th {\n",
       "        text-align: right;\n",
       "    }\n",
       "</style>\n",
       "<table border=\"1\" class=\"dataframe\">\n",
       "  <thead>\n",
       "    <tr style=\"text-align: right;\">\n",
       "      <th></th>\n",
       "      <th>name</th>\n",
       "      <th>type</th>\n",
       "      <th>city</th>\n",
       "      <th>url</th>\n",
       "      <th>address</th>\n",
       "      <th>email</th>\n",
       "      <th>num_employees</th>\n",
       "      <th>telephone</th>\n",
       "      <th>last_year_revenue</th>\n",
       "      <th>last_year_result_after_financial_assets</th>\n",
       "      <th>...</th>\n",
       "      <th>cash_flow_percent</th>\n",
       "      <th>profit_margin_word</th>\n",
       "      <th>profit_margin_percent</th>\n",
       "      <th>solidity_word</th>\n",
       "      <th>solidity_percent</th>\n",
       "      <th>address_latitude</th>\n",
       "      <th>address_longitude</th>\n",
       "      <th>city_latitude</th>\n",
       "      <th>city_longitude</th>\n",
       "      <th>population</th>\n",
       "    </tr>\n",
       "  </thead>\n",
       "  <tbody>\n",
       "    <tr>\n",
       "      <th>0</th>\n",
       "      <td>Aneby Grill &amp; Pizzeria</td>\n",
       "      <td>Pizzeria</td>\n",
       "      <td>Aneby</td>\n",
       "      <td>0</td>\n",
       "      <td>Storgatan 51, 57832 Aneby</td>\n",
       "      <td>0</td>\n",
       "      <td>6</td>\n",
       "      <td>1</td>\n",
       "      <td>7026</td>\n",
       "      <td>679</td>\n",
       "      <td>...</td>\n",
       "      <td>484.1</td>\n",
       "      <td>Satisfactory</td>\n",
       "      <td>9.7</td>\n",
       "      <td>Very Good</td>\n",
       "      <td>74.2</td>\n",
       "      <td>57.839266</td>\n",
       "      <td>14.817377</td>\n",
       "      <td>57.83955</td>\n",
       "      <td>14.81813</td>\n",
       "      <td>6824</td>\n",
       "    </tr>\n",
       "    <tr>\n",
       "      <th>1</th>\n",
       "      <td>Restaurang Estelle</td>\n",
       "      <td>Restaurant</td>\n",
       "      <td>Stenstorp</td>\n",
       "      <td>1</td>\n",
       "      <td>Storgatan 21, 52160 Stenstorp</td>\n",
       "      <td>0</td>\n",
       "      <td>4</td>\n",
       "      <td>1</td>\n",
       "      <td>4709</td>\n",
       "      <td>96</td>\n",
       "      <td>...</td>\n",
       "      <td>23.9</td>\n",
       "      <td>Weak</td>\n",
       "      <td>2.4</td>\n",
       "      <td>Good</td>\n",
       "      <td>32.3</td>\n",
       "      <td>58.272077</td>\n",
       "      <td>13.712535</td>\n",
       "      <td>58.27271</td>\n",
       "      <td>13.71599</td>\n",
       "      <td>&lt;NA&gt;</td>\n",
       "    </tr>\n",
       "    <tr>\n",
       "      <th>2</th>\n",
       "      <td>Le Ski Lodge</td>\n",
       "      <td>Restaurant</td>\n",
       "      <td>Storlien</td>\n",
       "      <td>1</td>\n",
       "      <td>Storlien , 83799 Storlien</td>\n",
       "      <td>1</td>\n",
       "      <td>0</td>\n",
       "      <td>1</td>\n",
       "      <td>231</td>\n",
       "      <td>414</td>\n",
       "      <td>...</td>\n",
       "      <td>131.7</td>\n",
       "      <td>Very Good</td>\n",
       "      <td>184.4</td>\n",
       "      <td>Good</td>\n",
       "      <td>31.5</td>\n",
       "      <td>63.317140</td>\n",
       "      <td>12.097400</td>\n",
       "      <td>63.31558</td>\n",
       "      <td>12.10339</td>\n",
       "      <td>&lt;NA&gt;</td>\n",
       "    </tr>\n",
       "    <tr>\n",
       "      <th>3</th>\n",
       "      <td>Pizzeria Pinan</td>\n",
       "      <td>Restaurant</td>\n",
       "      <td>Hönö</td>\n",
       "      <td>1</td>\n",
       "      <td>Göteborgsvägen 3, 47540 Hönö</td>\n",
       "      <td>0</td>\n",
       "      <td>&lt;NA&gt;</td>\n",
       "      <td>1</td>\n",
       "      <td>&lt;NA&gt;</td>\n",
       "      <td>&lt;NA&gt;</td>\n",
       "      <td>...</td>\n",
       "      <td>NaN</td>\n",
       "      <td>None</td>\n",
       "      <td>NaN</td>\n",
       "      <td>None</td>\n",
       "      <td>NaN</td>\n",
       "      <td>57.698614</td>\n",
       "      <td>11.665229</td>\n",
       "      <td>57.68268</td>\n",
       "      <td>11.64547</td>\n",
       "      <td>&lt;NA&gt;</td>\n",
       "    </tr>\n",
       "    <tr>\n",
       "      <th>4</th>\n",
       "      <td>Valje Strandkrog Ab</td>\n",
       "      <td>Restaurant</td>\n",
       "      <td>Sölvesborg</td>\n",
       "      <td>0</td>\n",
       "      <td>Sölvesborgsvägen 4, 29477 Sölvesborg</td>\n",
       "      <td>0</td>\n",
       "      <td>5</td>\n",
       "      <td>1</td>\n",
       "      <td>3568</td>\n",
       "      <td>275</td>\n",
       "      <td>...</td>\n",
       "      <td>200.4</td>\n",
       "      <td>Satisfactory</td>\n",
       "      <td>7.7</td>\n",
       "      <td>Very Good</td>\n",
       "      <td>54.7</td>\n",
       "      <td>56.063119</td>\n",
       "      <td>14.540006</td>\n",
       "      <td>56.05295</td>\n",
       "      <td>14.58356</td>\n",
       "      <td>17514</td>\n",
       "    </tr>\n",
       "    <tr>\n",
       "      <th>...</th>\n",
       "      <td>...</td>\n",
       "      <td>...</td>\n",
       "      <td>...</td>\n",
       "      <td>...</td>\n",
       "      <td>...</td>\n",
       "      <td>...</td>\n",
       "      <td>...</td>\n",
       "      <td>...</td>\n",
       "      <td>...</td>\n",
       "      <td>...</td>\n",
       "      <td>...</td>\n",
       "      <td>...</td>\n",
       "      <td>...</td>\n",
       "      <td>...</td>\n",
       "      <td>...</td>\n",
       "      <td>...</td>\n",
       "      <td>...</td>\n",
       "      <td>...</td>\n",
       "      <td>...</td>\n",
       "      <td>...</td>\n",
       "      <td>...</td>\n",
       "    </tr>\n",
       "    <tr>\n",
       "      <th>1923</th>\n",
       "      <td>Melkers Restaurang &amp; Pizzeria</td>\n",
       "      <td>Pizzeria</td>\n",
       "      <td>Holmsjö</td>\n",
       "      <td>1</td>\n",
       "      <td>Holmsjövägen 87, 37337 Holmsjö</td>\n",
       "      <td>0</td>\n",
       "      <td>&lt;NA&gt;</td>\n",
       "      <td>1</td>\n",
       "      <td>&lt;NA&gt;</td>\n",
       "      <td>&lt;NA&gt;</td>\n",
       "      <td>...</td>\n",
       "      <td>NaN</td>\n",
       "      <td>None</td>\n",
       "      <td>NaN</td>\n",
       "      <td>None</td>\n",
       "      <td>NaN</td>\n",
       "      <td>56.422465</td>\n",
       "      <td>15.539309</td>\n",
       "      <td>56.42329</td>\n",
       "      <td>15.53884</td>\n",
       "      <td>&lt;NA&gt;</td>\n",
       "    </tr>\n",
       "    <tr>\n",
       "      <th>1924</th>\n",
       "      <td>Uncle Joe'S</td>\n",
       "      <td>Restaurant</td>\n",
       "      <td>Visby</td>\n",
       "      <td>1</td>\n",
       "      <td>Langs väg 2, 62150 Visby</td>\n",
       "      <td>1</td>\n",
       "      <td>19</td>\n",
       "      <td>1</td>\n",
       "      <td>20931</td>\n",
       "      <td>586</td>\n",
       "      <td>...</td>\n",
       "      <td>115.9</td>\n",
       "      <td>Weak</td>\n",
       "      <td>2.8</td>\n",
       "      <td>Good</td>\n",
       "      <td>39.6</td>\n",
       "      <td>57.615535</td>\n",
       "      <td>18.283874</td>\n",
       "      <td>57.63844</td>\n",
       "      <td>18.30004</td>\n",
       "      <td>&lt;NA&gt;</td>\n",
       "    </tr>\n",
       "    <tr>\n",
       "      <th>1925</th>\n",
       "      <td>Gamlegårdens Grekiska Restaurang</td>\n",
       "      <td>Restaurant</td>\n",
       "      <td>Kristianstad</td>\n",
       "      <td>1</td>\n",
       "      <td>Näsbychaussén 70, 29136 Kristianstad</td>\n",
       "      <td>0</td>\n",
       "      <td>4</td>\n",
       "      <td>1</td>\n",
       "      <td>3200</td>\n",
       "      <td>33</td>\n",
       "      <td>...</td>\n",
       "      <td>105.5</td>\n",
       "      <td>Weak</td>\n",
       "      <td>1.0</td>\n",
       "      <td>Good</td>\n",
       "      <td>31.5</td>\n",
       "      <td>56.055260</td>\n",
       "      <td>14.159496</td>\n",
       "      <td>56.03099</td>\n",
       "      <td>14.15416</td>\n",
       "      <td>86738</td>\n",
       "    </tr>\n",
       "    <tr>\n",
       "      <th>1926</th>\n",
       "      <td>Stopet Hotell &amp; Värdshus</td>\n",
       "      <td>Other</td>\n",
       "      <td>Grängesberg</td>\n",
       "      <td>1</td>\n",
       "      <td>Kopparbergsvägen 60, 77230 Grängesberg</td>\n",
       "      <td>0</td>\n",
       "      <td>8</td>\n",
       "      <td>1</td>\n",
       "      <td>8131</td>\n",
       "      <td>562</td>\n",
       "      <td>...</td>\n",
       "      <td>64.7</td>\n",
       "      <td>Satisfactory</td>\n",
       "      <td>7.5</td>\n",
       "      <td>Very Good</td>\n",
       "      <td>47.3</td>\n",
       "      <td>60.076384</td>\n",
       "      <td>15.007630</td>\n",
       "      <td>60.07598</td>\n",
       "      <td>15.00664</td>\n",
       "      <td>&lt;NA&gt;</td>\n",
       "    </tr>\n",
       "    <tr>\n",
       "      <th>1927</th>\n",
       "      <td>Sjöhagens Kök, Bar Och Pizza</td>\n",
       "      <td>Restaurant</td>\n",
       "      <td>Björklinge</td>\n",
       "      <td>1</td>\n",
       "      <td>Nävervägen 12, 74361 Björklinge</td>\n",
       "      <td>0</td>\n",
       "      <td>4</td>\n",
       "      <td>1</td>\n",
       "      <td>2848</td>\n",
       "      <td>-233</td>\n",
       "      <td>...</td>\n",
       "      <td>147.5</td>\n",
       "      <td>Not Satisfactory</td>\n",
       "      <td>-8.1</td>\n",
       "      <td>Good</td>\n",
       "      <td>37.7</td>\n",
       "      <td>60.036084</td>\n",
       "      <td>17.551379</td>\n",
       "      <td>60.02919</td>\n",
       "      <td>17.55278</td>\n",
       "      <td>&lt;NA&gt;</td>\n",
       "    </tr>\n",
       "  </tbody>\n",
       "</table>\n",
       "<p>1928 rows × 21 columns</p>\n",
       "</div>"
      ],
      "text/plain": [
       "                                  name        type          city  url  \\\n",
       "0               Aneby Grill & Pizzeria    Pizzeria         Aneby    0   \n",
       "1                   Restaurang Estelle  Restaurant     Stenstorp    1   \n",
       "2                         Le Ski Lodge  Restaurant      Storlien    1   \n",
       "3                       Pizzeria Pinan  Restaurant          Hönö    1   \n",
       "4                  Valje Strandkrog Ab  Restaurant    Sölvesborg    0   \n",
       "...                                ...         ...           ...  ...   \n",
       "1923     Melkers Restaurang & Pizzeria    Pizzeria       Holmsjö    1   \n",
       "1924                       Uncle Joe'S  Restaurant         Visby    1   \n",
       "1925  Gamlegårdens Grekiska Restaurang  Restaurant  Kristianstad    1   \n",
       "1926          Stopet Hotell & Värdshus       Other   Grängesberg    1   \n",
       "1927      Sjöhagens Kök, Bar Och Pizza  Restaurant    Björklinge    1   \n",
       "\n",
       "                                     address  email  num_employees  telephone  \\\n",
       "0                  Storgatan 51, 57832 Aneby      0              6          1   \n",
       "1              Storgatan 21, 52160 Stenstorp      0              4          1   \n",
       "2                  Storlien , 83799 Storlien      1              0          1   \n",
       "3               Göteborgsvägen 3, 47540 Hönö      0           <NA>          1   \n",
       "4       Sölvesborgsvägen 4, 29477 Sölvesborg      0              5          1   \n",
       "...                                      ...    ...            ...        ...   \n",
       "1923          Holmsjövägen 87, 37337 Holmsjö      0           <NA>          1   \n",
       "1924                Langs väg 2, 62150 Visby      1             19          1   \n",
       "1925    Näsbychaussén 70, 29136 Kristianstad      0              4          1   \n",
       "1926  Kopparbergsvägen 60, 77230 Grängesberg      0              8          1   \n",
       "1927         Nävervägen 12, 74361 Björklinge      0              4          1   \n",
       "\n",
       "      last_year_revenue  last_year_result_after_financial_assets  ...  \\\n",
       "0                  7026                                      679  ...   \n",
       "1                  4709                                       96  ...   \n",
       "2                   231                                      414  ...   \n",
       "3                  <NA>                                     <NA>  ...   \n",
       "4                  3568                                      275  ...   \n",
       "...                 ...                                      ...  ...   \n",
       "1923               <NA>                                     <NA>  ...   \n",
       "1924              20931                                      586  ...   \n",
       "1925               3200                                       33  ...   \n",
       "1926               8131                                      562  ...   \n",
       "1927               2848                                     -233  ...   \n",
       "\n",
       "     cash_flow_percent  profit_margin_word profit_margin_percent  \\\n",
       "0                484.1        Satisfactory                   9.7   \n",
       "1                 23.9                Weak                   2.4   \n",
       "2                131.7           Very Good                 184.4   \n",
       "3                  NaN                None                   NaN   \n",
       "4                200.4        Satisfactory                   7.7   \n",
       "...                ...                 ...                   ...   \n",
       "1923               NaN                None                   NaN   \n",
       "1924             115.9                Weak                   2.8   \n",
       "1925             105.5                Weak                   1.0   \n",
       "1926              64.7        Satisfactory                   7.5   \n",
       "1927             147.5    Not Satisfactory                  -8.1   \n",
       "\n",
       "      solidity_word solidity_percent  address_latitude  address_longitude  \\\n",
       "0         Very Good             74.2         57.839266          14.817377   \n",
       "1              Good             32.3         58.272077          13.712535   \n",
       "2              Good             31.5         63.317140          12.097400   \n",
       "3              None              NaN         57.698614          11.665229   \n",
       "4         Very Good             54.7         56.063119          14.540006   \n",
       "...             ...              ...               ...                ...   \n",
       "1923           None              NaN         56.422465          15.539309   \n",
       "1924           Good             39.6         57.615535          18.283874   \n",
       "1925           Good             31.5         56.055260          14.159496   \n",
       "1926      Very Good             47.3         60.076384          15.007630   \n",
       "1927           Good             37.7         60.036084          17.551379   \n",
       "\n",
       "      city_latitude  city_longitude  population  \n",
       "0          57.83955        14.81813        6824  \n",
       "1          58.27271        13.71599        <NA>  \n",
       "2          63.31558        12.10339        <NA>  \n",
       "3          57.68268        11.64547        <NA>  \n",
       "4          56.05295        14.58356       17514  \n",
       "...             ...             ...         ...  \n",
       "1923       56.42329        15.53884        <NA>  \n",
       "1924       57.63844        18.30004        <NA>  \n",
       "1925       56.03099        14.15416       86738  \n",
       "1926       60.07598        15.00664        <NA>  \n",
       "1927       60.02919        17.55278        <NA>  \n",
       "\n",
       "[1928 rows x 21 columns]"
      ]
     },
     "execution_count": 46,
     "metadata": {},
     "output_type": "execute_result"
    }
   ],
   "source": [
    "df"
   ]
  },
  {
   "cell_type": "code",
   "execution_count": 47,
   "metadata": {},
   "outputs": [
    {
     "data": {
      "text/html": [
       "<div>\n",
       "<style scoped>\n",
       "    .dataframe tbody tr th:only-of-type {\n",
       "        vertical-align: middle;\n",
       "    }\n",
       "\n",
       "    .dataframe tbody tr th {\n",
       "        vertical-align: top;\n",
       "    }\n",
       "\n",
       "    .dataframe thead th {\n",
       "        text-align: right;\n",
       "    }\n",
       "</style>\n",
       "<table border=\"1\" class=\"dataframe\">\n",
       "  <thead>\n",
       "    <tr style=\"text-align: right;\">\n",
       "      <th></th>\n",
       "      <th>name</th>\n",
       "      <th>type</th>\n",
       "      <th>city</th>\n",
       "      <th>url</th>\n",
       "      <th>address</th>\n",
       "      <th>email</th>\n",
       "      <th>num_employees</th>\n",
       "      <th>telephone</th>\n",
       "      <th>last_year_revenue</th>\n",
       "      <th>last_year_result_after_financial_assets</th>\n",
       "      <th>...</th>\n",
       "      <th>cash_flow_percent</th>\n",
       "      <th>profit_margin_word</th>\n",
       "      <th>profit_margin_percent</th>\n",
       "      <th>solidity_word</th>\n",
       "      <th>solidity_percent</th>\n",
       "      <th>address_latitude</th>\n",
       "      <th>address_longitude</th>\n",
       "      <th>city_latitude</th>\n",
       "      <th>city_longitude</th>\n",
       "      <th>population</th>\n",
       "    </tr>\n",
       "  </thead>\n",
       "  <tbody>\n",
       "    <tr>\n",
       "      <th>0</th>\n",
       "      <td>Aneby Grill &amp; Pizzeria</td>\n",
       "      <td>Pizzeria</td>\n",
       "      <td>Aneby</td>\n",
       "      <td>0</td>\n",
       "      <td>Storgatan 51, 57832 Aneby</td>\n",
       "      <td>0</td>\n",
       "      <td>6</td>\n",
       "      <td>1</td>\n",
       "      <td>7026</td>\n",
       "      <td>679</td>\n",
       "      <td>...</td>\n",
       "      <td>484.1</td>\n",
       "      <td>Satisfactory</td>\n",
       "      <td>9.7</td>\n",
       "      <td>Very Good</td>\n",
       "      <td>74.2</td>\n",
       "      <td>57.839266</td>\n",
       "      <td>14.817377</td>\n",
       "      <td>57.83955</td>\n",
       "      <td>14.81813</td>\n",
       "      <td>6824</td>\n",
       "    </tr>\n",
       "    <tr>\n",
       "      <th>1</th>\n",
       "      <td>Restaurang Estelle</td>\n",
       "      <td>Restaurant</td>\n",
       "      <td>Stenstorp</td>\n",
       "      <td>1</td>\n",
       "      <td>Storgatan 21, 52160 Stenstorp</td>\n",
       "      <td>0</td>\n",
       "      <td>4</td>\n",
       "      <td>1</td>\n",
       "      <td>4709</td>\n",
       "      <td>96</td>\n",
       "      <td>...</td>\n",
       "      <td>23.9</td>\n",
       "      <td>Weak</td>\n",
       "      <td>2.4</td>\n",
       "      <td>Good</td>\n",
       "      <td>32.3</td>\n",
       "      <td>58.272077</td>\n",
       "      <td>13.712535</td>\n",
       "      <td>58.27271</td>\n",
       "      <td>13.71599</td>\n",
       "      <td>&lt;NA&gt;</td>\n",
       "    </tr>\n",
       "    <tr>\n",
       "      <th>2</th>\n",
       "      <td>Le Ski Lodge</td>\n",
       "      <td>Restaurant</td>\n",
       "      <td>Storlien</td>\n",
       "      <td>1</td>\n",
       "      <td>Storlien , 83799 Storlien</td>\n",
       "      <td>1</td>\n",
       "      <td>0</td>\n",
       "      <td>1</td>\n",
       "      <td>231</td>\n",
       "      <td>414</td>\n",
       "      <td>...</td>\n",
       "      <td>131.7</td>\n",
       "      <td>Very Good</td>\n",
       "      <td>184.4</td>\n",
       "      <td>Good</td>\n",
       "      <td>31.5</td>\n",
       "      <td>63.317140</td>\n",
       "      <td>12.097400</td>\n",
       "      <td>63.31558</td>\n",
       "      <td>12.10339</td>\n",
       "      <td>&lt;NA&gt;</td>\n",
       "    </tr>\n",
       "    <tr>\n",
       "      <th>3</th>\n",
       "      <td>Pizzeria Pinan</td>\n",
       "      <td>Restaurant</td>\n",
       "      <td>Hönö</td>\n",
       "      <td>1</td>\n",
       "      <td>Göteborgsvägen 3, 47540 Hönö</td>\n",
       "      <td>0</td>\n",
       "      <td>&lt;NA&gt;</td>\n",
       "      <td>1</td>\n",
       "      <td>&lt;NA&gt;</td>\n",
       "      <td>&lt;NA&gt;</td>\n",
       "      <td>...</td>\n",
       "      <td>NaN</td>\n",
       "      <td>None</td>\n",
       "      <td>NaN</td>\n",
       "      <td>None</td>\n",
       "      <td>NaN</td>\n",
       "      <td>57.698614</td>\n",
       "      <td>11.665229</td>\n",
       "      <td>57.68268</td>\n",
       "      <td>11.64547</td>\n",
       "      <td>&lt;NA&gt;</td>\n",
       "    </tr>\n",
       "    <tr>\n",
       "      <th>4</th>\n",
       "      <td>Valje Strandkrog Ab</td>\n",
       "      <td>Restaurant</td>\n",
       "      <td>Sölvesborg</td>\n",
       "      <td>0</td>\n",
       "      <td>Sölvesborgsvägen 4, 29477 Sölvesborg</td>\n",
       "      <td>0</td>\n",
       "      <td>5</td>\n",
       "      <td>1</td>\n",
       "      <td>3568</td>\n",
       "      <td>275</td>\n",
       "      <td>...</td>\n",
       "      <td>200.4</td>\n",
       "      <td>Satisfactory</td>\n",
       "      <td>7.7</td>\n",
       "      <td>Very Good</td>\n",
       "      <td>54.7</td>\n",
       "      <td>56.063119</td>\n",
       "      <td>14.540006</td>\n",
       "      <td>56.05295</td>\n",
       "      <td>14.58356</td>\n",
       "      <td>17514</td>\n",
       "    </tr>\n",
       "  </tbody>\n",
       "</table>\n",
       "<p>5 rows × 21 columns</p>\n",
       "</div>"
      ],
      "text/plain": [
       "                     name        type        city  url  \\\n",
       "0  Aneby Grill & Pizzeria    Pizzeria       Aneby    0   \n",
       "1      Restaurang Estelle  Restaurant   Stenstorp    1   \n",
       "2            Le Ski Lodge  Restaurant    Storlien    1   \n",
       "3          Pizzeria Pinan  Restaurant        Hönö    1   \n",
       "4     Valje Strandkrog Ab  Restaurant  Sölvesborg    0   \n",
       "\n",
       "                                address  email  num_employees  telephone  \\\n",
       "0             Storgatan 51, 57832 Aneby      0              6          1   \n",
       "1         Storgatan 21, 52160 Stenstorp      0              4          1   \n",
       "2             Storlien , 83799 Storlien      1              0          1   \n",
       "3          Göteborgsvägen 3, 47540 Hönö      0           <NA>          1   \n",
       "4  Sölvesborgsvägen 4, 29477 Sölvesborg      0              5          1   \n",
       "\n",
       "   last_year_revenue  last_year_result_after_financial_assets  ...  \\\n",
       "0               7026                                      679  ...   \n",
       "1               4709                                       96  ...   \n",
       "2                231                                      414  ...   \n",
       "3               <NA>                                     <NA>  ...   \n",
       "4               3568                                      275  ...   \n",
       "\n",
       "  cash_flow_percent  profit_margin_word profit_margin_percent  solidity_word  \\\n",
       "0             484.1        Satisfactory                   9.7      Very Good   \n",
       "1              23.9                Weak                   2.4           Good   \n",
       "2             131.7           Very Good                 184.4           Good   \n",
       "3               NaN                None                   NaN           None   \n",
       "4             200.4        Satisfactory                   7.7      Very Good   \n",
       "\n",
       "  solidity_percent  address_latitude  address_longitude  city_latitude  \\\n",
       "0             74.2         57.839266          14.817377       57.83955   \n",
       "1             32.3         58.272077          13.712535       58.27271   \n",
       "2             31.5         63.317140          12.097400       63.31558   \n",
       "3              NaN         57.698614          11.665229       57.68268   \n",
       "4             54.7         56.063119          14.540006       56.05295   \n",
       "\n",
       "   city_longitude  population  \n",
       "0        14.81813        6824  \n",
       "1        13.71599        <NA>  \n",
       "2        12.10339        <NA>  \n",
       "3        11.64547        <NA>  \n",
       "4        14.58356       17514  \n",
       "\n",
       "[5 rows x 21 columns]"
      ]
     },
     "execution_count": 47,
     "metadata": {},
     "output_type": "execute_result"
    }
   ],
   "source": [
    "df.head()"
   ]
  },
  {
   "cell_type": "code",
   "execution_count": 48,
   "metadata": {},
   "outputs": [
    {
     "name": "stdout",
     "output_type": "stream",
     "text": [
      "<class 'pandas.core.frame.DataFrame'>\n",
      "RangeIndex: 1928 entries, 0 to 1927\n",
      "Data columns (total 21 columns):\n",
      " #   Column                                   Non-Null Count  Dtype  \n",
      "---  ------                                   --------------  -----  \n",
      " 0   name                                     1928 non-null   object \n",
      " 1   type                                     1928 non-null   object \n",
      " 2   city                                     1928 non-null   object \n",
      " 3   url                                      1928 non-null   int64  \n",
      " 4   address                                  1928 non-null   object \n",
      " 5   email                                    1928 non-null   int64  \n",
      " 6   num_employees                            1146 non-null   Int32  \n",
      " 7   telephone                                1928 non-null   int64  \n",
      " 8   last_year_revenue                        1146 non-null   Int32  \n",
      " 9   last_year_result_after_financial_assets  1146 non-null   Int32  \n",
      " 10  cash_flow_word                           1112 non-null   object \n",
      " 11  cash_flow_percent                        1112 non-null   float64\n",
      " 12  profit_margin_word                       1065 non-null   object \n",
      " 13  profit_margin_percent                    1065 non-null   float64\n",
      " 14  solidity_word                            1142 non-null   object \n",
      " 15  solidity_percent                         1142 non-null   float64\n",
      " 16  address_latitude                         1928 non-null   float64\n",
      " 17  address_longitude                        1928 non-null   float64\n",
      " 18  city_latitude                            1928 non-null   float64\n",
      " 19  city_longitude                           1928 non-null   float64\n",
      " 20  population                               1358 non-null   Int32  \n",
      "dtypes: Int32(4), float64(7), int64(3), object(7)\n",
      "memory usage: 293.8+ KB\n"
     ]
    }
   ],
   "source": [
    "df.info()"
   ]
  },
  {
   "cell_type": "code",
   "execution_count": 49,
   "metadata": {},
   "outputs": [
    {
     "data": {
      "text/html": [
       "<div>\n",
       "<style scoped>\n",
       "    .dataframe tbody tr th:only-of-type {\n",
       "        vertical-align: middle;\n",
       "    }\n",
       "\n",
       "    .dataframe tbody tr th {\n",
       "        vertical-align: top;\n",
       "    }\n",
       "\n",
       "    .dataframe thead th {\n",
       "        text-align: right;\n",
       "    }\n",
       "</style>\n",
       "<table border=\"1\" class=\"dataframe\">\n",
       "  <thead>\n",
       "    <tr style=\"text-align: right;\">\n",
       "      <th></th>\n",
       "      <th>url</th>\n",
       "      <th>email</th>\n",
       "      <th>num_employees</th>\n",
       "      <th>telephone</th>\n",
       "      <th>last_year_revenue</th>\n",
       "      <th>last_year_result_after_financial_assets</th>\n",
       "      <th>cash_flow_percent</th>\n",
       "      <th>profit_margin_percent</th>\n",
       "      <th>solidity_percent</th>\n",
       "      <th>address_latitude</th>\n",
       "      <th>address_longitude</th>\n",
       "      <th>city_latitude</th>\n",
       "      <th>city_longitude</th>\n",
       "      <th>population</th>\n",
       "    </tr>\n",
       "  </thead>\n",
       "  <tbody>\n",
       "    <tr>\n",
       "      <th>count</th>\n",
       "      <td>1928.000000</td>\n",
       "      <td>1928.000000</td>\n",
       "      <td>1146.0</td>\n",
       "      <td>1928.000000</td>\n",
       "      <td>1146.0</td>\n",
       "      <td>1146.0</td>\n",
       "      <td>1112.000000</td>\n",
       "      <td>1065.000000</td>\n",
       "      <td>1142.000000</td>\n",
       "      <td>1928.000000</td>\n",
       "      <td>1928.000000</td>\n",
       "      <td>1928.000000</td>\n",
       "      <td>1928.000000</td>\n",
       "      <td>1358.0</td>\n",
       "    </tr>\n",
       "    <tr>\n",
       "      <th>mean</th>\n",
       "      <td>0.372925</td>\n",
       "      <td>0.084544</td>\n",
       "      <td>12.776614</td>\n",
       "      <td>0.842842</td>\n",
       "      <td>20604.363874</td>\n",
       "      <td>665.376091</td>\n",
       "      <td>214.148112</td>\n",
       "      <td>5.185915</td>\n",
       "      <td>37.921541</td>\n",
       "      <td>58.626118</td>\n",
       "      <td>15.175480</td>\n",
       "      <td>58.720488</td>\n",
       "      <td>15.390043</td>\n",
       "      <td>188508.058174</td>\n",
       "    </tr>\n",
       "    <tr>\n",
       "      <th>std</th>\n",
       "      <td>0.483708</td>\n",
       "      <td>0.278273</td>\n",
       "      <td>227.347651</td>\n",
       "      <td>0.364044</td>\n",
       "      <td>358568.420419</td>\n",
       "      <td>6642.615466</td>\n",
       "      <td>192.963473</td>\n",
       "      <td>36.783408</td>\n",
       "      <td>77.792976</td>\n",
       "      <td>2.481858</td>\n",
       "      <td>5.985616</td>\n",
       "      <td>2.054855</td>\n",
       "      <td>2.480666</td>\n",
       "      <td>274765.634114</td>\n",
       "    </tr>\n",
       "    <tr>\n",
       "      <th>min</th>\n",
       "      <td>0.000000</td>\n",
       "      <td>0.000000</td>\n",
       "      <td>0.0</td>\n",
       "      <td>0.000000</td>\n",
       "      <td>0.0</td>\n",
       "      <td>-31125.0</td>\n",
       "      <td>-176.500000</td>\n",
       "      <td>-487.500000</td>\n",
       "      <td>-811.500000</td>\n",
       "      <td>19.467724</td>\n",
       "      <td>-155.165307</td>\n",
       "      <td>55.360950</td>\n",
       "      <td>11.031130</td>\n",
       "      <td>2413.0</td>\n",
       "    </tr>\n",
       "    <tr>\n",
       "      <th>25%</th>\n",
       "      <td>0.000000</td>\n",
       "      <td>0.000000</td>\n",
       "      <td>2.0</td>\n",
       "      <td>1.000000</td>\n",
       "      <td>2140.5</td>\n",
       "      <td>-8.0</td>\n",
       "      <td>85.700000</td>\n",
       "      <td>0.200000</td>\n",
       "      <td>23.025000</td>\n",
       "      <td>57.631787</td>\n",
       "      <td>13.027766</td>\n",
       "      <td>57.650600</td>\n",
       "      <td>13.001100</td>\n",
       "      <td>28103.0</td>\n",
       "    </tr>\n",
       "    <tr>\n",
       "      <th>50%</th>\n",
       "      <td>0.000000</td>\n",
       "      <td>0.000000</td>\n",
       "      <td>4.0</td>\n",
       "      <td>1.000000</td>\n",
       "      <td>4077.5</td>\n",
       "      <td>150.5</td>\n",
       "      <td>148.500000</td>\n",
       "      <td>5.100000</td>\n",
       "      <td>47.950000</td>\n",
       "      <td>58.913703</td>\n",
       "      <td>15.279749</td>\n",
       "      <td>58.942645</td>\n",
       "      <td>15.280260</td>\n",
       "      <td>85450.0</td>\n",
       "    </tr>\n",
       "    <tr>\n",
       "      <th>75%</th>\n",
       "      <td>1.000000</td>\n",
       "      <td>0.000000</td>\n",
       "      <td>6.0</td>\n",
       "      <td>1.000000</td>\n",
       "      <td>6674.5</td>\n",
       "      <td>530.75</td>\n",
       "      <td>283.975000</td>\n",
       "      <td>11.600000</td>\n",
       "      <td>70.000000</td>\n",
       "      <td>59.396862</td>\n",
       "      <td>17.834480</td>\n",
       "      <td>59.404200</td>\n",
       "      <td>17.814380</td>\n",
       "      <td>158057.0</td>\n",
       "    </tr>\n",
       "    <tr>\n",
       "      <th>max</th>\n",
       "      <td>1.000000</td>\n",
       "      <td>1.000000</td>\n",
       "      <td>7619.0</td>\n",
       "      <td>1.000000</td>\n",
       "      <td>10982678.0</td>\n",
       "      <td>204734.0</td>\n",
       "      <td>996.300000</td>\n",
       "      <td>539.800000</td>\n",
       "      <td>531.600000</td>\n",
       "      <td>67.849907</td>\n",
       "      <td>32.657720</td>\n",
       "      <td>67.855520</td>\n",
       "      <td>24.137430</td>\n",
       "      <td>984748.0</td>\n",
       "    </tr>\n",
       "  </tbody>\n",
       "</table>\n",
       "</div>"
      ],
      "text/plain": [
       "               url        email  num_employees    telephone  \\\n",
       "count  1928.000000  1928.000000         1146.0  1928.000000   \n",
       "mean      0.372925     0.084544      12.776614     0.842842   \n",
       "std       0.483708     0.278273     227.347651     0.364044   \n",
       "min       0.000000     0.000000            0.0     0.000000   \n",
       "25%       0.000000     0.000000            2.0     1.000000   \n",
       "50%       0.000000     0.000000            4.0     1.000000   \n",
       "75%       1.000000     0.000000            6.0     1.000000   \n",
       "max       1.000000     1.000000         7619.0     1.000000   \n",
       "\n",
       "       last_year_revenue  last_year_result_after_financial_assets  \\\n",
       "count             1146.0                                   1146.0   \n",
       "mean        20604.363874                               665.376091   \n",
       "std        358568.420419                              6642.615466   \n",
       "min                  0.0                                 -31125.0   \n",
       "25%               2140.5                                     -8.0   \n",
       "50%               4077.5                                    150.5   \n",
       "75%               6674.5                                   530.75   \n",
       "max           10982678.0                                 204734.0   \n",
       "\n",
       "       cash_flow_percent  profit_margin_percent  solidity_percent  \\\n",
       "count        1112.000000            1065.000000       1142.000000   \n",
       "mean          214.148112               5.185915         37.921541   \n",
       "std           192.963473              36.783408         77.792976   \n",
       "min          -176.500000            -487.500000       -811.500000   \n",
       "25%            85.700000               0.200000         23.025000   \n",
       "50%           148.500000               5.100000         47.950000   \n",
       "75%           283.975000              11.600000         70.000000   \n",
       "max           996.300000             539.800000        531.600000   \n",
       "\n",
       "       address_latitude  address_longitude  city_latitude  city_longitude  \\\n",
       "count       1928.000000        1928.000000    1928.000000     1928.000000   \n",
       "mean          58.626118          15.175480      58.720488       15.390043   \n",
       "std            2.481858           5.985616       2.054855        2.480666   \n",
       "min           19.467724        -155.165307      55.360950       11.031130   \n",
       "25%           57.631787          13.027766      57.650600       13.001100   \n",
       "50%           58.913703          15.279749      58.942645       15.280260   \n",
       "75%           59.396862          17.834480      59.404200       17.814380   \n",
       "max           67.849907          32.657720      67.855520       24.137430   \n",
       "\n",
       "          population  \n",
       "count         1358.0  \n",
       "mean   188508.058174  \n",
       "std    274765.634114  \n",
       "min           2413.0  \n",
       "25%          28103.0  \n",
       "50%          85450.0  \n",
       "75%         158057.0  \n",
       "max         984748.0  "
      ]
     },
     "execution_count": 49,
     "metadata": {},
     "output_type": "execute_result"
    }
   ],
   "source": [
    "df.describe()"
   ]
  },
  {
   "cell_type": "markdown",
   "metadata": {},
   "source": [
    "## Correct the data"
   ]
  },
  {
   "cell_type": "code",
   "execution_count": 50,
   "metadata": {},
   "outputs": [
    {
     "data": {
      "text/plain": [
       "type\n",
       "Restaurant    1143\n",
       "Pizzeria       685\n",
       "Other          100\n",
       "Name: count, dtype: int64"
      ]
     },
     "execution_count": 50,
     "metadata": {},
     "output_type": "execute_result"
    }
   ],
   "source": [
    "type_restaurant = df[\"type\"].value_counts()\n",
    "type_restaurant"
   ]
  },
  {
   "cell_type": "code",
   "execution_count": 51,
   "metadata": {},
   "outputs": [],
   "source": [
    "# Reduce the value of types to Restaurant, Pizzeria and Other\n",
    "def correct_types(type_restaurant):\n",
    "    if type_restaurant == 'Restaurang' or 'restaurang' in type_restaurant.lower() or 'restaurant' in type_restaurant.lower():\n",
    "        return 'Restaurant'\n",
    "    elif 'pizza' in type_restaurant.lower() or 'pizzeria' in type_restaurant.lower():\n",
    "        return 'Pizzeria'\n",
    "    else:\n",
    "        return 'Other'\n",
    "\n",
    "df['type'] = df['type'].apply(correct_types)"
   ]
  },
  {
   "cell_type": "code",
   "execution_count": 52,
   "metadata": {},
   "outputs": [
    {
     "data": {
      "text/plain": [
       "type\n",
       "Restaurant    1143\n",
       "Pizzeria       685\n",
       "Other          100\n",
       "Name: count, dtype: int64"
      ]
     },
     "execution_count": 52,
     "metadata": {},
     "output_type": "execute_result"
    }
   ],
   "source": [
    "df[\"type\"].value_counts()"
   ]
  },
  {
   "cell_type": "code",
   "execution_count": 53,
   "metadata": {},
   "outputs": [
    {
     "data": {
      "text/html": [
       "<div>\n",
       "<style scoped>\n",
       "    .dataframe tbody tr th:only-of-type {\n",
       "        vertical-align: middle;\n",
       "    }\n",
       "\n",
       "    .dataframe tbody tr th {\n",
       "        vertical-align: top;\n",
       "    }\n",
       "\n",
       "    .dataframe thead th {\n",
       "        text-align: right;\n",
       "    }\n",
       "</style>\n",
       "<table border=\"1\" class=\"dataframe\">\n",
       "  <thead>\n",
       "    <tr style=\"text-align: right;\">\n",
       "      <th></th>\n",
       "      <th>name</th>\n",
       "      <th>type</th>\n",
       "      <th>city</th>\n",
       "      <th>url</th>\n",
       "      <th>address</th>\n",
       "      <th>email</th>\n",
       "      <th>num_employees</th>\n",
       "      <th>telephone</th>\n",
       "      <th>last_year_revenue</th>\n",
       "      <th>last_year_result_after_financial_assets</th>\n",
       "      <th>...</th>\n",
       "      <th>cash_flow_percent</th>\n",
       "      <th>profit_margin_word</th>\n",
       "      <th>profit_margin_percent</th>\n",
       "      <th>solidity_word</th>\n",
       "      <th>solidity_percent</th>\n",
       "      <th>address_latitude</th>\n",
       "      <th>address_longitude</th>\n",
       "      <th>city_latitude</th>\n",
       "      <th>city_longitude</th>\n",
       "      <th>population</th>\n",
       "    </tr>\n",
       "  </thead>\n",
       "  <tbody>\n",
       "    <tr>\n",
       "      <th>0</th>\n",
       "      <td>Aneby Grill &amp; Pizzeria</td>\n",
       "      <td>Pizzeria</td>\n",
       "      <td>Aneby</td>\n",
       "      <td>0</td>\n",
       "      <td>Storgatan 51, 57832 Aneby</td>\n",
       "      <td>0</td>\n",
       "      <td>6</td>\n",
       "      <td>1</td>\n",
       "      <td>7026</td>\n",
       "      <td>679</td>\n",
       "      <td>...</td>\n",
       "      <td>484.1</td>\n",
       "      <td>Satisfactory</td>\n",
       "      <td>9.7</td>\n",
       "      <td>Very Good</td>\n",
       "      <td>74.2</td>\n",
       "      <td>57.839266</td>\n",
       "      <td>14.817377</td>\n",
       "      <td>57.83955</td>\n",
       "      <td>14.81813</td>\n",
       "      <td>6824</td>\n",
       "    </tr>\n",
       "    <tr>\n",
       "      <th>1</th>\n",
       "      <td>Restaurang Estelle</td>\n",
       "      <td>Restaurant</td>\n",
       "      <td>Stenstorp</td>\n",
       "      <td>1</td>\n",
       "      <td>Storgatan 21, 52160 Stenstorp</td>\n",
       "      <td>0</td>\n",
       "      <td>4</td>\n",
       "      <td>1</td>\n",
       "      <td>4709</td>\n",
       "      <td>96</td>\n",
       "      <td>...</td>\n",
       "      <td>23.9</td>\n",
       "      <td>Weak</td>\n",
       "      <td>2.4</td>\n",
       "      <td>Good</td>\n",
       "      <td>32.3</td>\n",
       "      <td>58.272077</td>\n",
       "      <td>13.712535</td>\n",
       "      <td>58.27271</td>\n",
       "      <td>13.71599</td>\n",
       "      <td>&lt;NA&gt;</td>\n",
       "    </tr>\n",
       "    <tr>\n",
       "      <th>2</th>\n",
       "      <td>Le Ski Lodge</td>\n",
       "      <td>Restaurant</td>\n",
       "      <td>Storlien</td>\n",
       "      <td>1</td>\n",
       "      <td>Storlien , 83799 Storlien</td>\n",
       "      <td>1</td>\n",
       "      <td>0</td>\n",
       "      <td>1</td>\n",
       "      <td>231</td>\n",
       "      <td>414</td>\n",
       "      <td>...</td>\n",
       "      <td>131.7</td>\n",
       "      <td>Very Good</td>\n",
       "      <td>184.4</td>\n",
       "      <td>Good</td>\n",
       "      <td>31.5</td>\n",
       "      <td>63.317140</td>\n",
       "      <td>12.097400</td>\n",
       "      <td>63.31558</td>\n",
       "      <td>12.10339</td>\n",
       "      <td>&lt;NA&gt;</td>\n",
       "    </tr>\n",
       "    <tr>\n",
       "      <th>3</th>\n",
       "      <td>Pizzeria Pinan</td>\n",
       "      <td>Restaurant</td>\n",
       "      <td>Hönö</td>\n",
       "      <td>1</td>\n",
       "      <td>Göteborgsvägen 3, 47540 Hönö</td>\n",
       "      <td>0</td>\n",
       "      <td>&lt;NA&gt;</td>\n",
       "      <td>1</td>\n",
       "      <td>&lt;NA&gt;</td>\n",
       "      <td>&lt;NA&gt;</td>\n",
       "      <td>...</td>\n",
       "      <td>NaN</td>\n",
       "      <td>NaN</td>\n",
       "      <td>NaN</td>\n",
       "      <td>NaN</td>\n",
       "      <td>NaN</td>\n",
       "      <td>57.698614</td>\n",
       "      <td>11.665229</td>\n",
       "      <td>57.68268</td>\n",
       "      <td>11.64547</td>\n",
       "      <td>&lt;NA&gt;</td>\n",
       "    </tr>\n",
       "    <tr>\n",
       "      <th>4</th>\n",
       "      <td>Valje Strandkrog Ab</td>\n",
       "      <td>Restaurant</td>\n",
       "      <td>Sölvesborg</td>\n",
       "      <td>0</td>\n",
       "      <td>Sölvesborgsvägen 4, 29477 Sölvesborg</td>\n",
       "      <td>0</td>\n",
       "      <td>5</td>\n",
       "      <td>1</td>\n",
       "      <td>3568</td>\n",
       "      <td>275</td>\n",
       "      <td>...</td>\n",
       "      <td>200.4</td>\n",
       "      <td>Satisfactory</td>\n",
       "      <td>7.7</td>\n",
       "      <td>Very Good</td>\n",
       "      <td>54.7</td>\n",
       "      <td>56.063119</td>\n",
       "      <td>14.540006</td>\n",
       "      <td>56.05295</td>\n",
       "      <td>14.58356</td>\n",
       "      <td>17514</td>\n",
       "    </tr>\n",
       "  </tbody>\n",
       "</table>\n",
       "<p>5 rows × 21 columns</p>\n",
       "</div>"
      ],
      "text/plain": [
       "                     name        type        city url  \\\n",
       "0  Aneby Grill & Pizzeria    Pizzeria       Aneby   0   \n",
       "1      Restaurang Estelle  Restaurant   Stenstorp   1   \n",
       "2            Le Ski Lodge  Restaurant    Storlien   1   \n",
       "3          Pizzeria Pinan  Restaurant        Hönö   1   \n",
       "4     Valje Strandkrog Ab  Restaurant  Sölvesborg   0   \n",
       "\n",
       "                                address email  num_employees telephone  \\\n",
       "0             Storgatan 51, 57832 Aneby     0              6         1   \n",
       "1         Storgatan 21, 52160 Stenstorp     0              4         1   \n",
       "2             Storlien , 83799 Storlien     1              0         1   \n",
       "3          Göteborgsvägen 3, 47540 Hönö     0           <NA>         1   \n",
       "4  Sölvesborgsvägen 4, 29477 Sölvesborg     0              5         1   \n",
       "\n",
       "   last_year_revenue  last_year_result_after_financial_assets  ...  \\\n",
       "0               7026                                      679  ...   \n",
       "1               4709                                       96  ...   \n",
       "2                231                                      414  ...   \n",
       "3               <NA>                                     <NA>  ...   \n",
       "4               3568                                      275  ...   \n",
       "\n",
       "  cash_flow_percent  profit_margin_word profit_margin_percent  solidity_word  \\\n",
       "0             484.1        Satisfactory                   9.7      Very Good   \n",
       "1              23.9                Weak                   2.4           Good   \n",
       "2             131.7           Very Good                 184.4           Good   \n",
       "3               NaN                 NaN                   NaN            NaN   \n",
       "4             200.4        Satisfactory                   7.7      Very Good   \n",
       "\n",
       "  solidity_percent  address_latitude  address_longitude  city_latitude  \\\n",
       "0             74.2         57.839266          14.817377       57.83955   \n",
       "1             32.3         58.272077          13.712535       58.27271   \n",
       "2             31.5         63.317140          12.097400       63.31558   \n",
       "3              NaN         57.698614          11.665229       57.68268   \n",
       "4             54.7         56.063119          14.540006       56.05295   \n",
       "\n",
       "   city_longitude  population  \n",
       "0        14.81813        6824  \n",
       "1        13.71599        <NA>  \n",
       "2        12.10339        <NA>  \n",
       "3        11.64547        <NA>  \n",
       "4        14.58356       17514  \n",
       "\n",
       "[5 rows x 21 columns]"
      ]
     },
     "execution_count": 53,
     "metadata": {},
     "output_type": "execute_result"
    }
   ],
   "source": [
    "# Transform the url, email, telephone to categorical variables\n",
    "df['email'].fillna(0, inplace=True)\n",
    "df['url'].fillna(0, inplace=True)\n",
    "df['telephone'].fillna(0, inplace=True)\n",
    "\n",
    "def transform_to_one(info):\n",
    "    if info != 0:\n",
    "        return 1\n",
    "    else:\n",
    "        return info\n",
    "df['email'] = df['email'].apply(transform_to_one).astype(\"category\")\n",
    "df['url'] = df['url'].apply(transform_to_one).astype(\"category\")\n",
    "df['telephone'] = df['telephone'].apply(transform_to_one).astype(\"category\")\n",
    "df['type'] = df['type'].astype(\"category\") # Also transformed to category dtype\n",
    "df['cash_flow_word'] = df['cash_flow_word'].astype(\"category\") # Also transformed to category dtype\n",
    "df['profit_margin_word'] = df['profit_margin_word'].astype(\"category\") # Also transformed to category dtype\n",
    "df['solidity_word'] = df['solidity_word'].astype(\"category\") # Also transformed to category dtype\n",
    "df.head()"
   ]
  },
  {
   "cell_type": "code",
   "execution_count": 54,
   "metadata": {},
   "outputs": [
    {
     "data": {
      "text/html": [
       "<div>\n",
       "<style scoped>\n",
       "    .dataframe tbody tr th:only-of-type {\n",
       "        vertical-align: middle;\n",
       "    }\n",
       "\n",
       "    .dataframe tbody tr th {\n",
       "        vertical-align: top;\n",
       "    }\n",
       "\n",
       "    .dataframe thead th {\n",
       "        text-align: right;\n",
       "    }\n",
       "</style>\n",
       "<table border=\"1\" class=\"dataframe\">\n",
       "  <thead>\n",
       "    <tr style=\"text-align: right;\">\n",
       "      <th></th>\n",
       "      <th>name</th>\n",
       "      <th>type</th>\n",
       "      <th>city</th>\n",
       "      <th>url</th>\n",
       "      <th>address</th>\n",
       "      <th>email</th>\n",
       "      <th>num_employees</th>\n",
       "      <th>telephone</th>\n",
       "      <th>last_year_revenue</th>\n",
       "      <th>last_year_result_after_financial_assets</th>\n",
       "      <th>...</th>\n",
       "      <th>cash_flow_percent</th>\n",
       "      <th>profit_margin_word</th>\n",
       "      <th>profit_margin_percent</th>\n",
       "      <th>solidity_word</th>\n",
       "      <th>solidity_percent</th>\n",
       "      <th>address_latitude</th>\n",
       "      <th>address_longitude</th>\n",
       "      <th>city_latitude</th>\n",
       "      <th>city_longitude</th>\n",
       "      <th>population</th>\n",
       "    </tr>\n",
       "  </thead>\n",
       "  <tbody>\n",
       "    <tr>\n",
       "      <th>0</th>\n",
       "      <td>Aneby Grill &amp; Pizzeria</td>\n",
       "      <td>Pizzeria</td>\n",
       "      <td>Aneby</td>\n",
       "      <td>0</td>\n",
       "      <td>Storgatan 51, 57832 Aneby</td>\n",
       "      <td>0</td>\n",
       "      <td>6</td>\n",
       "      <td>1</td>\n",
       "      <td>7026</td>\n",
       "      <td>679</td>\n",
       "      <td>...</td>\n",
       "      <td>484.1</td>\n",
       "      <td>Satisfactory</td>\n",
       "      <td>9.7</td>\n",
       "      <td>Very Good</td>\n",
       "      <td>74.2</td>\n",
       "      <td>57.839266</td>\n",
       "      <td>14.817377</td>\n",
       "      <td>57.83955</td>\n",
       "      <td>14.81813</td>\n",
       "      <td>6824</td>\n",
       "    </tr>\n",
       "    <tr>\n",
       "      <th>4</th>\n",
       "      <td>Valje Strandkrog Ab</td>\n",
       "      <td>Restaurant</td>\n",
       "      <td>Sölvesborg</td>\n",
       "      <td>0</td>\n",
       "      <td>Sölvesborgsvägen 4, 29477 Sölvesborg</td>\n",
       "      <td>0</td>\n",
       "      <td>5</td>\n",
       "      <td>1</td>\n",
       "      <td>3568</td>\n",
       "      <td>275</td>\n",
       "      <td>...</td>\n",
       "      <td>200.4</td>\n",
       "      <td>Satisfactory</td>\n",
       "      <td>7.7</td>\n",
       "      <td>Very Good</td>\n",
       "      <td>54.7</td>\n",
       "      <td>56.063119</td>\n",
       "      <td>14.540006</td>\n",
       "      <td>56.05295</td>\n",
       "      <td>14.58356</td>\n",
       "      <td>17514</td>\n",
       "    </tr>\n",
       "    <tr>\n",
       "      <th>6</th>\n",
       "      <td>Pizzeria I Strömstad</td>\n",
       "      <td>Restaurant</td>\n",
       "      <td>Strömstad</td>\n",
       "      <td>1</td>\n",
       "      <td>Korpegatan 32, 45231 Strömstad</td>\n",
       "      <td>0</td>\n",
       "      <td>5</td>\n",
       "      <td>1</td>\n",
       "      <td>8352</td>\n",
       "      <td>2227</td>\n",
       "      <td>...</td>\n",
       "      <td>708.0</td>\n",
       "      <td>Very Good</td>\n",
       "      <td>26.9</td>\n",
       "      <td>Very Good</td>\n",
       "      <td>61.8</td>\n",
       "      <td>58.935774</td>\n",
       "      <td>11.180260</td>\n",
       "      <td>58.93870</td>\n",
       "      <td>11.17124</td>\n",
       "      <td>13290</td>\n",
       "    </tr>\n",
       "    <tr>\n",
       "      <th>7</th>\n",
       "      <td>Torstens Smakar Mera</td>\n",
       "      <td>Restaurant</td>\n",
       "      <td>Båstad</td>\n",
       "      <td>1</td>\n",
       "      <td>Köpmansgatan 70B, 26931 Båstad</td>\n",
       "      <td>1</td>\n",
       "      <td>5</td>\n",
       "      <td>1</td>\n",
       "      <td>5609</td>\n",
       "      <td>-26</td>\n",
       "      <td>...</td>\n",
       "      <td>246.3</td>\n",
       "      <td>Not Satisfactory</td>\n",
       "      <td>-0.5</td>\n",
       "      <td>Very Good</td>\n",
       "      <td>67.4</td>\n",
       "      <td>56.427229</td>\n",
       "      <td>12.847600</td>\n",
       "      <td>56.42869</td>\n",
       "      <td>12.84472</td>\n",
       "      <td>15824</td>\n",
       "    </tr>\n",
       "    <tr>\n",
       "      <th>8</th>\n",
       "      <td>Pizzeria Babylon</td>\n",
       "      <td>Pizzeria</td>\n",
       "      <td>Nora</td>\n",
       "      <td>1</td>\n",
       "      <td>Kungsgatan 6, 71331 Nora</td>\n",
       "      <td>0</td>\n",
       "      <td>5</td>\n",
       "      <td>1</td>\n",
       "      <td>6745</td>\n",
       "      <td>96</td>\n",
       "      <td>...</td>\n",
       "      <td>156.0</td>\n",
       "      <td>Weak</td>\n",
       "      <td>1.4</td>\n",
       "      <td>Very Good</td>\n",
       "      <td>52.4</td>\n",
       "      <td>59.518709</td>\n",
       "      <td>15.041311</td>\n",
       "      <td>59.51925</td>\n",
       "      <td>15.03905</td>\n",
       "      <td>10701</td>\n",
       "    </tr>\n",
       "  </tbody>\n",
       "</table>\n",
       "<p>5 rows × 21 columns</p>\n",
       "</div>"
      ],
      "text/plain": [
       "                     name        type        city url  \\\n",
       "0  Aneby Grill & Pizzeria    Pizzeria       Aneby   0   \n",
       "4     Valje Strandkrog Ab  Restaurant  Sölvesborg   0   \n",
       "6    Pizzeria I Strömstad  Restaurant   Strömstad   1   \n",
       "7    Torstens Smakar Mera  Restaurant      Båstad   1   \n",
       "8        Pizzeria Babylon    Pizzeria        Nora   1   \n",
       "\n",
       "                                address email  num_employees telephone  \\\n",
       "0             Storgatan 51, 57832 Aneby     0              6         1   \n",
       "4  Sölvesborgsvägen 4, 29477 Sölvesborg     0              5         1   \n",
       "6        Korpegatan 32, 45231 Strömstad     0              5         1   \n",
       "7        Köpmansgatan 70B, 26931 Båstad     1              5         1   \n",
       "8              Kungsgatan 6, 71331 Nora     0              5         1   \n",
       "\n",
       "   last_year_revenue  last_year_result_after_financial_assets  ...  \\\n",
       "0               7026                                      679  ...   \n",
       "4               3568                                      275  ...   \n",
       "6               8352                                     2227  ...   \n",
       "7               5609                                      -26  ...   \n",
       "8               6745                                       96  ...   \n",
       "\n",
       "  cash_flow_percent  profit_margin_word profit_margin_percent  solidity_word  \\\n",
       "0             484.1        Satisfactory                   9.7      Very Good   \n",
       "4             200.4        Satisfactory                   7.7      Very Good   \n",
       "6             708.0           Very Good                  26.9      Very Good   \n",
       "7             246.3    Not Satisfactory                  -0.5      Very Good   \n",
       "8             156.0                Weak                   1.4      Very Good   \n",
       "\n",
       "  solidity_percent  address_latitude  address_longitude  city_latitude  \\\n",
       "0             74.2         57.839266          14.817377       57.83955   \n",
       "4             54.7         56.063119          14.540006       56.05295   \n",
       "6             61.8         58.935774          11.180260       58.93870   \n",
       "7             67.4         56.427229          12.847600       56.42869   \n",
       "8             52.4         59.518709          15.041311       59.51925   \n",
       "\n",
       "   city_longitude  population  \n",
       "0        14.81813        6824  \n",
       "4        14.58356       17514  \n",
       "6        11.17124       13290  \n",
       "7        12.84472       15824  \n",
       "8        15.03905       10701  \n",
       "\n",
       "[5 rows x 21 columns]"
      ]
     },
     "execution_count": 54,
     "metadata": {},
     "output_type": "execute_result"
    }
   ],
   "source": [
    "df_clean = df.dropna(axis=0)\n",
    "df_clean.head()"
   ]
  },
  {
   "cell_type": "markdown",
   "metadata": {},
   "source": [
    "## Analysis"
   ]
  },
  {
   "cell_type": "markdown",
   "metadata": {},
   "source": [
    "Use the Box plot to check for outliers"
   ]
  },
  {
   "cell_type": "code",
   "execution_count": 55,
   "metadata": {},
   "outputs": [
    {
     "name": "stderr",
     "output_type": "stream",
     "text": [
      "c:\\Users\\rodri\\.virtualenvs\\webscrapping-7cJ6Jy-h\\lib\\site-packages\\seaborn\\axisgrid.py:118: UserWarning: The figure layout has changed to tight\n",
      "  self._figure.tight_layout(*args, **kwargs)\n",
      "c:\\Users\\rodri\\.virtualenvs\\webscrapping-7cJ6Jy-h\\lib\\site-packages\\seaborn\\axisgrid.py:118: UserWarning: The figure layout has changed to tight\n",
      "  self._figure.tight_layout(*args, **kwargs)\n",
      "c:\\Users\\rodri\\.virtualenvs\\webscrapping-7cJ6Jy-h\\lib\\site-packages\\seaborn\\axisgrid.py:118: UserWarning: The figure layout has changed to tight\n",
      "  self._figure.tight_layout(*args, **kwargs)\n"
     ]
    },
    {
     "data": {
      "text/plain": [
       "<seaborn.axisgrid.FacetGrid at 0x22cb4646d40>"
      ]
     },
     "execution_count": 55,
     "metadata": {},
     "output_type": "execute_result"
    },
    {
     "data": {
      "image/png": "[encoded data removed]",
      "text/plain": [
       "<Figure size 500x500 with 1 Axes>"
      ]
     },
     "metadata": {},
     "output_type": "display_data"
    },
    {
     "data": {
      "image/png": "[encoded data removed]",
      "text/plain": [
       "<Figure size 500x500 with 1 Axes>"
      ]
     },
     "metadata": {},
     "output_type": "display_data"
    },
    {
     "data": {
      "image/png": "[encoded data removed]",
      "text/plain": [
       "<Figure size 500x500 with 1 Axes>"
      ]
     },
     "metadata": {},
     "output_type": "display_data"
    }
   ],
   "source": [
    "\n",
    "g = sns.catplot(data=df_clean, y='num_employees', kind='box')\n",
    "g.set(ylabel='Number of employees', title='Number of employees Box Plot')\n",
    "g = sns.catplot(data=df_clean, y='last_year_revenue', kind='box')\n",
    "g.set(ylabel='Last year revenue', title='Last year revenue Box Plot')\n",
    "g = sns.catplot(data=df_clean, y='last_year_result_after_financial_assets', kind='box')\n",
    "g.set(ylabel='Last year result after financial assets', title='Last year result after financial assets Box Plot')"
   ]
  },
  {
   "cell_type": "code",
   "execution_count": 17,
   "metadata": {},
   "outputs": [],
   "source": [
    "# There are outliers in the num_employees. I will not consider restaurants with above 13 employees\n",
    "df_clean = df_clean[df_clean['num_employees']<13]"
   ]
  },
  {
   "cell_type": "code",
   "execution_count": 39,
   "metadata": {},
   "outputs": [
    {
     "name": "stderr",
     "output_type": "stream",
     "text": [
      "c:\\Users\\rodri\\.virtualenvs\\webscrapping-7cJ6Jy-h\\lib\\site-packages\\seaborn\\axisgrid.py:118: UserWarning: The figure layout has changed to tight\n",
      "  self._figure.tight_layout(*args, **kwargs)\n"
     ]
    },
    {
     "data": {
      "text/plain": [
       "<seaborn.axisgrid.FacetGrid at 0x22cae8962f0>"
      ]
     },
     "execution_count": 39,
     "metadata": {},
     "output_type": "execute_result"
    },
    {
     "data": {
      "image/png": "[encoded data removed]",
      "text/plain": [
       "<Figure size 500x500 with 1 Axes>"
      ]
     },
     "metadata": {},
     "output_type": "display_data"
    }
   ],
   "source": [
    "g = sns.catplot(data=df_clean, y='num_employees', kind='box')\n",
    "g.set(ylabel='Number of employees', title='Number of employees Box Plot')"
   ]
  },
  {
   "cell_type": "code",
   "execution_count": 19,
   "metadata": {},
   "outputs": [],
   "source": [
    "# There are outliers in the last_year_revenue. I will not consider restaurants with 'last_year_revenue' < 11000\n",
    "df_clean = df_clean[df_clean['last_year_revenue']<11000]"
   ]
  },
  {
   "cell_type": "code",
   "execution_count": 38,
   "metadata": {},
   "outputs": [
    {
     "name": "stderr",
     "output_type": "stream",
     "text": [
      "c:\\Users\\rodri\\.virtualenvs\\webscrapping-7cJ6Jy-h\\lib\\site-packages\\seaborn\\axisgrid.py:118: UserWarning: The figure layout has changed to tight\n",
      "  self._figure.tight_layout(*args, **kwargs)\n"
     ]
    },
    {
     "data": {
      "text/plain": [
       "<seaborn.axisgrid.FacetGrid at 0x22cb27f0c40>"
      ]
     },
     "execution_count": 38,
     "metadata": {},
     "output_type": "execute_result"
    },
    {
     "data": {
      "image/png": "[encoded data removed]",
      "text/plain": [
       "<Figure size 500x500 with 1 Axes>"
      ]
     },
     "metadata": {},
     "output_type": "display_data"
    }
   ],
   "source": [
    "g = sns.catplot(data=df_clean, y='last_year_revenue', kind='box')\n",
    "g.set(ylabel='Last year revenue', title='Last year revenue Box Plot')"
   ]
  },
  {
   "cell_type": "code",
   "execution_count": 21,
   "metadata": {},
   "outputs": [
    {
     "data": {
      "text/html": [
       "<div>\n",
       "<style scoped>\n",
       "    .dataframe tbody tr th:only-of-type {\n",
       "        vertical-align: middle;\n",
       "    }\n",
       "\n",
       "    .dataframe tbody tr th {\n",
       "        vertical-align: top;\n",
       "    }\n",
       "\n",
       "    .dataframe thead th {\n",
       "        text-align: right;\n",
       "    }\n",
       "</style>\n",
       "<table border=\"1\" class=\"dataframe\">\n",
       "  <thead>\n",
       "    <tr style=\"text-align: right;\">\n",
       "      <th></th>\n",
       "      <th>num_employees</th>\n",
       "      <th>last_year_revenue</th>\n",
       "      <th>last_year_result_after_financial_assets</th>\n",
       "      <th>cash_flow_percent</th>\n",
       "      <th>profit_margin_percent</th>\n",
       "      <th>solidity_percent</th>\n",
       "      <th>address_latitude</th>\n",
       "      <th>address_longitude</th>\n",
       "      <th>city_latitude</th>\n",
       "      <th>city_longitude</th>\n",
       "      <th>population</th>\n",
       "    </tr>\n",
       "  </thead>\n",
       "  <tbody>\n",
       "    <tr>\n",
       "      <th>count</th>\n",
       "      <td>675.0</td>\n",
       "      <td>675.0</td>\n",
       "      <td>675.0</td>\n",
       "      <td>675.000000</td>\n",
       "      <td>675.000000</td>\n",
       "      <td>675.000000</td>\n",
       "      <td>675.000000</td>\n",
       "      <td>675.000000</td>\n",
       "      <td>675.000000</td>\n",
       "      <td>675.000000</td>\n",
       "      <td>675.0</td>\n",
       "    </tr>\n",
       "    <tr>\n",
       "      <th>mean</th>\n",
       "      <td>3.942222</td>\n",
       "      <td>4329.361481</td>\n",
       "      <td>251.354074</td>\n",
       "      <td>220.066667</td>\n",
       "      <td>4.281481</td>\n",
       "      <td>34.487852</td>\n",
       "      <td>58.831686</td>\n",
       "      <td>15.417110</td>\n",
       "      <td>58.835314</td>\n",
       "      <td>15.426444</td>\n",
       "      <td>162585.42963</td>\n",
       "    </tr>\n",
       "    <tr>\n",
       "      <th>std</th>\n",
       "      <td>2.473823</td>\n",
       "      <td>2582.924937</td>\n",
       "      <td>590.361209</td>\n",
       "      <td>193.708673</td>\n",
       "      <td>44.154776</td>\n",
       "      <td>82.817833</td>\n",
       "      <td>2.293832</td>\n",
       "      <td>2.517038</td>\n",
       "      <td>2.294106</td>\n",
       "      <td>2.518232</td>\n",
       "      <td>247367.336207</td>\n",
       "    </tr>\n",
       "    <tr>\n",
       "      <th>min</th>\n",
       "      <td>0.0</td>\n",
       "      <td>3.0</td>\n",
       "      <td>-2991.0</td>\n",
       "      <td>2.000000</td>\n",
       "      <td>-487.500000</td>\n",
       "      <td>-752.000000</td>\n",
       "      <td>55.372016</td>\n",
       "      <td>11.124206</td>\n",
       "      <td>55.375610</td>\n",
       "      <td>11.171240</td>\n",
       "      <td>2667.0</td>\n",
       "    </tr>\n",
       "    <tr>\n",
       "      <th>25%</th>\n",
       "      <td>2.0</td>\n",
       "      <td>2376.5</td>\n",
       "      <td>-14.5</td>\n",
       "      <td>87.550000</td>\n",
       "      <td>-0.150000</td>\n",
       "      <td>21.000000</td>\n",
       "      <td>57.411581</td>\n",
       "      <td>13.157694</td>\n",
       "      <td>57.414145</td>\n",
       "      <td>13.158430</td>\n",
       "      <td>26778.0</td>\n",
       "    </tr>\n",
       "    <tr>\n",
       "      <th>50%</th>\n",
       "      <td>3.0</td>\n",
       "      <td>3999.0</td>\n",
       "      <td>138.0</td>\n",
       "      <td>157.600000</td>\n",
       "      <td>4.800000</td>\n",
       "      <td>48.300000</td>\n",
       "      <td>58.937155</td>\n",
       "      <td>15.207311</td>\n",
       "      <td>58.938700</td>\n",
       "      <td>15.217590</td>\n",
       "      <td>76237.0</td>\n",
       "    </tr>\n",
       "    <tr>\n",
       "      <th>75%</th>\n",
       "      <td>5.0</td>\n",
       "      <td>6096.5</td>\n",
       "      <td>422.5</td>\n",
       "      <td>291.150000</td>\n",
       "      <td>10.650000</td>\n",
       "      <td>68.950000</td>\n",
       "      <td>59.450057</td>\n",
       "      <td>17.628414</td>\n",
       "      <td>59.436850</td>\n",
       "      <td>17.624000</td>\n",
       "      <td>150975.0</td>\n",
       "    </tr>\n",
       "    <tr>\n",
       "      <th>max</th>\n",
       "      <td>12.0</td>\n",
       "      <td>10955.0</td>\n",
       "      <td>3864.0</td>\n",
       "      <td>965.500000</td>\n",
       "      <td>539.800000</td>\n",
       "      <td>243.600000</td>\n",
       "      <td>67.849907</td>\n",
       "      <td>24.137523</td>\n",
       "      <td>67.855520</td>\n",
       "      <td>24.137430</td>\n",
       "      <td>984748.0</td>\n",
       "    </tr>\n",
       "  </tbody>\n",
       "</table>\n",
       "</div>"
      ],
      "text/plain": [
       "       num_employees  last_year_revenue  \\\n",
       "count          675.0              675.0   \n",
       "mean        3.942222        4329.361481   \n",
       "std         2.473823        2582.924937   \n",
       "min              0.0                3.0   \n",
       "25%              2.0             2376.5   \n",
       "50%              3.0             3999.0   \n",
       "75%              5.0             6096.5   \n",
       "max             12.0            10955.0   \n",
       "\n",
       "       last_year_result_after_financial_assets  cash_flow_percent  \\\n",
       "count                                    675.0         675.000000   \n",
       "mean                                251.354074         220.066667   \n",
       "std                                 590.361209         193.708673   \n",
       "min                                    -2991.0           2.000000   \n",
       "25%                                      -14.5          87.550000   \n",
       "50%                                      138.0         157.600000   \n",
       "75%                                      422.5         291.150000   \n",
       "max                                     3864.0         965.500000   \n",
       "\n",
       "       profit_margin_percent  solidity_percent  address_latitude  \\\n",
       "count             675.000000        675.000000        675.000000   \n",
       "mean                4.281481         34.487852         58.831686   \n",
       "std                44.154776         82.817833          2.293832   \n",
       "min              -487.500000       -752.000000         55.372016   \n",
       "25%                -0.150000         21.000000         57.411581   \n",
       "50%                 4.800000         48.300000         58.937155   \n",
       "75%                10.650000         68.950000         59.450057   \n",
       "max               539.800000        243.600000         67.849907   \n",
       "\n",
       "       address_longitude  city_latitude  city_longitude     population  \n",
       "count         675.000000     675.000000      675.000000          675.0  \n",
       "mean           15.417110      58.835314       15.426444   162585.42963  \n",
       "std             2.517038       2.294106        2.518232  247367.336207  \n",
       "min            11.124206      55.375610       11.171240         2667.0  \n",
       "25%            13.157694      57.414145       13.158430        26778.0  \n",
       "50%            15.207311      58.938700       15.217590        76237.0  \n",
       "75%            17.628414      59.436850       17.624000       150975.0  \n",
       "max            24.137523      67.855520       24.137430       984748.0  "
      ]
     },
     "execution_count": 21,
     "metadata": {},
     "output_type": "execute_result"
    }
   ],
   "source": [
    "df_clean.describe()"
   ]
  },
  {
   "cell_type": "code",
   "execution_count": 22,
   "metadata": {},
   "outputs": [],
   "source": [
    "# There are outliers in the last_year_result_after_financial_assets. I will consider restaurants with 'last_year_result_after_financial_assets' < 11000 and > - 1000\n",
    "df_clean = df_clean[(df_clean['last_year_result_after_financial_assets']<1100) & (df_clean['last_year_result_after_financial_assets']>(-1000))]"
   ]
  },
  {
   "cell_type": "code",
   "execution_count": 37,
   "metadata": {},
   "outputs": [
    {
     "name": "stderr",
     "output_type": "stream",
     "text": [
      "c:\\Users\\rodri\\.virtualenvs\\webscrapping-7cJ6Jy-h\\lib\\site-packages\\seaborn\\axisgrid.py:118: UserWarning: The figure layout has changed to tight\n",
      "  self._figure.tight_layout(*args, **kwargs)\n"
     ]
    },
    {
     "data": {
      "text/plain": [
       "<seaborn.axisgrid.FacetGrid at 0x22cb25266e0>"
      ]
     },
     "execution_count": 37,
     "metadata": {},
     "output_type": "execute_result"
    },
    {
     "data": {
      "image/png": "[encoded data removed]",
      "text/plain": [
       "<Figure size 500x500 with 1 Axes>"
      ]
     },
     "metadata": {},
     "output_type": "display_data"
    }
   ],
   "source": [
    "g = sns.catplot(data=df_clean, y='last_year_result_after_financial_assets', kind='box')\n",
    "g.set(ylabel='Last year result after financial assets', title='Last year result after financial assets Box Plot')"
   ]
  },
  {
   "cell_type": "code",
   "execution_count": 36,
   "metadata": {},
   "outputs": [
    {
     "name": "stderr",
     "output_type": "stream",
     "text": [
      "c:\\Users\\rodri\\.virtualenvs\\webscrapping-7cJ6Jy-h\\lib\\site-packages\\seaborn\\axisgrid.py:118: UserWarning: The figure layout has changed to tight\n",
      "  self._figure.tight_layout(*args, **kwargs)\n"
     ]
    },
    {
     "data": {
      "text/plain": [
       "<seaborn.axisgrid.FacetGrid at 0x22cb2dc3040>"
      ]
     },
     "execution_count": 36,
     "metadata": {},
     "output_type": "execute_result"
    },
    {
     "data": {
      "image/png": "[encoded data removed]",
      "text/plain": [
       "<Figure size 558.875x500 with 1 Axes>"
      ]
     },
     "metadata": {},
     "output_type": "display_data"
    }
   ],
   "source": [
    "# Relation of number of employees with revenue\n",
    "g = sns.relplot(data=df_clean, x=\"num_employees\", y=\"last_year_revenue\", hue=\"url\")\n",
    "g.set(xlabel='Number of employees', ylabel='Last year revenue', title='Last year revenue vs Number of employees')"
   ]
  },
  {
   "cell_type": "code",
   "execution_count": 99,
   "metadata": {},
   "outputs": [],
   "source": [
    "columns_numeric_city = ['city', 'num_employees', 'last_year_revenue', 'last_year_result_after_financial_assets',\n",
    "    'cash_flow_percent', 'profit_margin_percent','solidity_percent', 'address_latitude', 'address_longitude',\n",
    "     'city_latitude', 'city_longitude', 'population']\n",
    "\n",
    "df_numeric_city = df_clean[columns_numeric_city]"
   ]
  },
  {
   "cell_type": "code",
   "execution_count": 100,
   "metadata": {},
   "outputs": [
    {
     "data": {
      "text/html": [
       "<div>\n",
       "<style scoped>\n",
       "    .dataframe tbody tr th:only-of-type {\n",
       "        vertical-align: middle;\n",
       "    }\n",
       "\n",
       "    .dataframe tbody tr th {\n",
       "        vertical-align: top;\n",
       "    }\n",
       "\n",
       "    .dataframe thead th {\n",
       "        text-align: right;\n",
       "    }\n",
       "</style>\n",
       "<table border=\"1\" class=\"dataframe\">\n",
       "  <thead>\n",
       "    <tr style=\"text-align: right;\">\n",
       "      <th></th>\n",
       "      <th>num_employees</th>\n",
       "      <th>last_year_revenue</th>\n",
       "      <th>last_year_result_after_financial_assets</th>\n",
       "      <th>cash_flow_percent</th>\n",
       "      <th>profit_margin_percent</th>\n",
       "      <th>solidity_percent</th>\n",
       "      <th>address_latitude</th>\n",
       "      <th>address_longitude</th>\n",
       "      <th>city_latitude</th>\n",
       "      <th>city_longitude</th>\n",
       "      <th>population</th>\n",
       "    </tr>\n",
       "    <tr>\n",
       "      <th>city</th>\n",
       "      <th></th>\n",
       "      <th></th>\n",
       "      <th></th>\n",
       "      <th></th>\n",
       "      <th></th>\n",
       "      <th></th>\n",
       "      <th></th>\n",
       "      <th></th>\n",
       "      <th></th>\n",
       "      <th></th>\n",
       "      <th></th>\n",
       "    </tr>\n",
       "  </thead>\n",
       "  <tbody>\n",
       "    <tr>\n",
       "      <th>Alingsås</th>\n",
       "      <td>3.0</td>\n",
       "      <td>3732.0</td>\n",
       "      <td>340.0</td>\n",
       "      <td>314.80000</td>\n",
       "      <td>9.5000</td>\n",
       "      <td>77.25000</td>\n",
       "      <td>57.929268</td>\n",
       "      <td>12.514903</td>\n",
       "      <td>57.92963</td>\n",
       "      <td>12.53240</td>\n",
       "      <td>42199.0</td>\n",
       "    </tr>\n",
       "    <tr>\n",
       "      <th>Alvesta</th>\n",
       "      <td>7.0</td>\n",
       "      <td>6191.5</td>\n",
       "      <td>237.5</td>\n",
       "      <td>122.55000</td>\n",
       "      <td>4.2000</td>\n",
       "      <td>9.15000</td>\n",
       "      <td>56.899172</td>\n",
       "      <td>14.554301</td>\n",
       "      <td>56.90211</td>\n",
       "      <td>14.55861</td>\n",
       "      <td>20257.0</td>\n",
       "    </tr>\n",
       "    <tr>\n",
       "      <th>Aneby</th>\n",
       "      <td>6.0</td>\n",
       "      <td>7026.0</td>\n",
       "      <td>679.0</td>\n",
       "      <td>484.10000</td>\n",
       "      <td>9.7000</td>\n",
       "      <td>74.20000</td>\n",
       "      <td>57.839266</td>\n",
       "      <td>14.817377</td>\n",
       "      <td>57.83955</td>\n",
       "      <td>14.81813</td>\n",
       "      <td>6824.0</td>\n",
       "    </tr>\n",
       "    <tr>\n",
       "      <th>Arboga</th>\n",
       "      <td>1.5</td>\n",
       "      <td>1638.0</td>\n",
       "      <td>-61.5</td>\n",
       "      <td>344.90000</td>\n",
       "      <td>-2.4500</td>\n",
       "      <td>16.75000</td>\n",
       "      <td>59.395652</td>\n",
       "      <td>15.850700</td>\n",
       "      <td>59.39615</td>\n",
       "      <td>15.84135</td>\n",
       "      <td>14083.0</td>\n",
       "    </tr>\n",
       "    <tr>\n",
       "      <th>Arjeplog</th>\n",
       "      <td>4.0</td>\n",
       "      <td>3383.0</td>\n",
       "      <td>-37.0</td>\n",
       "      <td>199.80000</td>\n",
       "      <td>-1.1000</td>\n",
       "      <td>57.80000</td>\n",
       "      <td>66.051349</td>\n",
       "      <td>17.889644</td>\n",
       "      <td>66.05213</td>\n",
       "      <td>17.89029</td>\n",
       "      <td>2667.0</td>\n",
       "    </tr>\n",
       "    <tr>\n",
       "      <th>...</th>\n",
       "      <td>...</td>\n",
       "      <td>...</td>\n",
       "      <td>...</td>\n",
       "      <td>...</td>\n",
       "      <td>...</td>\n",
       "      <td>...</td>\n",
       "      <td>...</td>\n",
       "      <td>...</td>\n",
       "      <td>...</td>\n",
       "      <td>...</td>\n",
       "      <td>...</td>\n",
       "    </tr>\n",
       "    <tr>\n",
       "      <th>Åstorp</th>\n",
       "      <td>3.0</td>\n",
       "      <td>4965.0</td>\n",
       "      <td>551.0</td>\n",
       "      <td>144.80000</td>\n",
       "      <td>11.8000</td>\n",
       "      <td>53.90000</td>\n",
       "      <td>56.134903</td>\n",
       "      <td>12.944728</td>\n",
       "      <td>56.13451</td>\n",
       "      <td>12.94657</td>\n",
       "      <td>16341.0</td>\n",
       "    </tr>\n",
       "    <tr>\n",
       "      <th>Åtvidaberg</th>\n",
       "      <td>3.0</td>\n",
       "      <td>3874.0</td>\n",
       "      <td>701.0</td>\n",
       "      <td>250.30000</td>\n",
       "      <td>18.2000</td>\n",
       "      <td>59.10000</td>\n",
       "      <td>58.199692</td>\n",
       "      <td>16.001124</td>\n",
       "      <td>58.20058</td>\n",
       "      <td>16.00084</td>\n",
       "      <td>11506.0</td>\n",
       "    </tr>\n",
       "    <tr>\n",
       "      <th>Örebro</th>\n",
       "      <td>4.125</td>\n",
       "      <td>4175.125</td>\n",
       "      <td>-62.875</td>\n",
       "      <td>226.43125</td>\n",
       "      <td>-0.3125</td>\n",
       "      <td>0.90625</td>\n",
       "      <td>59.268994</td>\n",
       "      <td>15.213347</td>\n",
       "      <td>59.27084</td>\n",
       "      <td>15.21759</td>\n",
       "      <td>158057.0</td>\n",
       "    </tr>\n",
       "    <tr>\n",
       "      <th>Östersund</th>\n",
       "      <td>7.0</td>\n",
       "      <td>6101.666667</td>\n",
       "      <td>114.333333</td>\n",
       "      <td>93.10000</td>\n",
       "      <td>1.9000</td>\n",
       "      <td>17.10000</td>\n",
       "      <td>63.171627</td>\n",
       "      <td>14.645673</td>\n",
       "      <td>63.17800</td>\n",
       "      <td>14.64277</td>\n",
       "      <td>64714.0</td>\n",
       "    </tr>\n",
       "    <tr>\n",
       "      <th>Östhammar</th>\n",
       "      <td>1.5</td>\n",
       "      <td>2051.5</td>\n",
       "      <td>163.0</td>\n",
       "      <td>81.10000</td>\n",
       "      <td>5.7500</td>\n",
       "      <td>79.00000</td>\n",
       "      <td>60.242295</td>\n",
       "      <td>18.404067</td>\n",
       "      <td>60.25877</td>\n",
       "      <td>18.36978</td>\n",
       "      <td>22344.0</td>\n",
       "    </tr>\n",
       "  </tbody>\n",
       "</table>\n",
       "<p>176 rows × 11 columns</p>\n",
       "</div>"
      ],
      "text/plain": [
       "            num_employees  last_year_revenue  \\\n",
       "city                                           \n",
       "Alingsås              3.0             3732.0   \n",
       "Alvesta               7.0             6191.5   \n",
       "Aneby                 6.0             7026.0   \n",
       "Arboga                1.5             1638.0   \n",
       "Arjeplog              4.0             3383.0   \n",
       "...                   ...                ...   \n",
       "Åstorp                3.0             4965.0   \n",
       "Åtvidaberg            3.0             3874.0   \n",
       "Örebro              4.125           4175.125   \n",
       "Östersund             7.0        6101.666667   \n",
       "Östhammar             1.5             2051.5   \n",
       "\n",
       "            last_year_result_after_financial_assets  cash_flow_percent  \\\n",
       "city                                                                     \n",
       "Alingsås                                      340.0          314.80000   \n",
       "Alvesta                                       237.5          122.55000   \n",
       "Aneby                                         679.0          484.10000   \n",
       "Arboga                                        -61.5          344.90000   \n",
       "Arjeplog                                      -37.0          199.80000   \n",
       "...                                             ...                ...   \n",
       "Åstorp                                        551.0          144.80000   \n",
       "Åtvidaberg                                    701.0          250.30000   \n",
       "Örebro                                      -62.875          226.43125   \n",
       "Östersund                                114.333333           93.10000   \n",
       "Östhammar                                     163.0           81.10000   \n",
       "\n",
       "            profit_margin_percent  solidity_percent  address_latitude  \\\n",
       "city                                                                    \n",
       "Alingsås                   9.5000          77.25000         57.929268   \n",
       "Alvesta                    4.2000           9.15000         56.899172   \n",
       "Aneby                      9.7000          74.20000         57.839266   \n",
       "Arboga                    -2.4500          16.75000         59.395652   \n",
       "Arjeplog                  -1.1000          57.80000         66.051349   \n",
       "...                           ...               ...               ...   \n",
       "Åstorp                    11.8000          53.90000         56.134903   \n",
       "Åtvidaberg                18.2000          59.10000         58.199692   \n",
       "Örebro                    -0.3125           0.90625         59.268994   \n",
       "Östersund                  1.9000          17.10000         63.171627   \n",
       "Östhammar                  5.7500          79.00000         60.242295   \n",
       "\n",
       "            address_longitude  city_latitude  city_longitude  population  \n",
       "city                                                                      \n",
       "Alingsås            12.514903       57.92963        12.53240     42199.0  \n",
       "Alvesta             14.554301       56.90211        14.55861     20257.0  \n",
       "Aneby               14.817377       57.83955        14.81813      6824.0  \n",
       "Arboga              15.850700       59.39615        15.84135     14083.0  \n",
       "Arjeplog            17.889644       66.05213        17.89029      2667.0  \n",
       "...                       ...            ...             ...         ...  \n",
       "Åstorp              12.944728       56.13451        12.94657     16341.0  \n",
       "Åtvidaberg          16.001124       58.20058        16.00084     11506.0  \n",
       "Örebro              15.213347       59.27084        15.21759    158057.0  \n",
       "Östersund           14.645673       63.17800        14.64277     64714.0  \n",
       "Östhammar           18.404067       60.25877        18.36978     22344.0  \n",
       "\n",
       "[176 rows x 11 columns]"
      ]
     },
     "execution_count": 100,
     "metadata": {},
     "output_type": "execute_result"
    }
   ],
   "source": [
    "df_grouped_by_city = df_numeric_city.groupby(by='city').mean()\n",
    "df_grouped_by_city"
   ]
  },
  {
   "cell_type": "code",
   "execution_count": 101,
   "metadata": {},
   "outputs": [],
   "source": [
    "df_grouped_by_city.reset_index(inplace=True)"
   ]
  },
  {
   "cell_type": "code",
   "execution_count": 102,
   "metadata": {},
   "outputs": [
    {
     "data": {
      "text/html": [
       "<div>\n",
       "<style scoped>\n",
       "    .dataframe tbody tr th:only-of-type {\n",
       "        vertical-align: middle;\n",
       "    }\n",
       "\n",
       "    .dataframe tbody tr th {\n",
       "        vertical-align: top;\n",
       "    }\n",
       "\n",
       "    .dataframe thead th {\n",
       "        text-align: right;\n",
       "    }\n",
       "</style>\n",
       "<table border=\"1\" class=\"dataframe\">\n",
       "  <thead>\n",
       "    <tr style=\"text-align: right;\">\n",
       "      <th></th>\n",
       "      <th>city</th>\n",
       "      <th>num_employees</th>\n",
       "      <th>last_year_revenue</th>\n",
       "      <th>last_year_result_after_financial_assets</th>\n",
       "      <th>cash_flow_percent</th>\n",
       "      <th>profit_margin_percent</th>\n",
       "      <th>solidity_percent</th>\n",
       "      <th>address_latitude</th>\n",
       "      <th>address_longitude</th>\n",
       "      <th>city_latitude</th>\n",
       "      <th>city_longitude</th>\n",
       "      <th>population</th>\n",
       "    </tr>\n",
       "  </thead>\n",
       "  <tbody>\n",
       "    <tr>\n",
       "      <th>0</th>\n",
       "      <td>Alingsås</td>\n",
       "      <td>3.0</td>\n",
       "      <td>3732.0</td>\n",
       "      <td>340.0</td>\n",
       "      <td>314.80</td>\n",
       "      <td>9.50</td>\n",
       "      <td>77.25</td>\n",
       "      <td>57.929268</td>\n",
       "      <td>12.514903</td>\n",
       "      <td>57.92963</td>\n",
       "      <td>12.53240</td>\n",
       "      <td>42199.0</td>\n",
       "    </tr>\n",
       "    <tr>\n",
       "      <th>1</th>\n",
       "      <td>Alvesta</td>\n",
       "      <td>7.0</td>\n",
       "      <td>6191.5</td>\n",
       "      <td>237.5</td>\n",
       "      <td>122.55</td>\n",
       "      <td>4.20</td>\n",
       "      <td>9.15</td>\n",
       "      <td>56.899172</td>\n",
       "      <td>14.554301</td>\n",
       "      <td>56.90211</td>\n",
       "      <td>14.55861</td>\n",
       "      <td>20257.0</td>\n",
       "    </tr>\n",
       "    <tr>\n",
       "      <th>2</th>\n",
       "      <td>Aneby</td>\n",
       "      <td>6.0</td>\n",
       "      <td>7026.0</td>\n",
       "      <td>679.0</td>\n",
       "      <td>484.10</td>\n",
       "      <td>9.70</td>\n",
       "      <td>74.20</td>\n",
       "      <td>57.839266</td>\n",
       "      <td>14.817377</td>\n",
       "      <td>57.83955</td>\n",
       "      <td>14.81813</td>\n",
       "      <td>6824.0</td>\n",
       "    </tr>\n",
       "    <tr>\n",
       "      <th>3</th>\n",
       "      <td>Arboga</td>\n",
       "      <td>1.5</td>\n",
       "      <td>1638.0</td>\n",
       "      <td>-61.5</td>\n",
       "      <td>344.90</td>\n",
       "      <td>-2.45</td>\n",
       "      <td>16.75</td>\n",
       "      <td>59.395652</td>\n",
       "      <td>15.850700</td>\n",
       "      <td>59.39615</td>\n",
       "      <td>15.84135</td>\n",
       "      <td>14083.0</td>\n",
       "    </tr>\n",
       "    <tr>\n",
       "      <th>4</th>\n",
       "      <td>Arjeplog</td>\n",
       "      <td>4.0</td>\n",
       "      <td>3383.0</td>\n",
       "      <td>-37.0</td>\n",
       "      <td>199.80</td>\n",
       "      <td>-1.10</td>\n",
       "      <td>57.80</td>\n",
       "      <td>66.051349</td>\n",
       "      <td>17.889644</td>\n",
       "      <td>66.05213</td>\n",
       "      <td>17.89029</td>\n",
       "      <td>2667.0</td>\n",
       "    </tr>\n",
       "  </tbody>\n",
       "</table>\n",
       "</div>"
      ],
      "text/plain": [
       "       city  num_employees  last_year_revenue  \\\n",
       "0  Alingsås            3.0             3732.0   \n",
       "1   Alvesta            7.0             6191.5   \n",
       "2     Aneby            6.0             7026.0   \n",
       "3    Arboga            1.5             1638.0   \n",
       "4  Arjeplog            4.0             3383.0   \n",
       "\n",
       "   last_year_result_after_financial_assets  cash_flow_percent  \\\n",
       "0                                    340.0             314.80   \n",
       "1                                    237.5             122.55   \n",
       "2                                    679.0             484.10   \n",
       "3                                    -61.5             344.90   \n",
       "4                                    -37.0             199.80   \n",
       "\n",
       "   profit_margin_percent  solidity_percent  address_latitude  \\\n",
       "0                   9.50             77.25         57.929268   \n",
       "1                   4.20              9.15         56.899172   \n",
       "2                   9.70             74.20         57.839266   \n",
       "3                  -2.45             16.75         59.395652   \n",
       "4                  -1.10             57.80         66.051349   \n",
       "\n",
       "   address_longitude  city_latitude  city_longitude  population  \n",
       "0          12.514903       57.92963        12.53240     42199.0  \n",
       "1          14.554301       56.90211        14.55861     20257.0  \n",
       "2          14.817377       57.83955        14.81813      6824.0  \n",
       "3          15.850700       59.39615        15.84135     14083.0  \n",
       "4          17.889644       66.05213        17.89029      2667.0  "
      ]
     },
     "execution_count": 102,
     "metadata": {},
     "output_type": "execute_result"
    }
   ],
   "source": [
    "df_grouped_by_city.head()"
   ]
  },
  {
   "cell_type": "code",
   "execution_count": 148,
   "metadata": {},
   "outputs": [
    {
     "data": {
      "application/vnd.plotly.v1+json": {
       "config": {
        "plotlyServerURL": "https://plot.ly"
       },
       "data": [
        {
         "customdata": [
          [
           "Alingsås",
           42199,
           3,
           3732,
           340
          ],
          [
           "Alvesta",
           20257,
           7,
           6191.5,
           237.5
          ],
          [
           "Aneby",
           6824,
           6,
           7026,
           679
          ],
          [
           "Arboga",
           14083,
           1.5,
           1638,
           -61.5
          ],
          [
           "Arjeplog",
           2667,
           4,
           3383,
           -37
          ],
          [
           "Arvidsjaur",
           6111,
           3,
           3474,
           417
          ],
          [
           "Arvika",
           25832,
           5,
           6033.333333333333,
           353.3333333333333
          ],
          [
           "Askersund",
           11497,
           6,
           6512,
           69
          ],
          [
           "Avesta",
           22932,
           0.5,
           1061.5,
           67
          ],
          [
           "Bengtsfors",
           9255,
           4,
           3536,
           -187
          ],
          [
           "Boden",
           28048,
           4,
           3798,
           212.5
          ],
          [
           "Bollebygd",
           9703,
           4,
           4226,
           880
          ],
          [
           "Borgholm",
           10857,
           3,
           4607,
           416
          ],
          [
           "Borlänge",
           52178,
           2.3333333333333335,
           2689.6666666666665,
           87
          ],
          [
           "Borås",
           114445,
           3.7142857142857144,
           4613.142857142857,
           87.57142857142857
          ],
          [
           "Boxholm",
           5498,
           6,
           6187,
           384
          ],
          [
           "Bromölla",
           12633,
           1.5,
           1566,
           -25
          ],
          [
           "Båstad",
           15824,
           2.5,
           2854.5,
           12
          ],
          [
           "Danderyd",
           32692,
           5.5,
           6092,
           204
          ],
          [
           "Ekerö",
           29123,
           5,
           9011,
           22
          ],
          [
           "Eksjö",
           17858,
           6,
           7232,
           76
          ],
          [
           "Emmaboda",
           9347,
           2,
           5809,
           929
          ],
          [
           "Eskilstuna",
           107918,
           2.6,
           3126.9,
           112.3
          ],
          [
           "Eslöv",
           34701,
           3,
           5678,
           272
          ],
          [
           "Fagersta",
           13341,
           2,
           1727.5,
           -601.5
          ],
          [
           "Falkenberg",
           47017,
           2.625,
           3454.25,
           433
          ],
          [
           "Falköping",
           33252,
           3,
           4197,
           856
          ],
          [
           "Falun",
           59818,
           1,
           623,
           -63
          ],
          [
           "Finspång",
           21903,
           3.3333333333333335,
           4785.666666666667,
           -77.66666666666667
          ],
          [
           "Gnosjö",
           9438,
           3,
           4841,
           1086
          ],
          [
           "Grums",
           9105,
           2,
           2796,
           269
          ],
          [
           "Gällivare",
           17420,
           3.3333333333333335,
           3697,
           370.3333333333333
          ],
          [
           "Gävle",
           103493,
           3.857142857142857,
           3663.4285714285716,
           192.42857142857142
          ],
          [
           "Göteborg",
           596841,
           3.52,
           3623.24,
           132.28
          ],
          [
           "Habo",
           13128,
           7.5,
           9027,
           287.5
          ],
          [
           "Hallstahammar",
           16711,
           2,
           2327,
           111
          ],
          [
           "Halmstad",
           105148,
           3.75,
           3049.375,
           161.625
          ],
          [
           "Haninge",
           97683,
           2,
           4315,
           57
          ],
          [
           "Haparanda",
           9340,
           5,
           4031,
           896
          ],
          [
           "Helsingborg",
           150975,
           3.7058823529411766,
           3729.705882352941,
           146.47058823529412
          ],
          [
           "Hjo",
           9243,
           2.5,
           3500,
           376
          ],
          [
           "Hofors",
           9472,
           3.5,
           3833,
           -96
          ],
          [
           "Huddinge",
           114504,
           5.5,
           7232.5,
           286
          ],
          [
           "Hudiksvall",
           37688,
           4.5,
           3906.5,
           139.5
          ],
          [
           "Hultsfred",
           14064,
           4,
           2532.5,
           450
          ],
          [
           "Härnösand",
           24879,
           12,
           8286,
           -119
          ],
          [
           "Hässleholm",
           52369,
           4.5,
           4505,
           161.5
          ],
          [
           "Höganäs",
           28103,
           2,
           2664,
           50.5
          ],
          [
           "Höör",
           17297,
           4,
           3473,
           26
          ],
          [
           "Järfälla",
           85460,
           2.1666666666666665,
           2264.1666666666665,
           -50.666666666666664
          ],
          [
           "Jönköping",
           145114,
           3.2666666666666666,
           3546.0666666666666,
           96.46666666666667
          ],
          [
           "Kalix",
           15729,
           8,
           7899,
           920
          ],
          [
           "Kalmar",
           72018,
           4.571428571428571,
           4325.714285714285,
           355.14285714285717
          ],
          [
           "Karlshamn",
           32216,
           4,
           5499,
           -386
          ],
          [
           "Karlskoga",
           30278,
           5.666666666666667,
           6119.666666666667,
           135.33333333333334
          ],
          [
           "Karlskrona",
           66682,
           4.5,
           4737.5,
           312.25
          ],
          [
           "Karlstad",
           96466,
           2.9,
           3490.5,
           95
          ],
          [
           "Katrineholm",
           34604,
           6,
           6006.5,
           363
          ],
          [
           "Kil",
           12115,
           3,
           3195.3333333333335,
           122.66666666666667
          ],
          [
           "Kiruna",
           22423,
           3.5,
           2639.5,
           158.5
          ],
          [
           "Klippan",
           17865,
           3.3333333333333335,
           4028,
           190.33333333333334
          ],
          [
           "Knivsta",
           20133,
           5,
           4989,
           574
          ],
          [
           "Kramfors",
           17904,
           4,
           5196,
           676
          ],
          [
           "Kristianstad",
           86738,
           3.25,
           3498.5,
           221.75
          ],
          [
           "Kristinehamn",
           24053,
           3.3333333333333335,
           3532,
           97.66666666666667
          ],
          [
           "Krokom",
           15532,
           5,
           4131,
           7
          ],
          [
           "Kumla",
           22479,
           3.75,
           3747,
           297.25
          ],
          [
           "Kungsbacka",
           85801,
           4,
           795,
           416
          ],
          [
           "Kungälv",
           49068,
           4.666666666666667,
           3495,
           -18.333333333333332
          ],
          [
           "Kävlinge",
           32470,
           6,
           4876,
           -314
          ],
          [
           "Köping",
           26120,
           3.5,
           3874,
           72.5
          ],
          [
           "Laholm",
           26575,
           2,
           1505,
           194
          ],
          [
           "Laxå",
           5576,
           4,
           9742,
           425
          ],
          [
           "Lessebo",
           8485,
           4,
           3968,
           27
          ],
          [
           "Lidingö",
           48432,
           3.5,
           4591,
           42
          ],
          [
           "Lidköping",
           40457,
           5.5,
           6449.5,
           527.5
          ],
          [
           "Lilla Edet",
           14428,
           4,
           4526.5,
           130.5
          ],
          [
           "Lindesberg",
           23435,
           3.5,
           4243.5,
           158
          ],
          [
           "Linköping",
           166673,
           3.9,
           3929.4,
           -45.5
          ],
          [
           "Ljungby",
           28483,
           4,
           4629,
           227.2
          ],
          [
           "Ljusdal",
           18771,
           5.5,
           4821.5,
           277.5
          ],
          [
           "Lomma",
           24721,
           3,
           3159,
           237
          ],
          [
           "Ludvika",
           26353,
           5,
           5657.5,
           301
          ],
          [
           "Luleå",
           79244,
           3.7142857142857144,
           4523.857142857143,
           290.14285714285717
          ],
          [
           "Lund",
           128384,
           5.428571428571429,
           5481.714285714285,
           310.14285714285717
          ],
          [
           "Lysekil",
           14170,
           3,
           2320,
           557
          ],
          [
           "Malmö",
           357377,
           4.0476190476190474,
           4056.9523809523807,
           55.476190476190474
          ],
          [
           "Mariestad",
           24768,
           6,
           5979.333333333333,
           355.3333333333333
          ],
          [
           "Markaryd",
           10166,
           3,
           4225,
           921
          ],
          [
           "Mjölby",
           28471,
           4.5,
           4946,
           274
          ],
          [
           "Motala",
           43728,
           4.5,
           4927.5,
           178.5
          ],
          [
           "Mullsjö",
           7532,
           5.5,
           5297.5,
           262
          ],
          [
           "Munkfors",
           3701,
           2,
           2687,
           181
          ],
          [
           "Mölndal",
           70109,
           5.857142857142857,
           5232.142857142857,
           83.28571428571429
          ],
          [
           "Mönsterås",
           13276,
           1,
           1263,
           235
          ],
          [
           "Nacka",
           109486,
           2.3333333333333335,
           2156.3333333333335,
           -19.666666666666668
          ],
          [
           "Nora",
           10701,
           5,
           6745,
           96
          ],
          [
           "Norberg",
           5627,
           1,
           2855,
           325
          ],
          [
           "Nordmaling",
           7066,
           1,
           101,
           -201
          ],
          [
           "Norrköping",
           145120,
           2.7777777777777777,
           2898.8888888888887,
           13.11111111111111
          ],
          [
           "Norrtälje",
           65587,
           7,
           8743,
           -70
          ],
          [
           "Norsjö",
           3947,
           2,
           3453,
           481
          ],
          [
           "Nybro",
           20303,
           8,
           8472,
           281
          ],
          [
           "Nyköping",
           58021,
           3,
           2981.6666666666665,
           203.33333333333334
          ],
          [
           "Nynäshamn",
           30043,
           10,
           5641,
           143
          ],
          [
           "Nässjö",
           31944,
           3.6666666666666665,
           4412.333333333333,
           329.3333333333333
          ],
          [
           "Ockelbo",
           5821,
           2,
           2967,
           440
          ],
          [
           "Osby",
           13238,
           6,
           5414,
           637
          ],
          [
           "Oskarshamn",
           27028,
           2.5,
           2624.25,
           476.75
          ],
          [
           "Pajala",
           5883,
           5,
           5728,
           347
          ],
          [
           "Piteå",
           42362,
           2,
           1900,
           -14
          ],
          [
           "Ronneby",
           29169,
           2,
           1923,
           -48
          ],
          [
           "Rättvik",
           11092,
           10,
           8133,
           -244
          ],
          [
           "Sandviken",
           39098,
           2,
           1944.5,
           194.5
          ],
          [
           "Simrishamn",
           19074,
           3,
           5903.5,
           64.5
          ],
          [
           "Sjöbo",
           19547,
           4.5,
           8835,
           480.5
          ],
          [
           "Skara",
           18755,
           3.25,
           5285.75,
           111
          ],
          [
           "Skellefteå",
           74402,
           6.166666666666667,
           6522.833333333333,
           589.8333333333334
          ],
          [
           "Skurup",
           16731,
           3,
           2563,
           209
          ],
          [
           "Skövde",
           57463,
           2.3333333333333335,
           3236,
           167.66666666666666
          ],
          [
           "Sollefteå",
           18667,
           4.5,
           5439,
           456.5
          ],
          [
           "Sollentuna",
           76237,
           3,
           3436.2,
           -76.4
          ],
          [
           "Solna",
           85450,
           4.4,
           4589.3,
           200.9
          ],
          [
           "Staffanstorp",
           26778,
           3.5,
           3572,
           220.5
          ],
          [
           "Stenungsund",
           27870,
           3,
           4074,
           147
          ],
          [
           "Stockholm",
           984748,
           4.076923076923077,
           4347.5641025641025,
           11.794871794871796
          ],
          [
           "Strängnäs",
           38526,
           3,
           3617,
           246
          ],
          [
           "Strömstad",
           13290,
           3,
           3177.8571428571427,
           -43
          ],
          [
           "Strömsund",
           11397,
           8,
           6509,
           406
          ],
          [
           "Sundbyberg",
           54070,
           6,
           7798,
           391.5
          ],
          [
           "Sundsvall",
           99361,
           2.5,
           3577.25,
           197
          ],
          [
           "Sunne",
           13418,
           7,
           8514,
           329
          ],
          [
           "Svedala",
           23288,
           7.5,
           6858.5,
           219
          ],
          [
           "Sävsjö",
           11771,
           1,
           1159,
           -142
          ],
          [
           "Söderhamn",
           25258,
           3.5,
           4828,
           206.5
          ],
          [
           "Södertälje",
           102426,
           3.6363636363636362,
           4141.545454545455,
           134
          ],
          [
           "Sölvesborg",
           17514,
           3.25,
           2967.5,
           -42
          ],
          [
           "Tidaholm",
           12839,
           5,
           5579,
           51
          ],
          [
           "Tierp",
           21406,
           2,
           1079,
           53
          ],
          [
           "Tingsryd",
           12297,
           1.5,
           1984.5,
           136
          ],
          [
           "Tranemo",
           11940,
           5,
           4128,
           267
          ],
          [
           "Tranås",
           18804,
           5,
           4881,
           376
          ],
          [
           "Trelleborg",
           46649,
           5.5,
           6632.5,
           362
          ],
          [
           "Trollhättan",
           59274,
           3.2857142857142856,
           3477.285714285714,
           187.85714285714286
          ],
          [
           "Tyresö",
           49214,
           4.75,
           3554,
           81.75
          ],
          [
           "Täby",
           75137,
           2.3333333333333335,
           4483.333333333333,
           288
          ],
          [
           "Uddevalla",
           57282,
           3.6666666666666665,
           4508.666666666667,
           254
          ],
          [
           "Ulricehamn",
           25108,
           2.5,
           2806.25,
           360.25
          ],
          [
           "Umeå",
           132235,
           3.6363636363636362,
           2958.090909090909,
           175.9090909090909
          ],
          [
           "Upplands Väsby",
           49262,
           5.857142857142857,
           6064.428571428572,
           -27.857142857142858
          ],
          [
           "Uppsala",
           242140,
           4.444444444444445,
           3885.8333333333335,
           121.55555555555556
          ],
          [
           "Vaggeryd",
           14854,
           4,
           5374,
           1059
          ],
          [
           "Valdemarsvik",
           7630,
           1,
           927,
           -21
          ],
          [
           "Vara",
           16163,
           5,
           9863,
           971
          ],
          [
           "Varberg",
           67800,
           2.75,
           2972.625,
           12.875
          ],
          [
           "Vaxholm",
           11899,
           3.5,
           4053.5,
           155
          ],
          [
           "Vetlanda",
           27673,
           2,
           2313,
           49
          ],
          [
           "Vilhelmina",
           6393,
           3,
           2835,
           335
          ],
          [
           "Vimmerby",
           15557,
           5,
           6892,
           712
          ],
          [
           "Vänersborg",
           39904,
           5,
           5090,
           40
          ],
          [
           "Vännäs",
           8963,
           2,
           3635,
           336
          ],
          [
           "Värnamo",
           34692,
           5,
           4221.666666666667,
           121.66666666666667
          ],
          [
           "Västerås",
           158653,
           3.0476190476190474,
           3843.285714285714,
           196.33333333333334
          ],
          [
           "Växjö",
           97137,
           3.7,
           4081.4,
           237
          ],
          [
           "Ystad",
           31714,
           3,
           2589,
           -374
          ],
          [
           "Älmhult",
           18092,
           3,
           3921,
           311
          ],
          [
           "Älvdalen",
           7018,
           3,
           3530,
           432
          ],
          [
           "Ängelholm",
           44268,
           4,
           3105,
           302.5
          ],
          [
           "Åmål",
           12216,
           2,
           1961,
           30
          ],
          [
           "Åre",
           12330,
           9,
           8882.5,
           549.5
          ],
          [
           "Årjäng",
           9914,
           3,
           3663.5,
           -182.5
          ],
          [
           "Åstorp",
           16341,
           3,
           4965,
           551
          ],
          [
           "Åtvidaberg",
           11506,
           3,
           3874,
           701
          ],
          [
           "Örebro",
           158057,
           4.125,
           4175.125,
           -62.875
          ],
          [
           "Östersund",
           64714,
           7,
           6101.666666666667,
           114.33333333333333
          ],
          [
           "Östhammar",
           22344,
           1.5,
           2051.5,
           163
          ]
         ],
         "hovertemplate": "<b>City: %{customdata[0]}</b><br>Population: %{customdata[1]}<br>Avg Employees: %{customdata[2]:.1f}<br>Last Year Avg Revenue: %{customdata[3]:.1f}<br>Last Year Avg Result After Financial Assets: %{customdata[4]:.1f}",
         "lat": [
          57.92963,
          56.90211,
          57.83955,
          59.39615,
          66.05213,
          65.59012,
          59.6539,
          58.88744,
          60.14381,
          59.03021,
          65.82481,
          57.66873,
          56.87936,
          60.4838,
          57.72008999999999,
          58.19689,
          56.07337,
          56.42869,
          59.39892,
          59.29117,
          57.66697,
          56.63024,
          59.37236,
          55.83947,
          60.00301,
          56.9057,
          58.16206,
          60.60442,
          58.70834,
          57.35827,
          59.35262,
          67.13319,
          60.67366,
          57.70067,
          59.56954,
          59.61291,
          56.67226,
          59.16986,
          65.83546,
          56.04399,
          58.30509,
          60.54945,
          59.2349,
          61.72891,
          57.48865,
          62.63353,
          56.15728,
          56.19993,
          55.93541,
          59.42238,
          57.77976,
          65.85511,
          56.66613,
          56.16972,
          59.32662,
          56.16067,
          59.3805,
          58.99286,
          59.50429,
          67.85552,
          56.13496,
          59.7256,
          62.93142,
          56.03099,
          59.30949999999999,
          63.32659,
          59.12769,
          57.48923,
          57.87033,
          55.78976,
          59.51479,
          56.5135,
          58.98735,
          56.75137,
          59.36523,
          58.50331,
          58.13459,
          59.59291,
          58.41109,
          56.833420000000004,
          61.82938,
          55.67275,
          60.14952,
          65.58387,
          55.70664,
          58.27417,
          55.59669,
          58.709120000000006,
          56.46295,
          58.32601,
          58.53646,
          57.91491,
          59.83534,
          57.65473000000001,
          57.04051,
          59.3111,
          59.51925,
          60.06528,
          63.56984,
          58.58462,
          59.75959,
          64.91614,
          56.74581,
          58.75322,
          58.90388,
          57.65336,
          60.8902,
          56.37979,
          57.26499,
          67.21076,
          65.3201,
          56.2105,
          60.88472,
          60.62012,
          55.55613,
          55.63159,
          58.38466,
          64.74945,
          55.47959,
          58.391420000000004,
          63.16793,
          59.42925,
          59.35869,
          55.6502,
          58.06841,
          59.33257,
          59.37495,
          58.9387,
          63.85258,
          59.36217,
          62.38888,
          59.83754,
          55.50856,
          57.40192,
          61.30172,
          59.197160000000004,
          56.05295,
          58.17965,
          60.3435,
          56.52498,
          57.4856,
          58.03551,
          55.37561,
          58.2831,
          59.24371,
          59.444449999999996,
          58.35096000000001,
          57.79275,
          63.82529,
          59.519709999999996,
          59.85862,
          57.49918,
          58.20266,
          58.26266,
          57.10789,
          59.40188,
          57.42637,
          64.62407,
          57.66747,
          58.38189,
          63.91074,
          57.18641,
          59.609579999999994,
          56.87991000000001,
          55.43124,
          56.55294,
          61.22754,
          56.24272,
          59.0529,
          63.39964,
          59.39116,
          56.13451,
          58.20058,
          59.27084,
          63.178,
          60.25877
         ],
         "legendgroup": "",
         "lon": [
          12.532399999999999,
          14.55861,
          14.81813,
          15.84135,
          17.89029,
          19.18356,
          12.59093,
          14.91627,
          16.17163,
          12.22505,
          21.6889,
          12.57016,
          16.66016,
          15.43434,
          12.94526,
          15.0531,
          14.46771,
          12.84472,
          18.03677,
          17.80709,
          14.96951,
          15.54012,
          16.5164,
          13.30481,
          15.7946,
          12.49041,
          13.55474,
          15.62939,
          15.77659,
          13.732050000000001,
          13.11242,
          20.65721,
          17.14557,
          11.96822,
          17.52867,
          16.23136,
          12.8575,
          18.13855,
          24.13743,
          12.696110000000001,
          14.29273,
          16.28706,
          17.97859,
          17.10556,
          15.84101,
          17.93756,
          13.76362,
          12.56363,
          13.54027,
          17.83353,
          14.17648,
          23.14386,
          16.36394,
          14.86057,
          14.52648,
          15.58464,
          13.499370000000003,
          16.2103,
          13.319340000000002,
          20.22236,
          13.13285,
          17.78769,
          17.77551,
          14.15416,
          14.10597,
          14.448550000000001,
          15.14346,
          12.07848,
          11.98089,
          13.11031,
          15.99759,
          13.04402,
          14.62067,
          15.26987,
          18.13291,
          13.15843,
          12.12566,
          15.22846,
          15.625650000000002,
          13.938510000000003,
          16.08935,
          13.06797,
          15.1877,
          22.15221,
          13.18759,
          11.43157,
          13.0011,
          13.823749999999999,
          13.59682,
          15.13195,
          15.03537,
          13.87756,
          13.54397,
          12.01187,
          16.44621,
          18.16451,
          15.03905,
          15.92363,
          19.50046,
          16.19376,
          18.70289,
          19.47495,
          15.90608,
          17.00927,
          17.94644,
          14.69722,
          16.71709,
          13.99506,
          16.44883,
          23.36885,
          21.47392,
          15.28026,
          15.11899,
          16.77807,
          14.35034,
          13.706150000000001,
          13.43899,
          20.95586,
          13.50265,
          13.8472,
          17.26698,
          17.95179,
          18.00296,
          13.2051,
          11.82069,
          18.06683,
          17.02675,
          11.17124,
          15.55734,
          17.97128,
          17.30672,
          13.14378,
          13.23372,
          14.66414,
          17.0523,
          17.624,
          14.58356,
          13.95773,
          17.5149,
          14.97824,
          13.35442,
          14.9765,
          13.14748,
          12.28731,
          18.22914,
          18.07441,
          11.93264,
          13.41079,
          20.26059,
          17.90929,
          17.64373,
          14.14862,
          16.60162,
          12.95348,
          12.24901,
          18.35279,
          15.08506,
          16.66176,
          15.85453,
          12.324300000000001,
          19.7507,
          14.04242,
          16.54535,
          14.799430000000001,
          13.82827,
          14.14085,
          14.03958,
          12.86279,
          12.70442,
          13.07865,
          12.13245,
          12.94657,
          16.00084,
          15.21759,
          14.64277,
          18.36978
         ],
         "marker": {
          "color": [
           3732,
           6191.5,
           7026,
           1638,
           3383,
           3474,
           6033.333333333333,
           6512,
           1061.5,
           3536,
           3798,
           4226,
           4607,
           2689.6666666666665,
           4613.142857142857,
           6187,
           1566,
           2854.5,
           6092,
           9011,
           7232,
           5809,
           3126.9,
           5678,
           1727.5,
           3454.25,
           4197,
           623,
           4785.666666666667,
           4841,
           2796,
           3697,
           3663.4285714285716,
           3623.24,
           9027,
           2327,
           3049.375,
           4315,
           4031,
           3729.705882352941,
           3500,
           3833,
           7232.5,
           3906.5,
           2532.5,
           8286,
           4505,
           2664,
           3473,
           2264.1666666666665,
           3546.0666666666666,
           7899,
           4325.714285714285,
           5499,
           6119.666666666667,
           4737.5,
           3490.5,
           6006.5,
           3195.3333333333335,
           2639.5,
           4028,
           4989,
           5196,
           3498.5,
           3532,
           4131,
           3747,
           795,
           3495,
           4876,
           3874,
           1505,
           9742,
           3968,
           4591,
           6449.5,
           4526.5,
           4243.5,
           3929.4,
           4629,
           4821.5,
           3159,
           5657.5,
           4523.857142857143,
           5481.714285714285,
           2320,
           4056.9523809523807,
           5979.333333333333,
           4225,
           4946,
           4927.5,
           5297.5,
           2687,
           5232.142857142857,
           1263,
           2156.3333333333335,
           6745,
           2855,
           101,
           2898.8888888888887,
           8743,
           3453,
           8472,
           2981.6666666666665,
           5641,
           4412.333333333333,
           2967,
           5414,
           2624.25,
           5728,
           1900,
           1923,
           8133,
           1944.5,
           5903.5,
           8835,
           5285.75,
           6522.833333333333,
           2563,
           3236,
           5439,
           3436.2,
           4589.3,
           3572,
           4074,
           4347.5641025641025,
           3617,
           3177.8571428571427,
           6509,
           7798,
           3577.25,
           8514,
           6858.5,
           1159,
           4828,
           4141.545454545455,
           2967.5,
           5579,
           1079,
           1984.5,
           4128,
           4881,
           6632.5,
           3477.285714285714,
           3554,
           4483.333333333333,
           4508.666666666667,
           2806.25,
           2958.090909090909,
           6064.428571428572,
           3885.8333333333335,
           5374,
           927,
           9863,
           2972.625,
           4053.5,
           2313,
           2835,
           6892,
           5090,
           3635,
           4221.666666666667,
           3843.285714285714,
           4081.4,
           2589,
           3921,
           3530,
           3105,
           1961,
           8882.5,
           3663.5,
           4965,
           3874,
           4175.125,
           6101.666666666667,
           2051.5
          ],
          "coloraxis": "coloraxis",
          "size": [
           3,
           7,
           6,
           1.5,
           4,
           3,
           5,
           6,
           0.5,
           4,
           4,
           4,
           3,
           2.3333333333333335,
           3.7142857142857144,
           6,
           1.5,
           2.5,
           5.5,
           5,
           6,
           2,
           2.6,
           3,
           2,
           2.625,
           3,
           1,
           3.3333333333333335,
           3,
           2,
           3.3333333333333335,
           3.857142857142857,
           3.52,
           7.5,
           2,
           3.75,
           2,
           5,
           3.7058823529411766,
           2.5,
           3.5,
           5.5,
           4.5,
           4,
           12,
           4.5,
           2,
           4,
           2.1666666666666665,
           3.2666666666666666,
           8,
           4.571428571428571,
           4,
           5.666666666666667,
           4.5,
           2.9,
           6,
           3,
           3.5,
           3.3333333333333335,
           5,
           4,
           3.25,
           3.3333333333333335,
           5,
           3.75,
           4,
           4.666666666666667,
           6,
           3.5,
           2,
           4,
           4,
           3.5,
           5.5,
           4,
           3.5,
           3.9,
           4,
           5.5,
           3,
           5,
           3.7142857142857144,
           5.428571428571429,
           3,
           4.0476190476190474,
           6,
           3,
           4.5,
           4.5,
           5.5,
           2,
           5.857142857142857,
           1,
           2.3333333333333335,
           5,
           1,
           1,
           2.7777777777777777,
           7,
           2,
           8,
           3,
           10,
           3.6666666666666665,
           2,
           6,
           2.5,
           5,
           2,
           2,
           10,
           2,
           3,
           4.5,
           3.25,
           6.166666666666667,
           3,
           2.3333333333333335,
           4.5,
           3,
           4.4,
           3.5,
           3,
           4.076923076923077,
           3,
           3,
           8,
           6,
           2.5,
           7,
           7.5,
           1,
           3.5,
           3.6363636363636362,
           3.25,
           5,
           2,
           1.5,
           5,
           5,
           5.5,
           3.2857142857142856,
           4.75,
           2.3333333333333335,
           3.6666666666666665,
           2.5,
           3.6363636363636362,
           5.857142857142857,
           4.444444444444445,
           4,
           1,
           5,
           2.75,
           3.5,
           2,
           3,
           5,
           5,
           2,
           5,
           3.0476190476190474,
           3.7,
           3,
           3,
           3,
           4,
           2,
           9,
           3,
           3,
           3,
           4.125,
           7,
           1.5
          ],
          "sizemode": "area",
          "sizeref": 0.03
         },
         "mode": "markers",
         "name": "",
         "showlegend": false,
         "subplot": "mapbox",
         "type": "scattermapbox"
        }
       ],
       "layout": {
        "coloraxis": {
         "colorbar": {
          "title": {
           "text": "last_year_revenue"
          }
         },
         "colorscale": [
          [
           0,
           "#0d0887"
          ],
          [
           0.1111111111111111,
           "#46039f"
          ],
          [
           0.2222222222222222,
           "#7201a8"
          ],
          [
           0.3333333333333333,
           "#9c179e"
          ],
          [
           0.4444444444444444,
           "#bd3786"
          ],
          [
           0.5555555555555556,
           "#d8576b"
          ],
          [
           0.6666666666666666,
           "#ed7953"
          ],
          [
           0.7777777777777778,
           "#fb9f3a"
          ],
          [
           0.8888888888888888,
           "#fdca26"
          ],
          [
           1,
           "#f0f921"
          ]
         ]
        },
        "height": 600,
        "legend": {
         "itemsizing": "constant",
         "tracegroupgap": 0
        },
        "mapbox": {
         "center": {
          "lat": 59.09735539772726,
          "lon": 15.4415575
         },
         "domain": {
          "x": [
           0,
           1
          ],
          "y": [
           0,
           1
          ]
         },
         "style": "open-street-map",
         "zoom": 3
        },
        "margin": {
         "b": 10,
         "l": 0,
         "r": 0,
         "t": 50
        },
        "template": {
         "data": {
          "bar": [
           {
            "error_x": {
             "color": "#2a3f5f"
            },
            "error_y": {
             "color": "#2a3f5f"
            },
            "marker": {
             "line": {
              "color": "#E5ECF6",
              "width": 0.5
             },
             "pattern": {
              "fillmode": "overlay",
              "size": 10,
              "solidity": 0.2
             }
            },
            "type": "bar"
           }
          ],
          "barpolar": [
           {
            "marker": {
             "line": {
              "color": "#E5ECF6",
              "width": 0.5
             },
             "pattern": {
              "fillmode": "overlay",
              "size": 10,
              "solidity": 0.2
             }
            },
            "type": "barpolar"
           }
          ],
          "carpet": [
           {
            "aaxis": {
             "endlinecolor": "#2a3f5f",
             "gridcolor": "white",
             "linecolor": "white",
             "minorgridcolor": "white",
             "startlinecolor": "#2a3f5f"
            },
            "baxis": {
             "endlinecolor": "#2a3f5f",
             "gridcolor": "white",
             "linecolor": "white",
             "minorgridcolor": "white",
             "startlinecolor": "#2a3f5f"
            },
            "type": "carpet"
           }
          ],
          "choropleth": [
           {
            "colorbar": {
             "outlinewidth": 0,
             "ticks": ""
            },
            "type": "choropleth"
           }
          ],
          "contour": [
           {
            "colorbar": {
             "outlinewidth": 0,
             "ticks": ""
            },
            "colorscale": [
             [
              0,
              "#0d0887"
             ],
             [
              0.1111111111111111,
              "#46039f"
             ],
             [
              0.2222222222222222,
              "#7201a8"
             ],
             [
              0.3333333333333333,
              "#9c179e"
             ],
             [
              0.4444444444444444,
              "#bd3786"
             ],
             [
              0.5555555555555556,
              "#d8576b"
             ],
             [
              0.6666666666666666,
              "#ed7953"
             ],
             [
              0.7777777777777778,
              "#fb9f3a"
             ],
             [
              0.8888888888888888,
              "#fdca26"
             ],
             [
              1,
              "#f0f921"
             ]
            ],
            "type": "contour"
           }
          ],
          "contourcarpet": [
           {
            "colorbar": {
             "outlinewidth": 0,
             "ticks": ""
            },
            "type": "contourcarpet"
           }
          ],
          "heatmap": [
           {
            "colorbar": {
             "outlinewidth": 0,
             "ticks": ""
            },
            "colorscale": [
             [
              0,
              "#0d0887"
             ],
             [
              0.1111111111111111,
              "#46039f"
             ],
             [
              0.2222222222222222,
              "#7201a8"
             ],
             [
              0.3333333333333333,
              "#9c179e"
             ],
             [
              0.4444444444444444,
              "#bd3786"
             ],
             [
              0.5555555555555556,
              "#d8576b"
             ],
             [
              0.6666666666666666,
              "#ed7953"
             ],
             [
              0.7777777777777778,
              "#fb9f3a"
             ],
             [
              0.8888888888888888,
              "#fdca26"
             ],
             [
              1,
              "#f0f921"
             ]
            ],
            "type": "heatmap"
           }
          ],
          "heatmapgl": [
           {
            "colorbar": {
             "outlinewidth": 0,
             "ticks": ""
            },
            "colorscale": [
             [
              0,
              "#0d0887"
             ],
             [
              0.1111111111111111,
              "#46039f"
             ],
             [
              0.2222222222222222,
              "#7201a8"
             ],
             [
              0.3333333333333333,
              "#9c179e"
             ],
             [
              0.4444444444444444,
              "#bd3786"
             ],
             [
              0.5555555555555556,
              "#d8576b"
             ],
             [
              0.6666666666666666,
              "#ed7953"
             ],
             [
              0.7777777777777778,
              "#fb9f3a"
             ],
             [
              0.8888888888888888,
              "#fdca26"
             ],
             [
              1,
              "#f0f921"
             ]
            ],
            "type": "heatmapgl"
           }
          ],
          "histogram": [
           {
            "marker": {
             "pattern": {
              "fillmode": "overlay",
              "size": 10,
              "solidity": 0.2
             }
            },
            "type": "histogram"
           }
          ],
          "histogram2d": [
           {
            "colorbar": {
             "outlinewidth": 0,
             "ticks": ""
            },
            "colorscale": [
             [
              0,
              "#0d0887"
             ],
             [
              0.1111111111111111,
              "#46039f"
             ],
             [
              0.2222222222222222,
              "#7201a8"
             ],
             [
              0.3333333333333333,
              "#9c179e"
             ],
             [
              0.4444444444444444,
              "#bd3786"
             ],
             [
              0.5555555555555556,
              "#d8576b"
             ],
             [
              0.6666666666666666,
              "#ed7953"
             ],
             [
              0.7777777777777778,
              "#fb9f3a"
             ],
             [
              0.8888888888888888,
              "#fdca26"
             ],
             [
              1,
              "#f0f921"
             ]
            ],
            "type": "histogram2d"
           }
          ],
          "histogram2dcontour": [
           {
            "colorbar": {
             "outlinewidth": 0,
             "ticks": ""
            },
            "colorscale": [
             [
              0,
              "#0d0887"
             ],
             [
              0.1111111111111111,
              "#46039f"
             ],
             [
              0.2222222222222222,
              "#7201a8"
             ],
             [
              0.3333333333333333,
              "#9c179e"
             ],
             [
              0.4444444444444444,
              "#bd3786"
             ],
             [
              0.5555555555555556,
              "#d8576b"
             ],
             [
              0.6666666666666666,
              "#ed7953"
             ],
             [
              0.7777777777777778,
              "#fb9f3a"
             ],
             [
              0.8888888888888888,
              "#fdca26"
             ],
             [
              1,
              "#f0f921"
             ]
            ],
            "type": "histogram2dcontour"
           }
          ],
          "mesh3d": [
           {
            "colorbar": {
             "outlinewidth": 0,
             "ticks": ""
            },
            "type": "mesh3d"
           }
          ],
          "parcoords": [
           {
            "line": {
             "colorbar": {
              "outlinewidth": 0,
              "ticks": ""
             }
            },
            "type": "parcoords"
           }
          ],
          "pie": [
           {
            "automargin": true,
            "type": "pie"
           }
          ],
          "scatter": [
           {
            "fillpattern": {
             "fillmode": "overlay",
             "size": 10,
             "solidity": 0.2
            },
            "type": "scatter"
           }
          ],
          "scatter3d": [
           {
            "line": {
             "colorbar": {
              "outlinewidth": 0,
              "ticks": ""
             }
            },
            "marker": {
             "colorbar": {
              "outlinewidth": 0,
              "ticks": ""
             }
            },
            "type": "scatter3d"
           }
          ],
          "scattercarpet": [
           {
            "marker": {
             "colorbar": {
              "outlinewidth": 0,
              "ticks": ""
             }
            },
            "type": "scattercarpet"
           }
          ],
          "scattergeo": [
           {
            "marker": {
             "colorbar": {
              "outlinewidth": 0,
              "ticks": ""
             }
            },
            "type": "scattergeo"
           }
          ],
          "scattergl": [
           {
            "marker": {
             "colorbar": {
              "outlinewidth": 0,
              "ticks": ""
             }
            },
            "type": "scattergl"
           }
          ],
          "scattermapbox": [
           {
            "marker": {
             "colorbar": {
              "outlinewidth": 0,
              "ticks": ""
             }
            },
            "type": "scattermapbox"
           }
          ],
          "scatterpolar": [
           {
            "marker": {
             "colorbar": {
              "outlinewidth": 0,
              "ticks": ""
             }
            },
            "type": "scatterpolar"
           }
          ],
          "scatterpolargl": [
           {
            "marker": {
             "colorbar": {
              "outlinewidth": 0,
              "ticks": ""
             }
            },
            "type": "scatterpolargl"
           }
          ],
          "scatterternary": [
           {
            "marker": {
             "colorbar": {
              "outlinewidth": 0,
              "ticks": ""
             }
            },
            "type": "scatterternary"
           }
          ],
          "surface": [
           {
            "colorbar": {
             "outlinewidth": 0,
             "ticks": ""
            },
            "colorscale": [
             [
              0,
              "#0d0887"
             ],
             [
              0.1111111111111111,
              "#46039f"
             ],
             [
              0.2222222222222222,
              "#7201a8"
             ],
             [
              0.3333333333333333,
              "#9c179e"
             ],
             [
              0.4444444444444444,
              "#bd3786"
             ],
             [
              0.5555555555555556,
              "#d8576b"
             ],
             [
              0.6666666666666666,
              "#ed7953"
             ],
             [
              0.7777777777777778,
              "#fb9f3a"
             ],
             [
              0.8888888888888888,
              "#fdca26"
             ],
             [
              1,
              "#f0f921"
             ]
            ],
            "type": "surface"
           }
          ],
          "table": [
           {
            "cells": {
             "fill": {
              "color": "#EBF0F8"
             },
             "line": {
              "color": "white"
             }
            },
            "header": {
             "fill": {
              "color": "#C8D4E3"
             },
             "line": {
              "color": "white"
             }
            },
            "type": "table"
           }
          ]
         },
         "layout": {
          "annotationdefaults": {
           "arrowcolor": "#2a3f5f",
           "arrowhead": 0,
           "arrowwidth": 1
          },
          "autotypenumbers": "strict",
          "coloraxis": {
           "colorbar": {
            "outlinewidth": 0,
            "ticks": ""
           }
          },
          "colorscale": {
           "diverging": [
            [
             0,
             "#8e0152"
            ],
            [
             0.1,
             "#c51b7d"
            ],
            [
             0.2,
             "#de77ae"
            ],
            [
             0.3,
             "#f1b6da"
            ],
            [
             0.4,
             "#fde0ef"
            ],
            [
             0.5,
             "#f7f7f7"
            ],
            [
             0.6,
             "#e6f5d0"
            ],
            [
             0.7,
             "#b8e186"
            ],
            [
             0.8,
             "#7fbc41"
            ],
            [
             0.9,
             "#4d9221"
            ],
            [
             1,
             "#276419"
            ]
           ],
           "sequential": [
            [
             0,
             "#0d0887"
            ],
            [
             0.1111111111111111,
             "#46039f"
            ],
            [
             0.2222222222222222,
             "#7201a8"
            ],
            [
             0.3333333333333333,
             "#9c179e"
            ],
            [
             0.4444444444444444,
             "#bd3786"
            ],
            [
             0.5555555555555556,
             "#d8576b"
            ],
            [
             0.6666666666666666,
             "#ed7953"
            ],
            [
             0.7777777777777778,
             "#fb9f3a"
            ],
            [
             0.8888888888888888,
             "#fdca26"
            ],
            [
             1,
             "#f0f921"
            ]
           ],
           "sequentialminus": [
            [
             0,
             "#0d0887"
            ],
            [
             0.1111111111111111,
             "#46039f"
            ],
            [
             0.2222222222222222,
             "#7201a8"
            ],
            [
             0.3333333333333333,
             "#9c179e"
            ],
            [
             0.4444444444444444,
             "#bd3786"
            ],
            [
             0.5555555555555556,
             "#d8576b"
            ],
            [
             0.6666666666666666,
             "#ed7953"
            ],
            [
             0.7777777777777778,
             "#fb9f3a"
            ],
            [
             0.8888888888888888,
             "#fdca26"
            ],
            [
             1,
             "#f0f921"
            ]
           ]
          },
          "colorway": [
           "#636efa",
           "#EF553B",
           "#00cc96",
           "#ab63fa",
           "#FFA15A",
           "#19d3f3",
           "#FF6692",
           "#B6E880",
           "#FF97FF",
           "#FECB52"
          ],
          "font": {
           "color": "#2a3f5f"
          },
          "geo": {
           "bgcolor": "white",
           "lakecolor": "white",
           "landcolor": "#E5ECF6",
           "showlakes": true,
           "showland": true,
           "subunitcolor": "white"
          },
          "hoverlabel": {
           "align": "left"
          },
          "hovermode": "closest",
          "mapbox": {
           "style": "light"
          },
          "paper_bgcolor": "white",
          "plot_bgcolor": "#E5ECF6",
          "polar": {
           "angularaxis": {
            "gridcolor": "white",
            "linecolor": "white",
            "ticks": ""
           },
           "bgcolor": "#E5ECF6",
           "radialaxis": {
            "gridcolor": "white",
            "linecolor": "white",
            "ticks": ""
           }
          },
          "scene": {
           "xaxis": {
            "backgroundcolor": "#E5ECF6",
            "gridcolor": "white",
            "gridwidth": 2,
            "linecolor": "white",
            "showbackground": true,
            "ticks": "",
            "zerolinecolor": "white"
           },
           "yaxis": {
            "backgroundcolor": "#E5ECF6",
            "gridcolor": "white",
            "gridwidth": 2,
            "linecolor": "white",
            "showbackground": true,
            "ticks": "",
            "zerolinecolor": "white"
           },
           "zaxis": {
            "backgroundcolor": "#E5ECF6",
            "gridcolor": "white",
            "gridwidth": 2,
            "linecolor": "white",
            "showbackground": true,
            "ticks": "",
            "zerolinecolor": "white"
           }
          },
          "shapedefaults": {
           "line": {
            "color": "#2a3f5f"
           }
          },
          "ternary": {
           "aaxis": {
            "gridcolor": "white",
            "linecolor": "white",
            "ticks": ""
           },
           "baxis": {
            "gridcolor": "white",
            "linecolor": "white",
            "ticks": ""
           },
           "bgcolor": "#E5ECF6",
           "caxis": {
            "gridcolor": "white",
            "linecolor": "white",
            "ticks": ""
           }
          },
          "title": {
           "x": 0.05
          },
          "xaxis": {
           "automargin": true,
           "gridcolor": "white",
           "linecolor": "white",
           "ticks": "",
           "title": {
            "standoff": 15
           },
           "zerolinecolor": "white",
           "zerolinewidth": 2
          },
          "yaxis": {
           "automargin": true,
           "gridcolor": "white",
           "linecolor": "white",
           "ticks": "",
           "title": {
            "standoff": 15
           },
           "zerolinecolor": "white",
           "zerolinewidth": 2
          }
         }
        },
        "title": {
         "text": "Average Revenue by city. Size is the avg number of employees"
        },
        "width": 1100
       }
      }
     },
     "metadata": {},
     "output_type": "display_data"
    }
   ],
   "source": [
    "import plotly.express as px\n",
    "\n",
    "fig = px.scatter_mapbox(df_grouped_by_city, \n",
    "                        lon=df_grouped_by_city['city_longitude'],\n",
    "                        lat=df_grouped_by_city['city_latitude'],\n",
    "                        zoom=3,\n",
    "                        color=df_grouped_by_city['last_year_revenue'],\n",
    "                        size=list(df_grouped_by_city['num_employees']),\n",
    "                        width=1100,\n",
    "                        height=600,\n",
    "                        title='Average Revenue by city. Size is the avg number of employees',\n",
    "                        custom_data = ['city','population', 'num_employees', 'last_year_revenue', 'last_year_result_after_financial_assets'],\n",
    "                        )\n",
    "# hover_name='city',\n",
    "#                         hover_data=['population']\n",
    "fig.update_layout(mapbox_style=\"open-street-map\")\n",
    "fig.update_layout(margin={'r':0,'t':50,'l':0,'b':10})\n",
    "fig.update_traces(hovertemplate=\"\"\"<b>City: %{customdata[0]}</b><br>Population: %{customdata[1]}<br>Avg Employees: %{customdata[2]:.1f}<br>Last Year Avg Revenue: %{customdata[3]:.1f}<br>Last Year Avg Result After Financial Assets: %{customdata[4]:.1f}\"\"\")\n",
    "fig.show() "
   ]
  },
  {
   "cell_type": "code",
   "execution_count": 106,
   "metadata": {},
   "outputs": [
    {
     "data": {
      "text/html": [
       "<div>\n",
       "<style scoped>\n",
       "    .dataframe tbody tr th:only-of-type {\n",
       "        vertical-align: middle;\n",
       "    }\n",
       "\n",
       "    .dataframe tbody tr th {\n",
       "        vertical-align: top;\n",
       "    }\n",
       "\n",
       "    .dataframe thead th {\n",
       "        text-align: right;\n",
       "    }\n",
       "</style>\n",
       "<table border=\"1\" class=\"dataframe\">\n",
       "  <thead>\n",
       "    <tr style=\"text-align: right;\">\n",
       "      <th></th>\n",
       "      <th>city</th>\n",
       "      <th>num_employees</th>\n",
       "      <th>last_year_revenue</th>\n",
       "      <th>last_year_result_after_financial_assets</th>\n",
       "      <th>cash_flow_percent</th>\n",
       "      <th>profit_margin_percent</th>\n",
       "      <th>solidity_percent</th>\n",
       "      <th>address_latitude</th>\n",
       "      <th>address_longitude</th>\n",
       "      <th>city_latitude</th>\n",
       "      <th>city_longitude</th>\n",
       "      <th>population</th>\n",
       "    </tr>\n",
       "  </thead>\n",
       "  <tbody>\n",
       "    <tr>\n",
       "      <th>153</th>\n",
       "      <td>Vara</td>\n",
       "      <td>5.0</td>\n",
       "      <td>9863.0</td>\n",
       "      <td>971.0</td>\n",
       "      <td>87.40</td>\n",
       "      <td>12.80</td>\n",
       "      <td>27.60</td>\n",
       "      <td>58.261692</td>\n",
       "      <td>12.953938</td>\n",
       "      <td>58.26266</td>\n",
       "      <td>12.95348</td>\n",
       "      <td>16163.0</td>\n",
       "    </tr>\n",
       "    <tr>\n",
       "      <th>72</th>\n",
       "      <td>Laxå</td>\n",
       "      <td>4.0</td>\n",
       "      <td>9742.0</td>\n",
       "      <td>425.0</td>\n",
       "      <td>187.90</td>\n",
       "      <td>15.20</td>\n",
       "      <td>20.00</td>\n",
       "      <td>58.981527</td>\n",
       "      <td>14.624649</td>\n",
       "      <td>58.98735</td>\n",
       "      <td>14.62067</td>\n",
       "      <td>5576.0</td>\n",
       "    </tr>\n",
       "    <tr>\n",
       "      <th>34</th>\n",
       "      <td>Habo</td>\n",
       "      <td>7.5</td>\n",
       "      <td>9027.0</td>\n",
       "      <td>287.5</td>\n",
       "      <td>93.50</td>\n",
       "      <td>3.90</td>\n",
       "      <td>25.55</td>\n",
       "      <td>57.907367</td>\n",
       "      <td>14.075373</td>\n",
       "      <td>59.56954</td>\n",
       "      <td>17.52867</td>\n",
       "      <td>13128.0</td>\n",
       "    </tr>\n",
       "    <tr>\n",
       "      <th>19</th>\n",
       "      <td>Ekerö</td>\n",
       "      <td>5.0</td>\n",
       "      <td>9011.0</td>\n",
       "      <td>22.0</td>\n",
       "      <td>60.10</td>\n",
       "      <td>0.20</td>\n",
       "      <td>10.60</td>\n",
       "      <td>59.274771</td>\n",
       "      <td>17.785241</td>\n",
       "      <td>59.29117</td>\n",
       "      <td>17.80709</td>\n",
       "      <td>29123.0</td>\n",
       "    </tr>\n",
       "    <tr>\n",
       "      <th>169</th>\n",
       "      <td>Åre</td>\n",
       "      <td>9.0</td>\n",
       "      <td>8882.5</td>\n",
       "      <td>549.5</td>\n",
       "      <td>99.55</td>\n",
       "      <td>6.75</td>\n",
       "      <td>65.00</td>\n",
       "      <td>63.377464</td>\n",
       "      <td>13.156519</td>\n",
       "      <td>63.39964</td>\n",
       "      <td>13.07865</td>\n",
       "      <td>12330.0</td>\n",
       "    </tr>\n",
       "  </tbody>\n",
       "</table>\n",
       "</div>"
      ],
      "text/plain": [
       "      city  num_employees  last_year_revenue  \\\n",
       "153   Vara            5.0             9863.0   \n",
       "72    Laxå            4.0             9742.0   \n",
       "34    Habo            7.5             9027.0   \n",
       "19   Ekerö            5.0             9011.0   \n",
       "169    Åre            9.0             8882.5   \n",
       "\n",
       "     last_year_result_after_financial_assets  cash_flow_percent  \\\n",
       "153                                    971.0              87.40   \n",
       "72                                     425.0             187.90   \n",
       "34                                     287.5              93.50   \n",
       "19                                      22.0              60.10   \n",
       "169                                    549.5              99.55   \n",
       "\n",
       "     profit_margin_percent  solidity_percent  address_latitude  \\\n",
       "153                  12.80             27.60         58.261692   \n",
       "72                   15.20             20.00         58.981527   \n",
       "34                    3.90             25.55         57.907367   \n",
       "19                    0.20             10.60         59.274771   \n",
       "169                   6.75             65.00         63.377464   \n",
       "\n",
       "     address_longitude  city_latitude  city_longitude  population  \n",
       "153          12.953938       58.26266        12.95348     16163.0  \n",
       "72           14.624649       58.98735        14.62067      5576.0  \n",
       "34           14.075373       59.56954        17.52867     13128.0  \n",
       "19           17.785241       59.29117        17.80709     29123.0  \n",
       "169          13.156519       63.39964        13.07865     12330.0  "
      ]
     },
     "execution_count": 106,
     "metadata": {},
     "output_type": "execute_result"
    }
   ],
   "source": [
    "# Top cities with max last_year_revenue\n",
    "df_grouped_by_city.sort_values(by='last_year_revenue', ascending=False).head()"
   ]
  },
  {
   "cell_type": "code",
   "execution_count": 145,
   "metadata": {},
   "outputs": [
    {
     "data": {
      "application/vnd.plotly.v1+json": {
       "config": {
        "plotlyServerURL": "https://plot.ly"
       },
       "data": [
        {
         "customdata": [
          [
           "Alingsås",
           42199,
           3,
           3732,
           340
          ],
          [
           "Alvesta",
           20257,
           7,
           6191.5,
           237.5
          ],
          [
           "Aneby",
           6824,
           6,
           7026,
           679
          ],
          [
           "Arboga",
           14083,
           1.5,
           1638,
           -61.5
          ],
          [
           "Arjeplog",
           2667,
           4,
           3383,
           -37
          ],
          [
           "Arvidsjaur",
           6111,
           3,
           3474,
           417
          ],
          [
           "Arvika",
           25832,
           5,
           6033.333333333333,
           353.3333333333333
          ],
          [
           "Askersund",
           11497,
           6,
           6512,
           69
          ],
          [
           "Avesta",
           22932,
           0.5,
           1061.5,
           67
          ],
          [
           "Bengtsfors",
           9255,
           4,
           3536,
           -187
          ],
          [
           "Boden",
           28048,
           4,
           3798,
           212.5
          ],
          [
           "Bollebygd",
           9703,
           4,
           4226,
           880
          ],
          [
           "Borgholm",
           10857,
           3,
           4607,
           416
          ],
          [
           "Borlänge",
           52178,
           2.3333333333333335,
           2689.6666666666665,
           87
          ],
          [
           "Borås",
           114445,
           3.7142857142857144,
           4613.142857142857,
           87.57142857142857
          ],
          [
           "Boxholm",
           5498,
           6,
           6187,
           384
          ],
          [
           "Bromölla",
           12633,
           1.5,
           1566,
           -25
          ],
          [
           "Båstad",
           15824,
           2.5,
           2854.5,
           12
          ],
          [
           "Danderyd",
           32692,
           5.5,
           6092,
           204
          ],
          [
           "Ekerö",
           29123,
           5,
           9011,
           22
          ],
          [
           "Eksjö",
           17858,
           6,
           7232,
           76
          ],
          [
           "Emmaboda",
           9347,
           2,
           5809,
           929
          ],
          [
           "Eskilstuna",
           107918,
           2.6,
           3126.9,
           112.3
          ],
          [
           "Eslöv",
           34701,
           3,
           5678,
           272
          ],
          [
           "Fagersta",
           13341,
           2,
           1727.5,
           -601.5
          ],
          [
           "Falkenberg",
           47017,
           2.625,
           3454.25,
           433
          ],
          [
           "Falköping",
           33252,
           3,
           4197,
           856
          ],
          [
           "Falun",
           59818,
           1,
           623,
           -63
          ],
          [
           "Finspång",
           21903,
           3.3333333333333335,
           4785.666666666667,
           -77.66666666666667
          ],
          [
           "Gnosjö",
           9438,
           3,
           4841,
           1086
          ],
          [
           "Grums",
           9105,
           2,
           2796,
           269
          ],
          [
           "Gällivare",
           17420,
           3.3333333333333335,
           3697,
           370.3333333333333
          ],
          [
           "Gävle",
           103493,
           3.857142857142857,
           3663.4285714285716,
           192.42857142857142
          ],
          [
           "Göteborg",
           596841,
           3.52,
           3623.24,
           132.28
          ],
          [
           "Habo",
           13128,
           7.5,
           9027,
           287.5
          ],
          [
           "Hallstahammar",
           16711,
           2,
           2327,
           111
          ],
          [
           "Halmstad",
           105148,
           3.75,
           3049.375,
           161.625
          ],
          [
           "Haninge",
           97683,
           2,
           4315,
           57
          ],
          [
           "Haparanda",
           9340,
           5,
           4031,
           896
          ],
          [
           "Helsingborg",
           150975,
           3.7058823529411766,
           3729.705882352941,
           146.47058823529412
          ],
          [
           "Hjo",
           9243,
           2.5,
           3500,
           376
          ],
          [
           "Hofors",
           9472,
           3.5,
           3833,
           -96
          ],
          [
           "Huddinge",
           114504,
           5.5,
           7232.5,
           286
          ],
          [
           "Hudiksvall",
           37688,
           4.5,
           3906.5,
           139.5
          ],
          [
           "Hultsfred",
           14064,
           4,
           2532.5,
           450
          ],
          [
           "Härnösand",
           24879,
           12,
           8286,
           -119
          ],
          [
           "Hässleholm",
           52369,
           4.5,
           4505,
           161.5
          ],
          [
           "Höganäs",
           28103,
           2,
           2664,
           50.5
          ],
          [
           "Höör",
           17297,
           4,
           3473,
           26
          ],
          [
           "Järfälla",
           85460,
           2.1666666666666665,
           2264.1666666666665,
           -50.666666666666664
          ],
          [
           "Jönköping",
           145114,
           3.2666666666666666,
           3546.0666666666666,
           96.46666666666667
          ],
          [
           "Kalix",
           15729,
           8,
           7899,
           920
          ],
          [
           "Kalmar",
           72018,
           4.571428571428571,
           4325.714285714285,
           355.14285714285717
          ],
          [
           "Karlshamn",
           32216,
           4,
           5499,
           -386
          ],
          [
           "Karlskoga",
           30278,
           5.666666666666667,
           6119.666666666667,
           135.33333333333334
          ],
          [
           "Karlskrona",
           66682,
           4.5,
           4737.5,
           312.25
          ],
          [
           "Karlstad",
           96466,
           2.9,
           3490.5,
           95
          ],
          [
           "Katrineholm",
           34604,
           6,
           6006.5,
           363
          ],
          [
           "Kil",
           12115,
           3,
           3195.3333333333335,
           122.66666666666667
          ],
          [
           "Kiruna",
           22423,
           3.5,
           2639.5,
           158.5
          ],
          [
           "Klippan",
           17865,
           3.3333333333333335,
           4028,
           190.33333333333334
          ],
          [
           "Knivsta",
           20133,
           5,
           4989,
           574
          ],
          [
           "Kramfors",
           17904,
           4,
           5196,
           676
          ],
          [
           "Kristianstad",
           86738,
           3.25,
           3498.5,
           221.75
          ],
          [
           "Kristinehamn",
           24053,
           3.3333333333333335,
           3532,
           97.66666666666667
          ],
          [
           "Krokom",
           15532,
           5,
           4131,
           7
          ],
          [
           "Kumla",
           22479,
           3.75,
           3747,
           297.25
          ],
          [
           "Kungsbacka",
           85801,
           4,
           795,
           416
          ],
          [
           "Kungälv",
           49068,
           4.666666666666667,
           3495,
           -18.333333333333332
          ],
          [
           "Kävlinge",
           32470,
           6,
           4876,
           -314
          ],
          [
           "Köping",
           26120,
           3.5,
           3874,
           72.5
          ],
          [
           "Laholm",
           26575,
           2,
           1505,
           194
          ],
          [
           "Laxå",
           5576,
           4,
           9742,
           425
          ],
          [
           "Lessebo",
           8485,
           4,
           3968,
           27
          ],
          [
           "Lidingö",
           48432,
           3.5,
           4591,
           42
          ],
          [
           "Lidköping",
           40457,
           5.5,
           6449.5,
           527.5
          ],
          [
           "Lilla Edet",
           14428,
           4,
           4526.5,
           130.5
          ],
          [
           "Lindesberg",
           23435,
           3.5,
           4243.5,
           158
          ],
          [
           "Linköping",
           166673,
           3.9,
           3929.4,
           -45.5
          ],
          [
           "Ljungby",
           28483,
           4,
           4629,
           227.2
          ],
          [
           "Ljusdal",
           18771,
           5.5,
           4821.5,
           277.5
          ],
          [
           "Lomma",
           24721,
           3,
           3159,
           237
          ],
          [
           "Ludvika",
           26353,
           5,
           5657.5,
           301
          ],
          [
           "Luleå",
           79244,
           3.7142857142857144,
           4523.857142857143,
           290.14285714285717
          ],
          [
           "Lund",
           128384,
           5.428571428571429,
           5481.714285714285,
           310.14285714285717
          ],
          [
           "Lysekil",
           14170,
           3,
           2320,
           557
          ],
          [
           "Malmö",
           357377,
           4.0476190476190474,
           4056.9523809523807,
           55.476190476190474
          ],
          [
           "Mariestad",
           24768,
           6,
           5979.333333333333,
           355.3333333333333
          ],
          [
           "Markaryd",
           10166,
           3,
           4225,
           921
          ],
          [
           "Mjölby",
           28471,
           4.5,
           4946,
           274
          ],
          [
           "Motala",
           43728,
           4.5,
           4927.5,
           178.5
          ],
          [
           "Mullsjö",
           7532,
           5.5,
           5297.5,
           262
          ],
          [
           "Munkfors",
           3701,
           2,
           2687,
           181
          ],
          [
           "Mölndal",
           70109,
           5.857142857142857,
           5232.142857142857,
           83.28571428571429
          ],
          [
           "Mönsterås",
           13276,
           1,
           1263,
           235
          ],
          [
           "Nacka",
           109486,
           2.3333333333333335,
           2156.3333333333335,
           -19.666666666666668
          ],
          [
           "Nora",
           10701,
           5,
           6745,
           96
          ],
          [
           "Norberg",
           5627,
           1,
           2855,
           325
          ],
          [
           "Nordmaling",
           7066,
           1,
           101,
           -201
          ],
          [
           "Norrköping",
           145120,
           2.7777777777777777,
           2898.8888888888887,
           13.11111111111111
          ],
          [
           "Norrtälje",
           65587,
           7,
           8743,
           -70
          ],
          [
           "Norsjö",
           3947,
           2,
           3453,
           481
          ],
          [
           "Nybro",
           20303,
           8,
           8472,
           281
          ],
          [
           "Nyköping",
           58021,
           3,
           2981.6666666666665,
           203.33333333333334
          ],
          [
           "Nynäshamn",
           30043,
           10,
           5641,
           143
          ],
          [
           "Nässjö",
           31944,
           3.6666666666666665,
           4412.333333333333,
           329.3333333333333
          ],
          [
           "Ockelbo",
           5821,
           2,
           2967,
           440
          ],
          [
           "Osby",
           13238,
           6,
           5414,
           637
          ],
          [
           "Oskarshamn",
           27028,
           2.5,
           2624.25,
           476.75
          ],
          [
           "Pajala",
           5883,
           5,
           5728,
           347
          ],
          [
           "Piteå",
           42362,
           2,
           1900,
           -14
          ],
          [
           "Ronneby",
           29169,
           2,
           1923,
           -48
          ],
          [
           "Rättvik",
           11092,
           10,
           8133,
           -244
          ],
          [
           "Sandviken",
           39098,
           2,
           1944.5,
           194.5
          ],
          [
           "Simrishamn",
           19074,
           3,
           5903.5,
           64.5
          ],
          [
           "Sjöbo",
           19547,
           4.5,
           8835,
           480.5
          ],
          [
           "Skara",
           18755,
           3.25,
           5285.75,
           111
          ],
          [
           "Skellefteå",
           74402,
           6.166666666666667,
           6522.833333333333,
           589.8333333333334
          ],
          [
           "Skurup",
           16731,
           3,
           2563,
           209
          ],
          [
           "Skövde",
           57463,
           2.3333333333333335,
           3236,
           167.66666666666666
          ],
          [
           "Sollefteå",
           18667,
           4.5,
           5439,
           456.5
          ],
          [
           "Sollentuna",
           76237,
           3,
           3436.2,
           -76.4
          ],
          [
           "Solna",
           85450,
           4.4,
           4589.3,
           200.9
          ],
          [
           "Staffanstorp",
           26778,
           3.5,
           3572,
           220.5
          ],
          [
           "Stenungsund",
           27870,
           3,
           4074,
           147
          ],
          [
           "Stockholm",
           984748,
           4.076923076923077,
           4347.5641025641025,
           11.794871794871796
          ],
          [
           "Strängnäs",
           38526,
           3,
           3617,
           246
          ],
          [
           "Strömstad",
           13290,
           3,
           3177.8571428571427,
           -43
          ],
          [
           "Strömsund",
           11397,
           8,
           6509,
           406
          ],
          [
           "Sundbyberg",
           54070,
           6,
           7798,
           391.5
          ],
          [
           "Sundsvall",
           99361,
           2.5,
           3577.25,
           197
          ],
          [
           "Sunne",
           13418,
           7,
           8514,
           329
          ],
          [
           "Svedala",
           23288,
           7.5,
           6858.5,
           219
          ],
          [
           "Sävsjö",
           11771,
           1,
           1159,
           -142
          ],
          [
           "Söderhamn",
           25258,
           3.5,
           4828,
           206.5
          ],
          [
           "Södertälje",
           102426,
           3.6363636363636362,
           4141.545454545455,
           134
          ],
          [
           "Sölvesborg",
           17514,
           3.25,
           2967.5,
           -42
          ],
          [
           "Tidaholm",
           12839,
           5,
           5579,
           51
          ],
          [
           "Tierp",
           21406,
           2,
           1079,
           53
          ],
          [
           "Tingsryd",
           12297,
           1.5,
           1984.5,
           136
          ],
          [
           "Tranemo",
           11940,
           5,
           4128,
           267
          ],
          [
           "Tranås",
           18804,
           5,
           4881,
           376
          ],
          [
           "Trelleborg",
           46649,
           5.5,
           6632.5,
           362
          ],
          [
           "Trollhättan",
           59274,
           3.2857142857142856,
           3477.285714285714,
           187.85714285714286
          ],
          [
           "Tyresö",
           49214,
           4.75,
           3554,
           81.75
          ],
          [
           "Täby",
           75137,
           2.3333333333333335,
           4483.333333333333,
           288
          ],
          [
           "Uddevalla",
           57282,
           3.6666666666666665,
           4508.666666666667,
           254
          ],
          [
           "Ulricehamn",
           25108,
           2.5,
           2806.25,
           360.25
          ],
          [
           "Umeå",
           132235,
           3.6363636363636362,
           2958.090909090909,
           175.9090909090909
          ],
          [
           "Upplands Väsby",
           49262,
           5.857142857142857,
           6064.428571428572,
           -27.857142857142858
          ],
          [
           "Uppsala",
           242140,
           4.444444444444445,
           3885.8333333333335,
           121.55555555555556
          ],
          [
           "Vaggeryd",
           14854,
           4,
           5374,
           1059
          ],
          [
           "Valdemarsvik",
           7630,
           1,
           927,
           -21
          ],
          [
           "Vara",
           16163,
           5,
           9863,
           971
          ],
          [
           "Varberg",
           67800,
           2.75,
           2972.625,
           12.875
          ],
          [
           "Vaxholm",
           11899,
           3.5,
           4053.5,
           155
          ],
          [
           "Vetlanda",
           27673,
           2,
           2313,
           49
          ],
          [
           "Vilhelmina",
           6393,
           3,
           2835,
           335
          ],
          [
           "Vimmerby",
           15557,
           5,
           6892,
           712
          ],
          [
           "Vänersborg",
           39904,
           5,
           5090,
           40
          ],
          [
           "Vännäs",
           8963,
           2,
           3635,
           336
          ],
          [
           "Värnamo",
           34692,
           5,
           4221.666666666667,
           121.66666666666667
          ],
          [
           "Västerås",
           158653,
           3.0476190476190474,
           3843.285714285714,
           196.33333333333334
          ],
          [
           "Växjö",
           97137,
           3.7,
           4081.4,
           237
          ],
          [
           "Ystad",
           31714,
           3,
           2589,
           -374
          ],
          [
           "Älmhult",
           18092,
           3,
           3921,
           311
          ],
          [
           "Älvdalen",
           7018,
           3,
           3530,
           432
          ],
          [
           "Ängelholm",
           44268,
           4,
           3105,
           302.5
          ],
          [
           "Åmål",
           12216,
           2,
           1961,
           30
          ],
          [
           "Åre",
           12330,
           9,
           8882.5,
           549.5
          ],
          [
           "Årjäng",
           9914,
           3,
           3663.5,
           -182.5
          ],
          [
           "Åstorp",
           16341,
           3,
           4965,
           551
          ],
          [
           "Åtvidaberg",
           11506,
           3,
           3874,
           701
          ],
          [
           "Örebro",
           158057,
           4.125,
           4175.125,
           -62.875
          ],
          [
           "Östersund",
           64714,
           7,
           6101.666666666667,
           114.33333333333333
          ],
          [
           "Östhammar",
           22344,
           1.5,
           2051.5,
           163
          ]
         ],
         "hovertemplate": "<b>City: %{customdata[0]}</b><br>Population: %{customdata[1]}<br>Avg Employees: %{customdata[2]:.1f}<br>Last Year Avg Revenue: %{customdata[3]:.1f}<br>Last Year Avg Result After Financial Assets: %{customdata[4]:.1f}",
         "lat": [
          57.92963,
          56.90211,
          57.83955,
          59.39615,
          66.05213,
          65.59012,
          59.6539,
          58.88744,
          60.14381,
          59.03021,
          65.82481,
          57.66873,
          56.87936,
          60.4838,
          57.72008999999999,
          58.19689,
          56.07337,
          56.42869,
          59.39892,
          59.29117,
          57.66697,
          56.63024,
          59.37236,
          55.83947,
          60.00301,
          56.9057,
          58.16206,
          60.60442,
          58.70834,
          57.35827,
          59.35262,
          67.13319,
          60.67366,
          57.70067,
          59.56954,
          59.61291,
          56.67226,
          59.16986,
          65.83546,
          56.04399,
          58.30509,
          60.54945,
          59.2349,
          61.72891,
          57.48865,
          62.63353,
          56.15728,
          56.19993,
          55.93541,
          59.42238,
          57.77976,
          65.85511,
          56.66613,
          56.16972,
          59.32662,
          56.16067,
          59.3805,
          58.99286,
          59.50429,
          67.85552,
          56.13496,
          59.7256,
          62.93142,
          56.03099,
          59.30949999999999,
          63.32659,
          59.12769,
          57.48923,
          57.87033,
          55.78976,
          59.51479,
          56.5135,
          58.98735,
          56.75137,
          59.36523,
          58.50331,
          58.13459,
          59.59291,
          58.41109,
          56.833420000000004,
          61.82938,
          55.67275,
          60.14952,
          65.58387,
          55.70664,
          58.27417,
          55.59669,
          58.709120000000006,
          56.46295,
          58.32601,
          58.53646,
          57.91491,
          59.83534,
          57.65473000000001,
          57.04051,
          59.3111,
          59.51925,
          60.06528,
          63.56984,
          58.58462,
          59.75959,
          64.91614,
          56.74581,
          58.75322,
          58.90388,
          57.65336,
          60.8902,
          56.37979,
          57.26499,
          67.21076,
          65.3201,
          56.2105,
          60.88472,
          60.62012,
          55.55613,
          55.63159,
          58.38466,
          64.74945,
          55.47959,
          58.391420000000004,
          63.16793,
          59.42925,
          59.35869,
          55.6502,
          58.06841,
          59.33257,
          59.37495,
          58.9387,
          63.85258,
          59.36217,
          62.38888,
          59.83754,
          55.50856,
          57.40192,
          61.30172,
          59.197160000000004,
          56.05295,
          58.17965,
          60.3435,
          56.52498,
          57.4856,
          58.03551,
          55.37561,
          58.2831,
          59.24371,
          59.444449999999996,
          58.35096000000001,
          57.79275,
          63.82529,
          59.519709999999996,
          59.85862,
          57.49918,
          58.20266,
          58.26266,
          57.10789,
          59.40188,
          57.42637,
          64.62407,
          57.66747,
          58.38189,
          63.91074,
          57.18641,
          59.609579999999994,
          56.87991000000001,
          55.43124,
          56.55294,
          61.22754,
          56.24272,
          59.0529,
          63.39964,
          59.39116,
          56.13451,
          58.20058,
          59.27084,
          63.178,
          60.25877
         ],
         "legendgroup": "",
         "lon": [
          12.532399999999999,
          14.55861,
          14.81813,
          15.84135,
          17.89029,
          19.18356,
          12.59093,
          14.91627,
          16.17163,
          12.22505,
          21.6889,
          12.57016,
          16.66016,
          15.43434,
          12.94526,
          15.0531,
          14.46771,
          12.84472,
          18.03677,
          17.80709,
          14.96951,
          15.54012,
          16.5164,
          13.30481,
          15.7946,
          12.49041,
          13.55474,
          15.62939,
          15.77659,
          13.732050000000001,
          13.11242,
          20.65721,
          17.14557,
          11.96822,
          17.52867,
          16.23136,
          12.8575,
          18.13855,
          24.13743,
          12.696110000000001,
          14.29273,
          16.28706,
          17.97859,
          17.10556,
          15.84101,
          17.93756,
          13.76362,
          12.56363,
          13.54027,
          17.83353,
          14.17648,
          23.14386,
          16.36394,
          14.86057,
          14.52648,
          15.58464,
          13.499370000000003,
          16.2103,
          13.319340000000002,
          20.22236,
          13.13285,
          17.78769,
          17.77551,
          14.15416,
          14.10597,
          14.448550000000001,
          15.14346,
          12.07848,
          11.98089,
          13.11031,
          15.99759,
          13.04402,
          14.62067,
          15.26987,
          18.13291,
          13.15843,
          12.12566,
          15.22846,
          15.625650000000002,
          13.938510000000003,
          16.08935,
          13.06797,
          15.1877,
          22.15221,
          13.18759,
          11.43157,
          13.0011,
          13.823749999999999,
          13.59682,
          15.13195,
          15.03537,
          13.87756,
          13.54397,
          12.01187,
          16.44621,
          18.16451,
          15.03905,
          15.92363,
          19.50046,
          16.19376,
          18.70289,
          19.47495,
          15.90608,
          17.00927,
          17.94644,
          14.69722,
          16.71709,
          13.99506,
          16.44883,
          23.36885,
          21.47392,
          15.28026,
          15.11899,
          16.77807,
          14.35034,
          13.706150000000001,
          13.43899,
          20.95586,
          13.50265,
          13.8472,
          17.26698,
          17.95179,
          18.00296,
          13.2051,
          11.82069,
          18.06683,
          17.02675,
          11.17124,
          15.55734,
          17.97128,
          17.30672,
          13.14378,
          13.23372,
          14.66414,
          17.0523,
          17.624,
          14.58356,
          13.95773,
          17.5149,
          14.97824,
          13.35442,
          14.9765,
          13.14748,
          12.28731,
          18.22914,
          18.07441,
          11.93264,
          13.41079,
          20.26059,
          17.90929,
          17.64373,
          14.14862,
          16.60162,
          12.95348,
          12.24901,
          18.35279,
          15.08506,
          16.66176,
          15.85453,
          12.324300000000001,
          19.7507,
          14.04242,
          16.54535,
          14.799430000000001,
          13.82827,
          14.14085,
          14.03958,
          12.86279,
          12.70442,
          13.07865,
          12.13245,
          12.94657,
          16.00084,
          15.21759,
          14.64277,
          18.36978
         ],
         "marker": {
          "color": [
           340,
           237.5,
           679,
           -61.5,
           -37,
           417,
           353.3333333333333,
           69,
           67,
           -187,
           212.5,
           880,
           416,
           87,
           87.57142857142857,
           384,
           -25,
           12,
           204,
           22,
           76,
           929,
           112.3,
           272,
           -601.5,
           433,
           856,
           -63,
           -77.66666666666667,
           1086,
           269,
           370.3333333333333,
           192.42857142857142,
           132.28,
           287.5,
           111,
           161.625,
           57,
           896,
           146.47058823529412,
           376,
           -96,
           286,
           139.5,
           450,
           -119,
           161.5,
           50.5,
           26,
           -50.666666666666664,
           96.46666666666667,
           920,
           355.14285714285717,
           -386,
           135.33333333333334,
           312.25,
           95,
           363,
           122.66666666666667,
           158.5,
           190.33333333333334,
           574,
           676,
           221.75,
           97.66666666666667,
           7,
           297.25,
           416,
           -18.333333333333332,
           -314,
           72.5,
           194,
           425,
           27,
           42,
           527.5,
           130.5,
           158,
           -45.5,
           227.2,
           277.5,
           237,
           301,
           290.14285714285717,
           310.14285714285717,
           557,
           55.476190476190474,
           355.3333333333333,
           921,
           274,
           178.5,
           262,
           181,
           83.28571428571429,
           235,
           -19.666666666666668,
           96,
           325,
           -201,
           13.11111111111111,
           -70,
           481,
           281,
           203.33333333333334,
           143,
           329.3333333333333,
           440,
           637,
           476.75,
           347,
           -14,
           -48,
           -244,
           194.5,
           64.5,
           480.5,
           111,
           589.8333333333334,
           209,
           167.66666666666666,
           456.5,
           -76.4,
           200.9,
           220.5,
           147,
           11.794871794871796,
           246,
           -43,
           406,
           391.5,
           197,
           329,
           219,
           -142,
           206.5,
           134,
           -42,
           51,
           53,
           136,
           267,
           376,
           362,
           187.85714285714286,
           81.75,
           288,
           254,
           360.25,
           175.9090909090909,
           -27.857142857142858,
           121.55555555555556,
           1059,
           -21,
           971,
           12.875,
           155,
           49,
           335,
           712,
           40,
           336,
           121.66666666666667,
           196.33333333333334,
           237,
           -374,
           311,
           432,
           302.5,
           30,
           549.5,
           -182.5,
           551,
           701,
           -62.875,
           114.33333333333333,
           163
          ],
          "coloraxis": "coloraxis",
          "size": [
           3,
           7,
           6,
           1.5,
           4,
           3,
           5,
           6,
           0.5,
           4,
           4,
           4,
           3,
           2.3333333333333335,
           3.7142857142857144,
           6,
           1.5,
           2.5,
           5.5,
           5,
           6,
           2,
           2.6,
           3,
           2,
           2.625,
           3,
           1,
           3.3333333333333335,
           3,
           2,
           3.3333333333333335,
           3.857142857142857,
           3.52,
           7.5,
           2,
           3.75,
           2,
           5,
           3.7058823529411766,
           2.5,
           3.5,
           5.5,
           4.5,
           4,
           12,
           4.5,
           2,
           4,
           2.1666666666666665,
           3.2666666666666666,
           8,
           4.571428571428571,
           4,
           5.666666666666667,
           4.5,
           2.9,
           6,
           3,
           3.5,
           3.3333333333333335,
           5,
           4,
           3.25,
           3.3333333333333335,
           5,
           3.75,
           4,
           4.666666666666667,
           6,
           3.5,
           2,
           4,
           4,
           3.5,
           5.5,
           4,
           3.5,
           3.9,
           4,
           5.5,
           3,
           5,
           3.7142857142857144,
           5.428571428571429,
           3,
           4.0476190476190474,
           6,
           3,
           4.5,
           4.5,
           5.5,
           2,
           5.857142857142857,
           1,
           2.3333333333333335,
           5,
           1,
           1,
           2.7777777777777777,
           7,
           2,
           8,
           3,
           10,
           3.6666666666666665,
           2,
           6,
           2.5,
           5,
           2,
           2,
           10,
           2,
           3,
           4.5,
           3.25,
           6.166666666666667,
           3,
           2.3333333333333335,
           4.5,
           3,
           4.4,
           3.5,
           3,
           4.076923076923077,
           3,
           3,
           8,
           6,
           2.5,
           7,
           7.5,
           1,
           3.5,
           3.6363636363636362,
           3.25,
           5,
           2,
           1.5,
           5,
           5,
           5.5,
           3.2857142857142856,
           4.75,
           2.3333333333333335,
           3.6666666666666665,
           2.5,
           3.6363636363636362,
           5.857142857142857,
           4.444444444444445,
           4,
           1,
           5,
           2.75,
           3.5,
           2,
           3,
           5,
           5,
           2,
           5,
           3.0476190476190474,
           3.7,
           3,
           3,
           3,
           4,
           2,
           9,
           3,
           3,
           3,
           4.125,
           7,
           1.5
          ],
          "sizemode": "area",
          "sizeref": 0.03
         },
         "mode": "markers",
         "name": "",
         "showlegend": false,
         "subplot": "mapbox",
         "type": "scattermapbox"
        }
       ],
       "layout": {
        "coloraxis": {
         "colorbar": {
          "title": {
           "text": "last_year_result_after_financial_assets"
          }
         },
         "colorscale": [
          [
           0,
           "#0d0887"
          ],
          [
           0.1111111111111111,
           "#46039f"
          ],
          [
           0.2222222222222222,
           "#7201a8"
          ],
          [
           0.3333333333333333,
           "#9c179e"
          ],
          [
           0.4444444444444444,
           "#bd3786"
          ],
          [
           0.5555555555555556,
           "#d8576b"
          ],
          [
           0.6666666666666666,
           "#ed7953"
          ],
          [
           0.7777777777777778,
           "#fb9f3a"
          ],
          [
           0.8888888888888888,
           "#fdca26"
          ],
          [
           1,
           "#f0f921"
          ]
         ]
        },
        "height": 600,
        "legend": {
         "itemsizing": "constant",
         "tracegroupgap": 0
        },
        "mapbox": {
         "center": {
          "lat": 59.09735539772726,
          "lon": 15.4415575
         },
         "domain": {
          "x": [
           0,
           1
          ],
          "y": [
           0,
           1
          ]
         },
         "style": "open-street-map",
         "zoom": 3
        },
        "margin": {
         "b": 10,
         "l": 0,
         "r": 0,
         "t": 50
        },
        "template": {
         "data": {
          "bar": [
           {
            "error_x": {
             "color": "#2a3f5f"
            },
            "error_y": {
             "color": "#2a3f5f"
            },
            "marker": {
             "line": {
              "color": "#E5ECF6",
              "width": 0.5
             },
             "pattern": {
              "fillmode": "overlay",
              "size": 10,
              "solidity": 0.2
             }
            },
            "type": "bar"
           }
          ],
          "barpolar": [
           {
            "marker": {
             "line": {
              "color": "#E5ECF6",
              "width": 0.5
             },
             "pattern": {
              "fillmode": "overlay",
              "size": 10,
              "solidity": 0.2
             }
            },
            "type": "barpolar"
           }
          ],
          "carpet": [
           {
            "aaxis": {
             "endlinecolor": "#2a3f5f",
             "gridcolor": "white",
             "linecolor": "white",
             "minorgridcolor": "white",
             "startlinecolor": "#2a3f5f"
            },
            "baxis": {
             "endlinecolor": "#2a3f5f",
             "gridcolor": "white",
             "linecolor": "white",
             "minorgridcolor": "white",
             "startlinecolor": "#2a3f5f"
            },
            "type": "carpet"
           }
          ],
          "choropleth": [
           {
            "colorbar": {
             "outlinewidth": 0,
             "ticks": ""
            },
            "type": "choropleth"
           }
          ],
          "contour": [
           {
            "colorbar": {
             "outlinewidth": 0,
             "ticks": ""
            },
            "colorscale": [
             [
              0,
              "#0d0887"
             ],
             [
              0.1111111111111111,
              "#46039f"
             ],
             [
              0.2222222222222222,
              "#7201a8"
             ],
             [
              0.3333333333333333,
              "#9c179e"
             ],
             [
              0.4444444444444444,
              "#bd3786"
             ],
             [
              0.5555555555555556,
              "#d8576b"
             ],
             [
              0.6666666666666666,
              "#ed7953"
             ],
             [
              0.7777777777777778,
              "#fb9f3a"
             ],
             [
              0.8888888888888888,
              "#fdca26"
             ],
             [
              1,
              "#f0f921"
             ]
            ],
            "type": "contour"
           }
          ],
          "contourcarpet": [
           {
            "colorbar": {
             "outlinewidth": 0,
             "ticks": ""
            },
            "type": "contourcarpet"
           }
          ],
          "heatmap": [
           {
            "colorbar": {
             "outlinewidth": 0,
             "ticks": ""
            },
            "colorscale": [
             [
              0,
              "#0d0887"
             ],
             [
              0.1111111111111111,
              "#46039f"
             ],
             [
              0.2222222222222222,
              "#7201a8"
             ],
             [
              0.3333333333333333,
              "#9c179e"
             ],
             [
              0.4444444444444444,
              "#bd3786"
             ],
             [
              0.5555555555555556,
              "#d8576b"
             ],
             [
              0.6666666666666666,
              "#ed7953"
             ],
             [
              0.7777777777777778,
              "#fb9f3a"
             ],
             [
              0.8888888888888888,
              "#fdca26"
             ],
             [
              1,
              "#f0f921"
             ]
            ],
            "type": "heatmap"
           }
          ],
          "heatmapgl": [
           {
            "colorbar": {
             "outlinewidth": 0,
             "ticks": ""
            },
            "colorscale": [
             [
              0,
              "#0d0887"
             ],
             [
              0.1111111111111111,
              "#46039f"
             ],
             [
              0.2222222222222222,
              "#7201a8"
             ],
             [
              0.3333333333333333,
              "#9c179e"
             ],
             [
              0.4444444444444444,
              "#bd3786"
             ],
             [
              0.5555555555555556,
              "#d8576b"
             ],
             [
              0.6666666666666666,
              "#ed7953"
             ],
             [
              0.7777777777777778,
              "#fb9f3a"
             ],
             [
              0.8888888888888888,
              "#fdca26"
             ],
             [
              1,
              "#f0f921"
             ]
            ],
            "type": "heatmapgl"
           }
          ],
          "histogram": [
           {
            "marker": {
             "pattern": {
              "fillmode": "overlay",
              "size": 10,
              "solidity": 0.2
             }
            },
            "type": "histogram"
           }
          ],
          "histogram2d": [
           {
            "colorbar": {
             "outlinewidth": 0,
             "ticks": ""
            },
            "colorscale": [
             [
              0,
              "#0d0887"
             ],
             [
              0.1111111111111111,
              "#46039f"
             ],
             [
              0.2222222222222222,
              "#7201a8"
             ],
             [
              0.3333333333333333,
              "#9c179e"
             ],
             [
              0.4444444444444444,
              "#bd3786"
             ],
             [
              0.5555555555555556,
              "#d8576b"
             ],
             [
              0.6666666666666666,
              "#ed7953"
             ],
             [
              0.7777777777777778,
              "#fb9f3a"
             ],
             [
              0.8888888888888888,
              "#fdca26"
             ],
             [
              1,
              "#f0f921"
             ]
            ],
            "type": "histogram2d"
           }
          ],
          "histogram2dcontour": [
           {
            "colorbar": {
             "outlinewidth": 0,
             "ticks": ""
            },
            "colorscale": [
             [
              0,
              "#0d0887"
             ],
             [
              0.1111111111111111,
              "#46039f"
             ],
             [
              0.2222222222222222,
              "#7201a8"
             ],
             [
              0.3333333333333333,
              "#9c179e"
             ],
             [
              0.4444444444444444,
              "#bd3786"
             ],
             [
              0.5555555555555556,
              "#d8576b"
             ],
             [
              0.6666666666666666,
              "#ed7953"
             ],
             [
              0.7777777777777778,
              "#fb9f3a"
             ],
             [
              0.8888888888888888,
              "#fdca26"
             ],
             [
              1,
              "#f0f921"
             ]
            ],
            "type": "histogram2dcontour"
           }
          ],
          "mesh3d": [
           {
            "colorbar": {
             "outlinewidth": 0,
             "ticks": ""
            },
            "type": "mesh3d"
           }
          ],
          "parcoords": [
           {
            "line": {
             "colorbar": {
              "outlinewidth": 0,
              "ticks": ""
             }
            },
            "type": "parcoords"
           }
          ],
          "pie": [
           {
            "automargin": true,
            "type": "pie"
           }
          ],
          "scatter": [
           {
            "fillpattern": {
             "fillmode": "overlay",
             "size": 10,
             "solidity": 0.2
            },
            "type": "scatter"
           }
          ],
          "scatter3d": [
           {
            "line": {
             "colorbar": {
              "outlinewidth": 0,
              "ticks": ""
             }
            },
            "marker": {
             "colorbar": {
              "outlinewidth": 0,
              "ticks": ""
             }
            },
            "type": "scatter3d"
           }
          ],
          "scattercarpet": [
           {
            "marker": {
             "colorbar": {
              "outlinewidth": 0,
              "ticks": ""
             }
            },
            "type": "scattercarpet"
           }
          ],
          "scattergeo": [
           {
            "marker": {
             "colorbar": {
              "outlinewidth": 0,
              "ticks": ""
             }
            },
            "type": "scattergeo"
           }
          ],
          "scattergl": [
           {
            "marker": {
             "colorbar": {
              "outlinewidth": 0,
              "ticks": ""
             }
            },
            "type": "scattergl"
           }
          ],
          "scattermapbox": [
           {
            "marker": {
             "colorbar": {
              "outlinewidth": 0,
              "ticks": ""
             }
            },
            "type": "scattermapbox"
           }
          ],
          "scatterpolar": [
           {
            "marker": {
             "colorbar": {
              "outlinewidth": 0,
              "ticks": ""
             }
            },
            "type": "scatterpolar"
           }
          ],
          "scatterpolargl": [
           {
            "marker": {
             "colorbar": {
              "outlinewidth": 0,
              "ticks": ""
             }
            },
            "type": "scatterpolargl"
           }
          ],
          "scatterternary": [
           {
            "marker": {
             "colorbar": {
              "outlinewidth": 0,
              "ticks": ""
             }
            },
            "type": "scatterternary"
           }
          ],
          "surface": [
           {
            "colorbar": {
             "outlinewidth": 0,
             "ticks": ""
            },
            "colorscale": [
             [
              0,
              "#0d0887"
             ],
             [
              0.1111111111111111,
              "#46039f"
             ],
             [
              0.2222222222222222,
              "#7201a8"
             ],
             [
              0.3333333333333333,
              "#9c179e"
             ],
             [
              0.4444444444444444,
              "#bd3786"
             ],
             [
              0.5555555555555556,
              "#d8576b"
             ],
             [
              0.6666666666666666,
              "#ed7953"
             ],
             [
              0.7777777777777778,
              "#fb9f3a"
             ],
             [
              0.8888888888888888,
              "#fdca26"
             ],
             [
              1,
              "#f0f921"
             ]
            ],
            "type": "surface"
           }
          ],
          "table": [
           {
            "cells": {
             "fill": {
              "color": "#EBF0F8"
             },
             "line": {
              "color": "white"
             }
            },
            "header": {
             "fill": {
              "color": "#C8D4E3"
             },
             "line": {
              "color": "white"
             }
            },
            "type": "table"
           }
          ]
         },
         "layout": {
          "annotationdefaults": {
           "arrowcolor": "#2a3f5f",
           "arrowhead": 0,
           "arrowwidth": 1
          },
          "autotypenumbers": "strict",
          "coloraxis": {
           "colorbar": {
            "outlinewidth": 0,
            "ticks": ""
           }
          },
          "colorscale": {
           "diverging": [
            [
             0,
             "#8e0152"
            ],
            [
             0.1,
             "#c51b7d"
            ],
            [
             0.2,
             "#de77ae"
            ],
            [
             0.3,
             "#f1b6da"
            ],
            [
             0.4,
             "#fde0ef"
            ],
            [
             0.5,
             "#f7f7f7"
            ],
            [
             0.6,
             "#e6f5d0"
            ],
            [
             0.7,
             "#b8e186"
            ],
            [
             0.8,
             "#7fbc41"
            ],
            [
             0.9,
             "#4d9221"
            ],
            [
             1,
             "#276419"
            ]
           ],
           "sequential": [
            [
             0,
             "#0d0887"
            ],
            [
             0.1111111111111111,
             "#46039f"
            ],
            [
             0.2222222222222222,
             "#7201a8"
            ],
            [
             0.3333333333333333,
             "#9c179e"
            ],
            [
             0.4444444444444444,
             "#bd3786"
            ],
            [
             0.5555555555555556,
             "#d8576b"
            ],
            [
             0.6666666666666666,
             "#ed7953"
            ],
            [
             0.7777777777777778,
             "#fb9f3a"
            ],
            [
             0.8888888888888888,
             "#fdca26"
            ],
            [
             1,
             "#f0f921"
            ]
           ],
           "sequentialminus": [
            [
             0,
             "#0d0887"
            ],
            [
             0.1111111111111111,
             "#46039f"
            ],
            [
             0.2222222222222222,
             "#7201a8"
            ],
            [
             0.3333333333333333,
             "#9c179e"
            ],
            [
             0.4444444444444444,
             "#bd3786"
            ],
            [
             0.5555555555555556,
             "#d8576b"
            ],
            [
             0.6666666666666666,
             "#ed7953"
            ],
            [
             0.7777777777777778,
             "#fb9f3a"
            ],
            [
             0.8888888888888888,
             "#fdca26"
            ],
            [
             1,
             "#f0f921"
            ]
           ]
          },
          "colorway": [
           "#636efa",
           "#EF553B",
           "#00cc96",
           "#ab63fa",
           "#FFA15A",
           "#19d3f3",
           "#FF6692",
           "#B6E880",
           "#FF97FF",
           "#FECB52"
          ],
          "font": {
           "color": "#2a3f5f"
          },
          "geo": {
           "bgcolor": "white",
           "lakecolor": "white",
           "landcolor": "#E5ECF6",
           "showlakes": true,
           "showland": true,
           "subunitcolor": "white"
          },
          "hoverlabel": {
           "align": "left"
          },
          "hovermode": "closest",
          "mapbox": {
           "style": "light"
          },
          "paper_bgcolor": "white",
          "plot_bgcolor": "#E5ECF6",
          "polar": {
           "angularaxis": {
            "gridcolor": "white",
            "linecolor": "white",
            "ticks": ""
           },
           "bgcolor": "#E5ECF6",
           "radialaxis": {
            "gridcolor": "white",
            "linecolor": "white",
            "ticks": ""
           }
          },
          "scene": {
           "xaxis": {
            "backgroundcolor": "#E5ECF6",
            "gridcolor": "white",
            "gridwidth": 2,
            "linecolor": "white",
            "showbackground": true,
            "ticks": "",
            "zerolinecolor": "white"
           },
           "yaxis": {
            "backgroundcolor": "#E5ECF6",
            "gridcolor": "white",
            "gridwidth": 2,
            "linecolor": "white",
            "showbackground": true,
            "ticks": "",
            "zerolinecolor": "white"
           },
           "zaxis": {
            "backgroundcolor": "#E5ECF6",
            "gridcolor": "white",
            "gridwidth": 2,
            "linecolor": "white",
            "showbackground": true,
            "ticks": "",
            "zerolinecolor": "white"
           }
          },
          "shapedefaults": {
           "line": {
            "color": "#2a3f5f"
           }
          },
          "ternary": {
           "aaxis": {
            "gridcolor": "white",
            "linecolor": "white",
            "ticks": ""
           },
           "baxis": {
            "gridcolor": "white",
            "linecolor": "white",
            "ticks": ""
           },
           "bgcolor": "#E5ECF6",
           "caxis": {
            "gridcolor": "white",
            "linecolor": "white",
            "ticks": ""
           }
          },
          "title": {
           "x": 0.05
          },
          "xaxis": {
           "automargin": true,
           "gridcolor": "white",
           "linecolor": "white",
           "ticks": "",
           "title": {
            "standoff": 15
           },
           "zerolinecolor": "white",
           "zerolinewidth": 2
          },
          "yaxis": {
           "automargin": true,
           "gridcolor": "white",
           "linecolor": "white",
           "ticks": "",
           "title": {
            "standoff": 15
           },
           "zerolinecolor": "white",
           "zerolinewidth": 2
          }
         }
        },
        "title": {
         "text": "Last Year Avg Result After Financial Assets by city. Size is the avg number of employees"
        },
        "width": 1100
       }
      }
     },
     "metadata": {},
     "output_type": "display_data"
    }
   ],
   "source": [
    "fig = px.scatter_mapbox(df_grouped_by_city, \n",
    "                        lon=df_grouped_by_city['city_longitude'],\n",
    "                        lat=df_grouped_by_city['city_latitude'],\n",
    "                        zoom=3,\n",
    "                        color=df_grouped_by_city['last_year_result_after_financial_assets'],\n",
    "                        size=list(df_grouped_by_city['num_employees']),\n",
    "                        width=1100,\n",
    "                        height=600,\n",
    "                        title='Last Year Avg Result After Financial Assets by city. Size is the avg number of employees',\n",
    "                        custom_data = ['city','population', 'num_employees', 'last_year_revenue', 'last_year_result_after_financial_assets'])\n",
    "\n",
    "fig.update_layout(mapbox_style=\"open-street-map\")\n",
    "fig.update_layout(margin={'r':0,'t':50,'l':0,'b':10})\n",
    "fig.update_traces(hovertemplate=\"\"\"<b>City: %{customdata[0]}</b><br>Population: %{customdata[1]}<br>Avg Employees: %{customdata[2]:.1f}<br>Last Year Avg Revenue: %{customdata[3]:.1f}<br>Last Year Avg Result After Financial Assets: %{customdata[4]:.1f}\"\"\")\n",
    "fig.show() "
   ]
  },
  {
   "cell_type": "code",
   "execution_count": 107,
   "metadata": {},
   "outputs": [
    {
     "data": {
      "text/html": [
       "<div>\n",
       "<style scoped>\n",
       "    .dataframe tbody tr th:only-of-type {\n",
       "        vertical-align: middle;\n",
       "    }\n",
       "\n",
       "    .dataframe tbody tr th {\n",
       "        vertical-align: top;\n",
       "    }\n",
       "\n",
       "    .dataframe thead th {\n",
       "        text-align: right;\n",
       "    }\n",
       "</style>\n",
       "<table border=\"1\" class=\"dataframe\">\n",
       "  <thead>\n",
       "    <tr style=\"text-align: right;\">\n",
       "      <th></th>\n",
       "      <th>city</th>\n",
       "      <th>num_employees</th>\n",
       "      <th>last_year_revenue</th>\n",
       "      <th>last_year_result_after_financial_assets</th>\n",
       "      <th>cash_flow_percent</th>\n",
       "      <th>profit_margin_percent</th>\n",
       "      <th>solidity_percent</th>\n",
       "      <th>address_latitude</th>\n",
       "      <th>address_longitude</th>\n",
       "      <th>city_latitude</th>\n",
       "      <th>city_longitude</th>\n",
       "      <th>population</th>\n",
       "    </tr>\n",
       "  </thead>\n",
       "  <tbody>\n",
       "    <tr>\n",
       "      <th>29</th>\n",
       "      <td>Gnosjö</td>\n",
       "      <td>3.0</td>\n",
       "      <td>4841.0</td>\n",
       "      <td>1086.0</td>\n",
       "      <td>308.0</td>\n",
       "      <td>22.5</td>\n",
       "      <td>73.4</td>\n",
       "      <td>57.356749</td>\n",
       "      <td>13.731620</td>\n",
       "      <td>57.35827</td>\n",
       "      <td>13.73205</td>\n",
       "      <td>9438.0</td>\n",
       "    </tr>\n",
       "    <tr>\n",
       "      <th>151</th>\n",
       "      <td>Vaggeryd</td>\n",
       "      <td>4.0</td>\n",
       "      <td>5374.0</td>\n",
       "      <td>1059.0</td>\n",
       "      <td>721.4</td>\n",
       "      <td>19.7</td>\n",
       "      <td>86.6</td>\n",
       "      <td>57.503009</td>\n",
       "      <td>14.148700</td>\n",
       "      <td>57.49918</td>\n",
       "      <td>14.14862</td>\n",
       "      <td>14854.0</td>\n",
       "    </tr>\n",
       "    <tr>\n",
       "      <th>153</th>\n",
       "      <td>Vara</td>\n",
       "      <td>5.0</td>\n",
       "      <td>9863.0</td>\n",
       "      <td>971.0</td>\n",
       "      <td>87.4</td>\n",
       "      <td>12.8</td>\n",
       "      <td>27.6</td>\n",
       "      <td>58.261692</td>\n",
       "      <td>12.953938</td>\n",
       "      <td>58.26266</td>\n",
       "      <td>12.95348</td>\n",
       "      <td>16163.0</td>\n",
       "    </tr>\n",
       "    <tr>\n",
       "      <th>21</th>\n",
       "      <td>Emmaboda</td>\n",
       "      <td>2.0</td>\n",
       "      <td>5809.0</td>\n",
       "      <td>929.0</td>\n",
       "      <td>18.9</td>\n",
       "      <td>17.4</td>\n",
       "      <td>35.2</td>\n",
       "      <td>56.630432</td>\n",
       "      <td>15.536538</td>\n",
       "      <td>56.63024</td>\n",
       "      <td>15.54012</td>\n",
       "      <td>9347.0</td>\n",
       "    </tr>\n",
       "    <tr>\n",
       "      <th>88</th>\n",
       "      <td>Markaryd</td>\n",
       "      <td>3.0</td>\n",
       "      <td>4225.0</td>\n",
       "      <td>921.0</td>\n",
       "      <td>965.5</td>\n",
       "      <td>21.8</td>\n",
       "      <td>41.7</td>\n",
       "      <td>56.460904</td>\n",
       "      <td>13.598073</td>\n",
       "      <td>56.46295</td>\n",
       "      <td>13.59682</td>\n",
       "      <td>10166.0</td>\n",
       "    </tr>\n",
       "  </tbody>\n",
       "</table>\n",
       "</div>"
      ],
      "text/plain": [
       "         city  num_employees  last_year_revenue  \\\n",
       "29     Gnosjö            3.0             4841.0   \n",
       "151  Vaggeryd            4.0             5374.0   \n",
       "153      Vara            5.0             9863.0   \n",
       "21   Emmaboda            2.0             5809.0   \n",
       "88   Markaryd            3.0             4225.0   \n",
       "\n",
       "     last_year_result_after_financial_assets  cash_flow_percent  \\\n",
       "29                                    1086.0              308.0   \n",
       "151                                   1059.0              721.4   \n",
       "153                                    971.0               87.4   \n",
       "21                                     929.0               18.9   \n",
       "88                                     921.0              965.5   \n",
       "\n",
       "     profit_margin_percent  solidity_percent  address_latitude  \\\n",
       "29                    22.5              73.4         57.356749   \n",
       "151                   19.7              86.6         57.503009   \n",
       "153                   12.8              27.6         58.261692   \n",
       "21                    17.4              35.2         56.630432   \n",
       "88                    21.8              41.7         56.460904   \n",
       "\n",
       "     address_longitude  city_latitude  city_longitude  population  \n",
       "29           13.731620       57.35827        13.73205      9438.0  \n",
       "151          14.148700       57.49918        14.14862     14854.0  \n",
       "153          12.953938       58.26266        12.95348     16163.0  \n",
       "21           15.536538       56.63024        15.54012      9347.0  \n",
       "88           13.598073       56.46295        13.59682     10166.0  "
      ]
     },
     "execution_count": 107,
     "metadata": {},
     "output_type": "execute_result"
    }
   ],
   "source": [
    "# Top cities with max last_year_result_after_financial_assets\n",
    "df_grouped_by_city.sort_values(by='last_year_result_after_financial_assets', ascending=False).head()"
   ]
  },
  {
   "cell_type": "markdown",
   "metadata": {},
   "source": [
    "We can see that the restaurants with better results dont have so many employers and are in small cities, where population is between 9300 and 16200"
   ]
  }
 ],
 "metadata": {
  "kernelspec": {
   "display_name": "webscrapping-7cJ6Jy-h",
   "language": "python",
   "name": "python3"
  },
  "language_info": {
   "codemirror_mode": {
    "name": "ipython",
    "version": 3
   },
   "file_extension": ".py",
   "mimetype": "text/x-python",
   "name": "python",
   "nbconvert_exporter": "python",
   "pygments_lexer": "ipython3",
   "version": "3.10.10"
  },
  "orig_nbformat": 4
 },
 "nbformat": 4,
 "nbformat_minor": 2
}
